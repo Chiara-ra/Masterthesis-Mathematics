{
 "cells": [
  {
   "cell_type": "markdown",
   "id": "dfbd7d83",
   "metadata": {},
   "source": [
    "### About this Version\n",
    "\n",
    "After having talked to Herbert und Teresa (12.07.22) we have decided on a new-ish approach on how to tackle the problem with the primitive vector in 2d. This notebook copies part of the old versions, but is not a copy in itself, so that hopefully the result is a bit cleaner."
   ]
  },
  {
   "cell_type": "code",
   "execution_count": 1,
   "id": "3794b291",
   "metadata": {},
   "outputs": [],
   "source": [
    "import random as rd\n",
    "import numpy as np\n",
    "import numpy.linalg as la\n",
    "from math import gcd\n",
    "import sympy as sp"
   ]
  },
  {
   "cell_type": "code",
   "execution_count": 2,
   "id": "d7140355",
   "metadata": {
    "tags": []
   },
   "outputs": [],
   "source": [
    "def gcd3(a,b,c):\n",
    "    return gcd(gcd(a,b),c)\n",
    "\n",
    "def gcdExtended(a, b): \n",
    "    # Base Case \n",
    "    if a == 0 :  \n",
    "        return b,0,1\n",
    "\n",
    "    gcd, x1, y1 = gcdExtended(b%a, a) \n",
    "\n",
    "    # Update x and y using results of recursive \n",
    "    # call \n",
    "    x = y1 - (b//a) * x1 \n",
    "    y = x1 \n",
    "\n",
    "    return gcd,x,y\n",
    "\n",
    "def lcm(a, b):\n",
    "    return abs(a*b) // gcd(a, b)\n"
   ]
  },
  {
   "cell_type": "code",
   "execution_count": 3,
   "id": "e38c8588",
   "metadata": {
    "tags": []
   },
   "outputs": [],
   "source": [
    "def gen_int_basis(d=3, a=5):\n",
    "    # d is the dimension of the ambient space and the number of resulting vectors\n",
    "    # a is the maximum length of a resulting vector in the sup norm\n",
    "    basis = np.zeros((d,d),dtype=np.int32)\n",
    "    \n",
    "    det = la.det(basis)\n",
    "    counter = 0\n",
    "    \n",
    "    \n",
    "    while abs(det) < 1:\n",
    "        for i in range(d):\n",
    "            basis[:,i] = gen_int_vec(d,a) \n",
    "        \n",
    "        det = la.det(basis)\n",
    "        counter += 1\n",
    "        if counter == 100:\n",
    "            raise RuntimeError('Could not generate basis.')\n",
    "            break \n",
    "            \n",
    "    return basis\n",
    "\n",
    "def gen_int_vec(d=3, a=5):\n",
    "    vec = np.zeros(d,dtype=np.int32)\n",
    "    for i in range(d):\n",
    "        vec[i] = rd.randint(-a,a)\n",
    "    if False not in (vec == 0):\n",
    "        vec = gen_int_vec(d,a)\n",
    "        print(\"recalc gen_int_vec\")\n",
    "    return vec"
   ]
  },
  {
   "cell_type": "markdown",
   "id": "21cf5c1c",
   "metadata": {},
   "source": [
    "### Lemma 3.1 (Parallel Vectors). \n",
    "Let $Z \\subset \\mathbb Z^d$ be a sublattice with $\\mathrm{ dim} \\,Z = d$. Then for every\n",
    " $u \\in \\mathbb Z^d$, there exists a vector $v \\in Z$ that is parallel to $u$."
   ]
  },
  {
   "cell_type": "code",
   "execution_count": 4,
   "id": "af16cf50",
   "metadata": {},
   "outputs": [],
   "source": [
    "def L31_parallel_vectors(basis,u):\n",
    "    # function that takes basis (which generates sublattice Z) and vector v\n",
    "    # outputs vector u as linear combination of basis elements, which is parallel to v\n",
    "    # also outputs or at least explicitely calculates the coefficients involved\n",
    "    # input is numpy arrays, output is sympy matrices\n",
    "    G = basis\n",
    "    Gi = G**(-1)\n",
    "    denom_list = []\n",
    "    p = 1\n",
    "    for entry in Gi:\n",
    "        if entry.q not in denom_list:\n",
    "            denom_list.append(entry.q)\n",
    "            p *= entry.q\n",
    "    \n",
    "    up = p*Gi*u\n",
    "    v = G*up\n",
    "    if len(u)==3:\n",
    "        v = v / gcd3(up[0],up[1],up[2])\n",
    "        coeff = up / gcd3(up[0],up[1],up[2]) #dividng by gcd of coefficients gives us the shortest parallel vector in the span of the original basis\n",
    "    if len(u)==2:\n",
    "        v = v / gcd(up[0],up[1])\n",
    "        coeff = up / gcd(up[0],up[1])\n",
    "    \n",
    "    # to find shortest vector in the span of the new basis (four vectors), \n",
    "    # we find out the ratios of the two vectors \n",
    "    # get them to integer by multiplying with denominators\n",
    "    # calculate the gcd of the resulting numbers\n",
    "    # then divide the gcd (or the vector associated to it) by the denominator again\n",
    "    for i in range(len(u)):\n",
    "        if u[i]!=0:\n",
    "            num1 = v[i]\n",
    "            num2 = u[i]\n",
    "            denom = num1.q*num2.q\n",
    "            new_gcd, a, b = gcdExtended(num1*denom,num2*denom)\n",
    "            x = new_gcd / sp.sympify(num1.p*num2.q)\n",
    "            v = v/num1*new_gcd\n",
    "            coeff = coeff * a\n",
    "            u_coeff = b\n",
    "            break\n",
    "    \n",
    "    return v, coeff, u_coeff"
   ]
  },
  {
   "cell_type": "code",
   "execution_count": 14,
   "id": "1086d639",
   "metadata": {},
   "outputs": [],
   "source": [
    "# Next we perform orthogonal projection along v4\n",
    "\n",
    "\n",
    "def project(projector, projectee):\n",
    "    return projectee - projectee.dot(projector)/projector.dot(projector) * projector\n",
    "\n",
    "\n",
    "def proj_basis(basis, u):\n",
    "    l =[]\n",
    "    for i in range(len(u)):\n",
    "        l.append(project(u, basis[:,i])[:])\n",
    "    return sp.Matrix(l).T\n",
    "    \n",
    "    "
   ]
  },
  {
   "cell_type": "code",
   "execution_count": 6,
   "id": "f9cb04a5",
   "metadata": {
    "tags": []
   },
   "outputs": [],
   "source": [
    " def skip_corr_coord(Pv, u):\n",
    "    ind = np.argmax(np.abs(u))\n",
    "    Pv1_2 = skip_coord(Pv[:,0],ind)\n",
    "    Pv2_2 = skip_coord(Pv[:,1],ind)\n",
    "    Pv3_2 = skip_coord(Pv[:,2],ind)\n",
    "    \n",
    "    return sp.Matrix([Pv1_2[:],Pv2_2[:],Pv3_2[:]]).T\n",
    "\n",
    "\n",
    "\n",
    "def skip_coord(vec,n=1):\n",
    "    \"\"\"\n",
    "    Takes in 3-component vector and returns corresponding 2-component vector\n",
    "    given by removing the nth coordinate (n = 0,1,2).\n",
    "    \"\"\"\n",
    "    if n == 0:\n",
    "        new_vec = [vec[1],vec[2]]\n",
    "    elif n == 1:\n",
    "        new_vec = [vec[0],vec[2]]\n",
    "    elif n == 2:\n",
    "        new_vec = [vec[0],vec[1]]\n",
    "    \n",
    "    return sp.Matrix(new_vec)\n",
    "\n"
   ]
  },
  {
   "cell_type": "code",
   "execution_count": 7,
   "id": "2e7629d6-c550-4be4-92e5-da952f22c346",
   "metadata": {
    "tags": []
   },
   "outputs": [],
   "source": [
    "def lcm_mx(M):\n",
    "        \"\"\"\n",
    "        Takes sympy 2x2 matrix with rational coefficients and \n",
    "        returns lcm of denominators of all entries\n",
    "        \"\"\"\n",
    "        lcm_denom = M[0,0].q\n",
    "        for entry in M[:]:\n",
    "            lcm_denom = lcm(lcm_denom,entry.q)\n",
    "        return lcm_denom"
   ]
  },
  {
   "cell_type": "code",
   "execution_count": 8,
   "id": "81f1d852",
   "metadata": {
    "tags": []
   },
   "outputs": [],
   "source": [
    "\n",
    "# now that we have our 2-dimensional vectors,\n",
    "# we want to find a linearly dependent vector\n",
    "# once we have that, we want to find the primitive, as we did before\n",
    "def proj2induct_2d(Pv,u):\n",
    "    \"\"\"\n",
    "    Takes 3x3 sympy matrix with vectors projected to orthogonal complement\n",
    "    and returns \n",
    "    - a 2x2 sympy matrix (picks two linearly independant column vectors, skips one coordinate) \n",
    "    - 'additional' vector to perform next orth projection\n",
    "    \"\"\"\n",
    "    Pv_2d = skip_corr_coord(Pv,u)\n",
    "    \n",
    "    # search for vector to make new \"extra\"\n",
    "    for i in range(4): #this just remember the variable \"i\"\n",
    "        ind = [(i+1)%3,(i+2)%3]\n",
    "        if Pv_2d[:,ind].det() != 0:\n",
    "            true_i=i\n",
    "            break\n",
    "        \n",
    "        if i==3: # this is outside of range, meaning no subset is basis\n",
    "            print(\"something went wrong! No linear ind. subset found.\")\n",
    "            print(Pv)\n",
    "            print(Pv_2d)\n",
    "            \"\"\"\n",
    "            !!!!!\n",
    "            Put in Real Error Message\n",
    "            \"\"\"\n",
    "    \n",
    "    \n",
    "    u_2d = Pv_2d[:,true_i]\n",
    "    basis_2d = Pv_2d[:,ind]\n",
    "    \n",
    "    # determine lcm of denomiators\n",
    "    lcm_denom = lcm_mx(Pv_2d)\n",
    "    \n",
    "    # making stuff integer\n",
    "    v_2d, coeff_basis_2d, coeff_u_2d = L31_parallel_vectors(basis_2d*lcm_denom, u_2d*lcm_denom)\n",
    "    v_2d /= lcm_denom\n",
    "    \n",
    "\n",
    "    # calculate what coefficients of v are in the ORDER OF Pv, not Pv_2d!\n",
    "    prim_coeff = [0,0,0]\n",
    "    prim_coeff[ind[0]] = coeff_basis_2d[0]\n",
    "    prim_coeff[ind[1]] = coeff_basis_2d[1]\n",
    "    prim_coeff[true_i] = coeff_u_2d\n",
    "    \n",
    "    return basis_2d, u_2d, true_i, v_2d, prim_coeff\n",
    "    \n"
   ]
  },
  {
   "cell_type": "code",
   "execution_count": 9,
   "id": "4db34ac1",
   "metadata": {
    "tags": []
   },
   "outputs": [],
   "source": [
    "def nonzero_entry(vec):\n",
    "    for i in range(len(vec)):\n",
    "        if vec[i]!=0:\n",
    "            break\n",
    "    return i\n",
    "\n",
    "\n",
    "\n",
    "def gcd_of_2dvecs(vec_mx):\n",
    "    \"\"\"\n",
    "    Takes two 2d sympy vectors in form of a matrix and returns their gcd, \n",
    "    as well as the coefficients to build the gcd\n",
    "    \n",
    "    vec_mx       ... 2x2 matrix containing two column-vectors\n",
    "    new_1d_basis ... gcd of vectors in vec_mx\n",
    "    x, y         ... coefficients w.r.t. vectors in vec_mx\n",
    "    \"\"\"\n",
    "    \n",
    "    # look for a non-zero coordinate\n",
    "    i = nonzero_entry(vec_mx[:,0])\n",
    "    \n",
    "    # take lcm of denominators of the i'th entries\n",
    "    denoms = lcm_mx(vec_mx[i,:])\n",
    "\n",
    "    a = vec_mx[i,0]*denoms\n",
    "    b = vec_mx[i,1]*denoms\n",
    "    c, x,y = gcdExtended(a,b)\n",
    "    return x,y\n",
    "\n"
   ]
  },
  {
   "cell_type": "code",
   "execution_count": 10,
   "id": "25007e3a-9459-4e62-a361-6b9466af18c0",
   "metadata": {
    "tags": []
   },
   "outputs": [],
   "source": [
    "def conv_np2sp(basis,u):\n",
    "    return sp.Matrix(basis), sp.Matrix(u)\n",
    "\n",
    "def conv_sp2np(basis):\n",
    "    return np.array(basis).astype(np.float64)\n",
    "    \n"
   ]
  },
  {
   "cell_type": "code",
   "execution_count": 11,
   "id": "3529014c-fd5c-422f-adc8-2f40c16d716a",
   "metadata": {
    "tags": []
   },
   "outputs": [],
   "source": [
    "def common_superlattice(basis_np,u_np, p=False):\n",
    "    \"\"\"\n",
    "    Takes a 3x3 numpy matrix containing an integer basis,\n",
    "    as well as an additional numpy vector u.\n",
    "    Calculates integer basis of the superlattice spanned\n",
    "    by basis and u as 3x3 numpy matrix. \n",
    "    \"\"\"\n",
    "    \n",
    "    basis, u = conv_np2sp(basis_np, u_np)\n",
    "    \n",
    "    # caculate primitive of u in superlattice\n",
    "    v, coeff, u_coeff = L31_parallel_vectors(basis,u)\n",
    "    \n",
    "    # project basis to v_orth\n",
    "    Pbasis = proj_basis(basis,v)\n",
    "    # If vector in P(basis) is 0, then original vector is parallel to u  \n",
    "    # Pick gcd of both, which is be v.\n",
    "    for i in range(3):\n",
    "        if Pbasis[:,i].norm() == 0:\n",
    "            base1_3d = basis[:,(i+1)%3]\n",
    "            base2_3d = basis[:,(i+2)%3]\n",
    "            break\n",
    "            \n",
    "        elif i==2:\n",
    "            # reduce to 2 component vectors and get new basis and new u\n",
    "            Pbasis_2d, u_2d, u_2d_index, v_2d, v_2d_coeff = proj2induct_2d(Pbasis,v) \n",
    "            \n",
    "            # project basis_2d to v_2d_orth\n",
    "            PPbasis = proj_basis(Pbasis_2d,v_2d)\n",
    "            \n",
    "            # calculate gcd of projected vectors\n",
    "            x,y = gcd_of_2dvecs(PPbasis)\n",
    "            \n",
    "\n",
    "            # calculate basis of 3d space\n",
    "            base1_3d = basis[:,(u_2d_index+1)%3]*x + basis[:,(u_2d_index+2)%3]*y\n",
    "\n",
    "\n",
    "            base2_3d = 0*u # <-- u-component is 0\n",
    "            for i in range(3):\n",
    "                base2_3d += v_2d_coeff[i] * basis[:,i]\n",
    "    \n",
    "    base3_3d = coeff[0]*basis[:,0]+coeff[1]*basis[:,1]+coeff[2]*basis[:,2]+u_coeff*u\n",
    "    # is equivalent to: base3_3d=v\n",
    "\n",
    "    new_basis = sp.Matrix([base1_3d[:], base2_3d[:], base3_3d[:]]).T\n",
    "    \n",
    "    if p:\n",
    "        print(\"Final basis:\")\n",
    "        sp.pprint(new_basis)\n",
    "\n",
    "        print(\"Original spanning set:\")\n",
    "        sp.pprint(basis)\n",
    "        sp.pprint(u)\n",
    "    \n",
    "    return conv_sp2np(new_basis)\n",
    "    "
   ]
  },
  {
   "cell_type": "markdown",
   "id": "c086433f-6b24-4b11-a43a-1cdfa08a6c81",
   "metadata": {},
   "source": [
    "### Check system of linear equations to see if old spanning set is integer combination of new basis"
   ]
  },
  {
   "cell_type": "code",
   "execution_count": 12,
   "id": "8a07a2ee-b0f7-4fa8-8fd4-401529b36865",
   "metadata": {
    "tags": []
   },
   "outputs": [],
   "source": [
    "def check_reexpressibility(new_basis, old_basis, u, p=False):\n",
    "    \"\"\"\n",
    "    Takes 3x3 numpy matrix new_basis,\n",
    "          3x3 numpy matrix old_basis,\n",
    "          3x1 numpy vector u.\n",
    "          \n",
    "    Returns the coefficients of old_basis\n",
    "    and u in terms of vectors in new_basis.\n",
    "    \"\"\"\n",
    "    r = True\n",
    "    for i in range(3):  \n",
    "        if p:\n",
    "            print(f\"Coefficient of old basis vector {i}\")\n",
    "        x = check_coeff(new_basis, old_basis[:,i],p)\n",
    "        r = r and comp2round(x)\n",
    "    \n",
    "    if p:\n",
    "        print(\"Coefficient of u\")\n",
    "    x = check_coeff(new_basis, u,p)\n",
    "    r = r and comp2round(x)\n",
    "    return r\n",
    "\n",
    "def check_coeff(A, b, p=False):\n",
    "    x = np.linalg.solve(A, b)\n",
    "    if p:\n",
    "        print(np.around(x,6))\n",
    "    return x\n",
    "\n",
    "def comp2round(x,eps=1e-6):\n",
    "    return la.norm(x-np.around(x))<eps"
   ]
  },
  {
   "cell_type": "markdown",
   "id": "e784238c-4aee-4a8c-9656-23575d372996",
   "metadata": {},
   "source": [
    "## Start example"
   ]
  },
  {
   "cell_type": "code",
   "execution_count": 24,
   "id": "ee6d59fe",
   "metadata": {
    "tags": []
   },
   "outputs": [
    {
     "name": "stdout",
     "output_type": "stream",
     "text": [
      "Final basis:\n",
      "⎡-122  5   4 ⎤\n",
      "⎢            ⎥\n",
      "⎢ 29   3   4 ⎥\n",
      "⎢            ⎥\n",
      "⎣-93   -3  -5⎦\n",
      "Original spanning set:\n",
      "⎡5   -1  -4⎤\n",
      "⎢          ⎥\n",
      "⎢3   -2  5 ⎥\n",
      "⎢          ⎥\n",
      "⎣-3  -3  1 ⎦\n",
      "⎡4 ⎤\n",
      "⎢  ⎥\n",
      "⎢4 ⎥\n",
      "⎢  ⎥\n",
      "⎣-5⎦\n",
      "Coefficient of old basis vector 0\n",
      "[ 0.  1. -0.]\n",
      "Coefficient of old basis vector 1\n",
      "[   47.  3549. -3003.]\n",
      "Coefficient of old basis vector 2\n",
      "[  -85. -6422.  5434.]\n",
      "Coefficient of u\n",
      "[-0. -0.  1.]\n"
     ]
    }
   ],
   "source": [
    "# generate random example\n",
    "basis = gen_int_basis(a=5)\n",
    "u = gen_int_vec(a=5)\n",
    "p=True\n",
    "new_basis = common_superlattice(basis,u,p=p)\n",
    "r = check_reexpressibility(new_basis, basis, u, p=p)\n",
    "if r==False:\n",
    "    print(\"Something went wrong, reexpression as integer combination failed.\")\n",
    "    print(basis)\n",
    "    print(u)\n",
    "    \n",
    "\n"
   ]
  },
  {
   "cell_type": "code",
   "execution_count": null,
   "id": "2b6e1236-5ab3-4d3d-9bd9-788755ddb33a",
   "metadata": {},
   "outputs": [],
   "source": []
  },
  {
   "cell_type": "code",
   "execution_count": null,
   "id": "f6a01826-5b8c-45d0-8955-25ca54c69961",
   "metadata": {},
   "outputs": [],
   "source": []
  }
 ],
 "metadata": {
  "kernelspec": {
   "display_name": "Python 3",
   "language": "python",
   "name": "python3"
  },
  "language_info": {
   "codemirror_mode": {
    "name": "ipython",
    "version": 3
   },
   "file_extension": ".py",
   "mimetype": "text/x-python",
   "name": "python",
   "nbconvert_exporter": "python",
   "pygments_lexer": "ipython3",
   "version": "3.7.6"
  },
  "varInspector": {
   "cols": {
    "lenName": 16,
    "lenType": 16,
    "lenVar": 40
   },
   "kernels_config": {
    "python": {
     "delete_cmd_postfix": "",
     "delete_cmd_prefix": "del ",
     "library": "var_list.py",
     "varRefreshCmd": "print(var_dic_list())"
    },
    "r": {
     "delete_cmd_postfix": ") ",
     "delete_cmd_prefix": "rm(",
     "library": "var_list.r",
     "varRefreshCmd": "cat(var_dic_list()) "
    }
   },
   "types_to_exclude": [
    "module",
    "function",
    "builtin_function_or_method",
    "instance",
    "_Feature"
   ],
   "window_display": false
  }
 },
 "nbformat": 4,
 "nbformat_minor": 5
}
