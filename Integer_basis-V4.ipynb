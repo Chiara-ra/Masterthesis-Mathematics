{
 "cells": [
  {
   "cell_type": "markdown",
   "id": "dfbd7d83",
   "metadata": {},
   "source": [
    "### About this Version\n",
    "\n",
    "After having talked to Herbert und Teresa (12.07.22) we have decided on a new-ish approach on how to tackle the problem with the primitive vector in 2d. This notebook copies part of the old versions, but is not a copy in itself, so that hopefully the result is a bit cleaner."
   ]
  },
  {
   "cell_type": "code",
   "execution_count": 4,
   "id": "3794b291",
   "metadata": {},
   "outputs": [],
   "source": [
    "import random as rd\n",
    "import numpy as np\n",
    "import numpy.linalg as la\n",
    "#import math\n",
    "from math import gcd\n",
    "#import matplotlib.pyplot as plt\n",
    "#from mpl_toolkits.mplot3d import Axes3D\n",
    "\n",
    "import sympy as sp"
   ]
  },
  {
   "cell_type": "code",
   "execution_count": 5,
   "id": "d7140355",
   "metadata": {},
   "outputs": [],
   "source": [
    "def gcd3(a,b,c):\n",
    "    return gcd(gcd(a,b),c)\n",
    "\n",
    "def gcdExtended(a, b): \n",
    "    # Base Case \n",
    "    if a == 0 :  \n",
    "        return b,0,1\n",
    "\n",
    "    gcd,x1,y1 = gcdExtended(b%a, a) \n",
    "\n",
    "    # Update x and y using results of recursive \n",
    "    # call \n",
    "    x = y1 - (b//a) * x1 \n",
    "    y = x1 \n",
    "\n",
    "    return gcd,x,y\n",
    "\n",
    "def lcm(a, b):\n",
    "    return abs(a*b) // gcd(a, b)\n"
   ]
  },
  {
   "cell_type": "code",
   "execution_count": 6,
   "id": "e38c8588",
   "metadata": {},
   "outputs": [],
   "source": [
    "def gen_int_basis(d=3, a=5):\n",
    "    # d is the dimension of the ambient space and the number of resulting vectors\n",
    "    # a is the maximum length of a resulting vector in the sup norm\n",
    "    basis = np.zeros((d,d))\n",
    "    \n",
    "    det = la.det(basis)\n",
    "    counter = 0\n",
    "    while det == 0:\n",
    "        for i in range(d):\n",
    "            basis[:,i] = gen_int_vec(d,a) \n",
    "        det = la.det(basis)\n",
    "        counter += 1\n",
    "        if counter == 100:\n",
    "            break # raise some error here\n",
    "            \n",
    "    return basis\n",
    "\n",
    "def gen_int_vec(d=3, a=5):\n",
    "    vec = np.zeros(d)\n",
    "    for i in range(d):\n",
    "        vec[i] = rd.randint(-a,a)\n",
    "    \"\"\"\n",
    "    make sure that this does not return the zero vector!\n",
    "    \"\"\"\n",
    "    return vec"
   ]
  },
  {
   "cell_type": "markdown",
   "id": "21cf5c1c",
   "metadata": {},
   "source": [
    "### Lemma 3.1 (Parallel Vectors). \n",
    "Let $Z \\subset \\mathbb Z^d$ be a sublattice with $dim Z = d$. Then for every\n",
    " $u \\in \\mathbb Z^d$, there exists a vector $v \\in Z$ that is parallel to $u$."
   ]
  },
  {
   "cell_type": "code",
   "execution_count": 7,
   "id": "8865d3c0",
   "metadata": {},
   "outputs": [],
   "source": [
    "# function that takes basis (which generates sublattice Z) and vector v\n",
    "# outputs vector u as linear combination of basis elements, which is parallel to v\n",
    "# also outputs or at least explicitely calculates the coefficients involved"
   ]
  },
  {
   "cell_type": "code",
   "execution_count": 8,
   "id": "af16cf50",
   "metadata": {},
   "outputs": [],
   "source": [
    "def L31_parallel_vectors(basis,u):\n",
    "    # function that takes basis (which generates sublattice Z) and vector v\n",
    "    # outputs vector u as linear combination of basis elements, which is parallel to v\n",
    "    # also outputs or at least explicitely calculates the coefficients involved\n",
    "    # input is numpy arrays, output is sympy matrices\n",
    "    G = basis\n",
    "    Gi = G**(-1)\n",
    "    denom_list = []\n",
    "    p = 1\n",
    "    for entry in Gi:\n",
    "        if entry.q not in denom_list:\n",
    "            denom_list.append(entry.q)\n",
    "            p *= entry.q\n",
    "    \n",
    "    up = p*Gi*u\n",
    "    v = G*up\n",
    "    if len(u)==3:\n",
    "        v = v / gcd3(up[0],up[1],up[2])\n",
    "        coeff = up / gcd3(up[0],up[1],up[2]) #dividng by gcd of coefficients gives us the shortest parallel vector in the span of the original basis\n",
    "    if len(u)==2:\n",
    "        v = v / gcd(up[0],up[1])\n",
    "        coeff = up / gcd(up[0],up[1])\n",
    "    \n",
    "    # to find shortest vector in the span of the new basis (four vectors), \n",
    "    # we find out the ratios of the two vectors \n",
    "    # get them to integer by multiplying with denominators\n",
    "    # calculate the gcd of the resulting numbers\n",
    "    # then divide the gcd (or the vector associated to it) by the denominator again\n",
    "    for i in range(len(u)):\n",
    "        if u[i]!=0:\n",
    "            num1 = v[i]\n",
    "            num2 = u[i]\n",
    "            denom = num1.q*num2.q\n",
    "            new_gcd, a, b = gcdExtended(num1*denom,num2*denom)\n",
    "            x = new_gcd / sp.sympify(num1.p*num2.q)\n",
    "            v = v/num1*new_gcd\n",
    "            coeff = coeff * a\n",
    "            u_coeff = b\n",
    "            break\n",
    "    \n",
    "    return v, coeff, u_coeff"
   ]
  },
  {
   "cell_type": "code",
   "execution_count": 9,
   "id": "7e610d70",
   "metadata": {},
   "outputs": [],
   "source": [
    "def primitive(v, coeff): \n",
    "    if len(v)==3:\n",
    "        divider = gcd3(coeff[0],coeff[1],coeff[2])\n",
    "    elif len(v)==2:\n",
    "        divider = math.gcd(coeff[0],coeff[1])\n",
    "    return v/divider, coeff/divider\n",
    "\n",
    "# Note that, if the primitive vector outputted here agrees with the original u, then we don't need to do anything else"
   ]
  },
  {
   "cell_type": "code",
   "execution_count": 10,
   "id": "ee6d59fe",
   "metadata": {},
   "outputs": [],
   "source": [
    "# These are our test-values for repeatability \n",
    "# but we can also generate samples using our functions gen_int_basis and gen_int_vec\n",
    "#----------\n",
    "basis = sp.Matrix([[1,2,3],[1,0,1],[3,2,0]])\n",
    "#basis = sp.Matrix([[1,0,0],[0,1,0],[0,0,1]])\n",
    "\n",
    "v1 = basis[:,0]\n",
    "v2 = basis[:,1]\n",
    "v3 = basis[:,2]\n",
    "#u = sp.Matrix([0,0,2])\n",
    "u = sp.Matrix([0,1,1])\n",
    "v4=u\n",
    "v, coeff, u_coeff = L31_parallel_vectors(basis,u)\n",
    "#primitive(v,coeff)"
   ]
  },
  {
   "cell_type": "code",
   "execution_count": 11,
   "id": "e3a10202",
   "metadata": {},
   "outputs": [
    {
     "name": "stdout",
     "output_type": "stream",
     "text": [
      "basis:\n",
      " Matrix([[1, 2, 3], [1, 0, 1], [3, 2, 0]])\n",
      "u:\n",
      " Matrix([[0], [1], [1]])\n",
      "v:\n",
      " Matrix([[0], [1], [1]])\n",
      "v    = a *  v1   + b *   v2    +  c *   v3    +  d *   v4\n",
      "double check:\n",
      "Matrix([[0], [1], [1]]) = 0*Matrix([[1], [1], [3]]) + 0 * Matrix([[2], [0], [2]]) + 0 * Matrix([[3], [1], [0]]) + 1 * Matrix([[0], [1], [1]])\n"
     ]
    }
   ],
   "source": [
    "print(\"basis:\\n\",basis)\n",
    "print(\"u:\\n\",u)\n",
    "print(\"v:\\n\",v)\n",
    "print(f\"\"\"v    = a *  v1   + b *   v2    +  c *   v3    +  d *   v4\n",
    "double check:\n",
    "{coeff[0]*basis[:,0] + coeff[1]*basis[:,1]  + coeff[2]*basis[:,2]  + u_coeff*u} = {coeff[0]}*{basis[:,0]} + {coeff[1]} * {basis[:,1]} + {coeff[2]} * {basis[:,2]} + {u_coeff} * {u}\"\"\")"
   ]
  },
  {
   "cell_type": "code",
   "execution_count": 12,
   "id": "1086d639",
   "metadata": {},
   "outputs": [
    {
     "name": "stdout",
     "output_type": "stream",
     "text": [
      "[1, -1, 1] [2, -1, 1] [3, 1/2, -1/2]\n"
     ]
    }
   ],
   "source": [
    "# Next we perform orthogonal projection along v4\n",
    "\n",
    "\n",
    "def project(projector, projectee):\n",
    "    return projectee - projectee.dot(projector)/projector.dot(projector) * projector\n",
    "\n",
    "\n",
    "Pv1 = project(u,v1)\n",
    "Pv2 = project(u,v2)\n",
    "Pv3 = project(u,v3)\n",
    "\n",
    "print(list(Pv1), list(Pv2), list(Pv3))\n",
    "# at this point, check if one of the Pvi is 0. In that case it is parallel to u and \n",
    "# we just need to pick the gcd, which should be v (?)"
   ]
  },
  {
   "cell_type": "code",
   "execution_count": 18,
   "id": "f9cb04a5",
   "metadata": {},
   "outputs": [],
   "source": [
    "\n",
    "# generally, we will do another projection onto the e2,e3 plane, so that we have 2d coordinates again\n",
    "# however, if our vector v4, with which we have done the original orthogonal projection, lies in this plane\n",
    "# then we cannot do this, because we will lose information\n",
    "# so we need to check if v4 is orthogonal to e1\n",
    "# if that is the case, we want to project onto the e1,e3 plane\n",
    "# however, then we need to check if v4 is orthogonal to e2\n",
    "# if also that is the case, than v4 is parallel to e3\n",
    "# thus we can project onto e1,e2\n",
    "e1 = sp.Matrix([1,0,0])\n",
    "e2 = sp.Matrix([0,1,0])\n",
    "e3 = sp.Matrix([0,0,1])\n",
    "\n",
    "\n",
    "def skip_coord(vec,n=1):\n",
    "    ind=n-1\n",
    "    if n == 1:\n",
    "        new_vec = [vec[ind+1],vec[ind+2]]\n",
    "    elif n == 2:\n",
    "        new_vec = [vec[ind-1],vec[ind+1]]\n",
    "    elif n == 3:\n",
    "        new_vec = [vec[ind-2],vec[ind-1]]\n",
    "    # Note that this not very elegant approach is because I don't want the coordinates to be permuted cyclically,\n",
    "    # but instead just want to skip the given entry\n",
    "    \n",
    "    #new_vec = [vec[(ind+1)%3],vec[(ind+2)%3]]\n",
    "    return sp.Matrix(new_vec)\n",
    "\n",
    "\n",
    "Pv = sp.Matrix([Pv1[:],Pv2[:],Pv3[:]]).T\n",
    "\n",
    "def skip_corr_coord(Pv):\n",
    "    if v4.dot(e1) == 0: # v4 is orthogonal to e1\n",
    "        if v4.dot(e2) == 0: # v4 is orthgonal to e2\n",
    "            #project onto the e1, e2 plane\n",
    "            Pv1_2 = skip_coord(Pv[:,0],3) # the subscript 2 stands for 2-coordinates\n",
    "            Pv2_2 = skip_coord(Pv[:,1],3)\n",
    "            Pv3_2 = skip_coord(Pv[:,2],3)\n",
    "            pass\n",
    "        else:\n",
    "            #project the Pvi onto the e1, e3 plane\n",
    "            Pv1_2 = skip_coord(Pv[:,0],2)\n",
    "            Pv2_2 = skip_coord(Pv[:,1],2)\n",
    "            Pv3_2 = skip_coord(Pv[:,2],2)\n",
    "            pass\n",
    "    else:\n",
    "        #project the Pvi onto e2, e3 plane\n",
    "        Pv1_2 = skip_coord(Pv[:,0],1)\n",
    "        Pv2_2 = skip_coord(Pv[:,1],1)\n",
    "        Pv3_2 = skip_coord(Pv[:,2],1)\n",
    "        pass\n",
    "    \n",
    "    return sp.Matrix([Pv1_2[:],Pv2_2[:],Pv3_2[:]]).T\n"
   ]
  },
  {
   "cell_type": "code",
   "execution_count": 20,
   "id": "81f1d852",
   "metadata": {},
   "outputs": [
    {
     "name": "stdout",
     "output_type": "stream",
     "text": [
      "Pv1_2 is new extra vector\n",
      "new basis\n",
      "⎡2   3  ⎤\n",
      "⎢       ⎥\n",
      "⎣1  -1/2⎦\n",
      "new extra vector\n",
      "⎡1⎤\n",
      "⎢ ⎥\n",
      "⎣1⎦\n",
      "new primitive\n",
      "⎡1⎤\n",
      "⎢ ⎥\n",
      "⎣1⎦\n",
      "new coefficients: [0, 0, 1]\n"
     ]
    }
   ],
   "source": [
    "def lcm_mx(M):\n",
    "        \"\"\"\n",
    "        Takes sympy 2x2 matrix with rational coefficients and returns lcm of all denominators \n",
    "        \"\"\"\n",
    "        lcm_denom = M[0,0].q\n",
    "        for entry in M[:]:\n",
    "            lcm_denom = lcm(lcm_denom,entry.q)\n",
    "        return lcm_denom\n",
    "\n",
    "\n",
    "# now that we have our 2-dimensional vectors,\n",
    "# we want to find a linear dependent vector\n",
    "# once we have that, we want to find the primitive, as we did before\n",
    "def proj2induct(Pv):\n",
    "    Pv_2 = skip_corr_coord(Pv)\n",
    "\n",
    "    # search for vector to make new \"extra\"\n",
    "    for i in range(3):\n",
    "        ind = [(i+1)%3,(i+2)%3]\n",
    "        if Pv_2[:,ind].det() != 0:\n",
    "            print(f\"Pv{i+1}_2 is new extra vector\")\n",
    "            break\n",
    "        elif Pv_2[:,ind].det() != 0:\n",
    "            print(f\"Pv{i+1}_2 is new extra vector\")\n",
    "            break\n",
    "        elif Pv_2[:,ind].det() != 0:\n",
    "            print(f\"Pv{i+1}_2 is new extra vector\")\n",
    "            break\n",
    "        else:\n",
    "            print(\"something went wrong!\")\n",
    "\n",
    "\n",
    "    # making stuff integer\n",
    "    # determine lcm of denomiators\n",
    "    lcm_denom = lcm_mx(Pv_2)\n",
    "    print(\"new basis\")\n",
    "    sp.pprint(Pv_2[:,ind])\n",
    "\n",
    "    print(\"new extra vector\")\n",
    "    sp.pprint(Pv_2[:,i])\n",
    "    new_primitive, new_coeff, new_coeff_u = L31_parallel_vectors(Pv_2[:,ind]*lcm_denom,Pv_2[:,i]*lcm_denom)\n",
    "    new_primitive /= lcm_denom\n",
    "\n",
    "    print(\"new primitive\")\n",
    "    sp.pprint(new_primitive)\n",
    "    print(\"new coefficients:\",list(new_coeff)+[new_coeff_u])\n",
    "    \n",
    "    return Pv_2[:,ind], Pv_2[:,i]\n",
    "\n",
    "Pv_2, new_primitive = proj2induct(Pv)"
   ]
  },
  {
   "cell_type": "code",
   "execution_count": 15,
   "id": "82f355e5",
   "metadata": {},
   "outputs": [],
   "source": [
    "# now we go one layer deeper\n",
    "# i.e. project to the line orthogonal to new_primitive\n",
    "# we will then be left with two vectors, which are still in 2-dim representation\n",
    "# however, in this case, I think, we can just take the gcd of one component\n",
    "# because they HAVE to be collinear anyways\n",
    "# this is then the basis for the new 1d lattice\n",
    "\n",
    "# having that, we can retrace our steps in the other induction direction\n",
    "# that is, take the 2d preimage of this new vector\n",
    "# then undo the component projection (how?)\n",
    "# then look at the integer basis proof to get a basis for the 2d lattice \n",
    "# (maybe even before undoing the component projection, if that is easier)\n",
    "# once you have the basis of the 2d vectors (in their 3d form)\n",
    "# search for their preimages, i.e. 3d vectors in their 3d form\n",
    "# then again do the integer basis proof process\n",
    "# then we SHOULD have our basis"
   ]
  },
  {
   "cell_type": "code",
   "execution_count": 16,
   "id": "61e0831c",
   "metadata": {},
   "outputs": [
    {
     "name": "stdout",
     "output_type": "stream",
     "text": [
      "⎡2   3  ⎤\n",
      "⎢       ⎥\n",
      "⎣1  -1/2⎦\n",
      "⎡1/2   7/4 ⎤\n",
      "⎢          ⎥\n",
      "⎣-1/2  -7/4⎦\n"
     ]
    }
   ],
   "source": [
    "# now we go one layer deeper\n",
    "# i.e. project to the line orthogonal to new_primitive\n",
    "# we will then be left with two vectors, which are still in 2-dim representation\n",
    "PPv = sp.Matrix([project(new_primitive,Pv_2[:,0]).T, project(new_primitive,Pv_2[:,1]).T]).T\n",
    "sp.pprint(Pv_2)\n",
    "sp.pprint(PPv)"
   ]
  },
  {
   "cell_type": "code",
   "execution_count": 17,
   "id": "4db34ac1",
   "metadata": {},
   "outputs": [],
   "source": [
    "# look for a non-zero coordinate\n",
    "def gcd_of_2dvecs(vec_mx):\n",
    "    for i in range(2):\n",
    "        if PPv[i,0]!=0:\n",
    "            break\n",
    "    denoms = lcm_mx(PPv[i,:])\n",
    "\n",
    "    a = PPv[i,0]*denoms\n",
    "    b = PPv[i,1]*denoms\n",
    "    a,b\n",
    "    c, x,y = gcdExtended(a,b)\n",
    "    new_1d_basis = x*PPv[:,0]+y*PPv[:,1]\n",
    "    return new_1d_basis, x,y"
   ]
  },
  {
   "cell_type": "code",
   "execution_count": 92,
   "id": "aadced8e",
   "metadata": {},
   "outputs": [
    {
     "data": {
      "text/latex": [
       "$\\displaystyle \\left[\\begin{matrix}2\\\\3\\end{matrix}\\right]$"
      ],
      "text/plain": [
       "Matrix([\n",
       "[2],\n",
       "[3]])"
      ]
     },
     "execution_count": 92,
     "metadata": {},
     "output_type": "execute_result"
    }
   ],
   "source": [
    "# to go back to 2d (up one induction step)"
   ]
  }
 ],
 "metadata": {
  "kernelspec": {
   "display_name": "Python 3",
   "language": "python",
   "name": "python3"
  },
  "language_info": {
   "codemirror_mode": {
    "name": "ipython",
    "version": 3
   },
   "file_extension": ".py",
   "mimetype": "text/x-python",
   "name": "python",
   "nbconvert_exporter": "python",
   "pygments_lexer": "ipython3",
   "version": "3.7.6"
  },
  "varInspector": {
   "cols": {
    "lenName": 16,
    "lenType": 16,
    "lenVar": 40
   },
   "kernels_config": {
    "python": {
     "delete_cmd_postfix": "",
     "delete_cmd_prefix": "del ",
     "library": "var_list.py",
     "varRefreshCmd": "print(var_dic_list())"
    },
    "r": {
     "delete_cmd_postfix": ") ",
     "delete_cmd_prefix": "rm(",
     "library": "var_list.r",
     "varRefreshCmd": "cat(var_dic_list()) "
    }
   },
   "types_to_exclude": [
    "module",
    "function",
    "builtin_function_or_method",
    "instance",
    "_Feature"
   ],
   "window_display": false
  }
 },
 "nbformat": 4,
 "nbformat_minor": 5
}
