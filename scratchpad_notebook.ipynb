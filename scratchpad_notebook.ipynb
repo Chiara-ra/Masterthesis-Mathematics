{
 "cells": [
  {
   "cell_type": "code",
   "execution_count": 2,
   "id": "6fbc4fbb-24ce-486b-9789-337b242fcdd2",
   "metadata": {},
   "outputs": [],
   "source": [
    "from Reduce2IntegerBasis import reduce_spanning_set_3d as rss3\n",
    "import numpy as np\n",
    "import sympy as sp"
   ]
  },
  {
   "cell_type": "code",
   "execution_count": 3,
   "id": "9fdb97e0-3dfa-4f28-a55c-9ce9f0b39edf",
   "metadata": {},
   "outputs": [
    {
     "name": "stdout",
     "output_type": "stream",
     "text": [
      "case 3: old_vecs = [vec1, vec2]\n",
      "new_vec lies in real span of vec1 and vec2\n"
     ]
    },
    {
     "data": {
      "text/plain": [
       "[array([ 1, -3,  0], dtype=int32), array([ 0, -1,  0], dtype=int32)]"
      ]
     },
     "execution_count": 3,
     "metadata": {},
     "output_type": "execute_result"
    }
   ],
   "source": [
    "vec1 = np.array([ 1, -3,  0], dtype=np.int32)\n",
    "vec2 = np.array([ 0, -1,  0], dtype=np.int32)\n",
    "old_vecs=[vec1, vec2]\n",
    "new_vec=np.array([ 1, -2,  0], dtype=np.int32)\n",
    "rss3(old_vecs,new_vec,True)"
   ]
  },
  {
   "cell_type": "code",
   "execution_count": 12,
   "id": "2da36293-d4f4-4ae8-bbae-eb9c52626d05",
   "metadata": {},
   "outputs": [],
   "source": [
    "# V1*a + V2*b = U  \n",
    "from sympy.abc import a, b\n",
    "solution = sp.solvers.solvers.solve(vec1*a+vec2*b-new_vec/7,a,b)\n",
    "for key,value in solution.items():\n",
    "    print(value.q)"
   ]
  },
  {
   "cell_type": "code",
   "execution_count": 13,
   "id": "a2f6bb34-da16-47b4-ae76-6aa6dd320784",
   "metadata": {},
   "outputs": [
    {
     "ename": "AttributeError",
     "evalue": "'Float' object has no attribute 'q'",
     "output_type": "error",
     "traceback": [
      "\u001b[0;31m---------------------------------------------------------------------------\u001b[0m",
      "\u001b[0;31mAttributeError\u001b[0m                            Traceback (most recent call last)",
      "\u001b[0;32m<ipython-input-13-e54c0be22242>\u001b[0m in \u001b[0;36m<module>\u001b[0;34m\u001b[0m\n\u001b[1;32m      1\u001b[0m \u001b[0;32mfor\u001b[0m \u001b[0mkey\u001b[0m\u001b[0;34m,\u001b[0m\u001b[0mvalue\u001b[0m \u001b[0;32min\u001b[0m \u001b[0msolution\u001b[0m\u001b[0;34m.\u001b[0m\u001b[0mitems\u001b[0m\u001b[0;34m(\u001b[0m\u001b[0;34m)\u001b[0m\u001b[0;34m:\u001b[0m\u001b[0;34m\u001b[0m\u001b[0;34m\u001b[0m\u001b[0m\n\u001b[0;32m----> 2\u001b[0;31m     \u001b[0mprint\u001b[0m\u001b[0;34m(\u001b[0m\u001b[0mvalue\u001b[0m\u001b[0;34m.\u001b[0m\u001b[0mq\u001b[0m\u001b[0;34m)\u001b[0m\u001b[0;34m\u001b[0m\u001b[0;34m\u001b[0m\u001b[0m\n\u001b[0m",
      "\u001b[0;31mAttributeError\u001b[0m: 'Float' object has no attribute 'q'"
     ]
    }
   ],
   "source": [
    "for key,value in solution.items():\n",
    "    print(value.q)"
   ]
  },
  {
   "cell_type": "code",
   "execution_count": null,
   "id": "7f24878e-e607-428b-8256-c5ee4991a6a4",
   "metadata": {},
   "outputs": [],
   "source": []
  }
 ],
 "metadata": {
  "kernelspec": {
   "display_name": "Python 3",
   "language": "python",
   "name": "python3"
  },
  "language_info": {
   "codemirror_mode": {
    "name": "ipython",
    "version": 3
   },
   "file_extension": ".py",
   "mimetype": "text/x-python",
   "name": "python",
   "nbconvert_exporter": "python",
   "pygments_lexer": "ipython3",
   "version": "3.7.6"
  }
 },
 "nbformat": 4,
 "nbformat_minor": 5
}
