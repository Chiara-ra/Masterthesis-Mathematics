{
 "cells": [
  {
   "cell_type": "markdown",
   "id": "1bcd20a9",
   "metadata": {},
   "source": [
    "# Attention\n",
    "Note that I use this notebook for testing, but because I want to use this in my other notebooks, any permanent changes need to be made in the python file simplex_classes.py ."
   ]
  },
  {
   "cell_type": "markdown",
   "id": "d665c857",
   "metadata": {},
   "source": [
    "# Contents\n",
    "I've had major problems with my data structures. At this point I have given up, and just want to put everything into a class, which then saves all the relevant information. "
   ]
  },
  {
   "cell_type": "markdown",
   "id": "846ca2fa",
   "metadata": {},
   "source": [
    "### 0-Simplices\n",
    "A 0-simplex should contain the following information:\n",
    "* Its name, i.e. [1]\n",
    "* Its coordinates x and y in the cell\n",
    "* Its integer filtration value, which is a UNIQUE identifier\n",
    "* Its continuous filtration value\n",
    "\n",
    "\n",
    "### 1-Simplices\n",
    "A 1-simplex should contain the following information:\n",
    "* Its defining vertices elements, i.e. [2,4]\n",
    "* Its crossing vector, i.e. [0,1]\n",
    "* Which boundary element is the left-most (or lower one, if they are stacked on top, not sure what order I chose here)\n",
    "* Its inter filtration value, which is a UNIQUE identifier\n",
    "* Its continuous filtration value\n",
    "    \n",
    "### 2-Simplices\n",
    "A 2-simplex should contain the following information:\n",
    "* Its defining vertices, i.e. [1,5,6]\n",
    "* Its boundary elements, i.e. [1-simplex a, 1-simplex b, 1-simplex c]\n",
    "* Its integer filtration value, which is a UNIQUE identifier\n",
    "* Its continuous filtration value\n"
   ]
  },
  {
   "cell_type": "code",
   "execution_count": 18,
   "id": "a1845321",
   "metadata": {},
   "outputs": [],
   "source": [
    "class Simplex:\n",
    "    def __init__(self, vertices, int_filt, cont_filt):\n",
    "        self.verts     = vertices\n",
    "        self.int_filt  = int_filt\n",
    "        self.cont_Filt = cont_filt\n",
    "    \n",
    "\n",
    "class Simplex0D(Simplex):\n",
    "    def __init__(self, vertices, int_filt, cont_filt, coordinates):\n",
    "        super().__init__(vertices,int_filt,cont_filt)\n",
    "        \n",
    "        self.coords    = coordinates\n",
    "        self.xcoord    = coordinates[0]\n",
    "        self.ycoord    = coordinates[1]\n",
    "        \n",
    "                \n",
    "class Simplex1D(Simplex):\n",
    "    def __init__(self, vertices, int_filt, cont_filt, crossing_v, left_vert):\n",
    "        super().__init__(vertices, int_filt, cont_filt)\n",
    "        \n",
    "        self.cv = crossing_v\n",
    "        self.left = left_vert \n",
    "        self.left_coord = left_vert\n",
    "        \n",
    "class Simplex2D(Simplex):\n",
    "    def __init__(self, vertices, int_filt, cont_filt, boundary):\n",
    "        super().__init__(vertices, int_filt, cont_filt)\n",
    "        # boundary is a list of 3 objects of the class Simplex1D\n",
    "        self.boundary = boundary "
   ]
  },
  {
   "cell_type": "code",
   "execution_count": null,
   "id": "37d87983",
   "metadata": {},
   "outputs": [],
   "source": []
  }
 ],
 "metadata": {
  "kernelspec": {
   "display_name": "Python 3",
   "language": "python",
   "name": "python3"
  },
  "language_info": {
   "codemirror_mode": {
    "name": "ipython",
    "version": 3
   },
   "file_extension": ".py",
   "mimetype": "text/x-python",
   "name": "python",
   "nbconvert_exporter": "python",
   "pygments_lexer": "ipython3",
   "version": "3.7.6"
  },
  "varInspector": {
   "cols": {
    "lenName": 16,
    "lenType": 16,
    "lenVar": 40
   },
   "kernels_config": {
    "python": {
     "delete_cmd_postfix": "",
     "delete_cmd_prefix": "del ",
     "library": "var_list.py",
     "varRefreshCmd": "print(var_dic_list())"
    },
    "r": {
     "delete_cmd_postfix": ") ",
     "delete_cmd_prefix": "rm(",
     "library": "var_list.r",
     "varRefreshCmd": "cat(var_dic_list()) "
    }
   },
   "types_to_exclude": [
    "module",
    "function",
    "builtin_function_or_method",
    "instance",
    "_Feature"
   ],
   "window_display": false
  }
 },
 "nbformat": 4,
 "nbformat_minor": 5
}
