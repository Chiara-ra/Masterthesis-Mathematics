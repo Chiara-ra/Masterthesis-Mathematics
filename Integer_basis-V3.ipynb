{
 "cells": [
  {
   "cell_type": "markdown",
   "id": "e9dd8eba",
   "metadata": {},
   "source": [
    "In this Notebook we want to try implementing the integer basis algorithm as proposed by Herbert's and Teresa's notes.\n",
    "There are 3 Lemmas to understand and implement: \n",
    "\n",
    "#### 1) Lemma 3.1 (Parallel Vectors)\n",
    "\n",
    "#### 2) Lemma 3.2 (Choice of Basis)\n",
    "\n",
    "#### 3) Lemma 3.3 (Smallest Common Superlattice)"
   ]
  },
  {
   "cell_type": "markdown",
   "id": "4087e75f",
   "metadata": {},
   "source": [
    "# V3 \n",
    "In this version I try to deal with some problems that have come up. One is the parallel vector, which seems to SOMETIMES lead to errors. The other is the inductive basis construction, which just doesn't work yet. My approach would be to switch from numpy to sympy for many calculations, which allows for calculations with fractions. "
   ]
  },
  {
   "cell_type": "code",
   "execution_count": 1,
   "id": "270f0b7c",
   "metadata": {},
   "outputs": [],
   "source": [
    "import random as rd\n",
    "import numpy as np\n",
    "import numpy.linalg as la\n",
    "import math\n",
    "import matplotlib.pyplot as plt\n",
    "from mpl_toolkits.mplot3d import Axes3D\n",
    "\n",
    "import sympy as sp\n"
   ]
  },
  {
   "cell_type": "code",
   "execution_count": 2,
   "id": "f338c56c",
   "metadata": {},
   "outputs": [],
   "source": [
    "# We start by a simple setup\n",
    "# Generate four integer-valued vectors in $R^3$\n",
    "# Three of those should already form a basis, the new one can be arbitrary\n",
    "# Plot them\n",
    "\n",
    "def gen_int_basis(d=3, a=5):\n",
    "    # d is the dimension of the ambient space and the number of resulting vectors\n",
    "    # a is the maximum length of a resulting vector in the sup norm\n",
    "    basis = np.zeros((d,d))\n",
    "    \n",
    "    det = la.det(basis)\n",
    "    counter = 0\n",
    "    while det == 0:\n",
    "        for i in range(d):\n",
    "            basis[:,i] = gen_int_vec(d,a) \n",
    "        det = la.det(basis)\n",
    "        counter += 1\n",
    "        if counter == 100:\n",
    "            break # raise some error here\n",
    "            \n",
    "    return basis\n",
    "\n",
    "def gen_int_vec(d=3, a=5):\n",
    "    vec = np.zeros(d)\n",
    "    for i in range(d):\n",
    "        vec[i] = rd.randint(-a,a)\n",
    "    \"\"\"\n",
    "    make sure that this does not return the zero vector!\n",
    "    \"\"\"\n",
    "    return vec\n"
   ]
  },
  {
   "cell_type": "markdown",
   "id": "21cf5c1c",
   "metadata": {},
   "source": [
    "### Lemma 3.1 (Parallel Vectors). \n",
    "Let $Z \\subset \\mathbb Z^d$ be a sublattice with $dim Z = d$. Then for every\n",
    " $u \\in \\mathbb Z^d$, there exists a vector $v \\in Z$ that is parallel to $u$."
   ]
  },
  {
   "cell_type": "code",
   "execution_count": 3,
   "id": "8865d3c0",
   "metadata": {},
   "outputs": [],
   "source": [
    "# function that takes basis (which generates sublattice Z) and vector v\n",
    "# outputs vector u as linear combination of basis elements, which is parallel to v\n",
    "# also outputs or at least explicitely calculates the coefficients involved"
   ]
  },
  {
   "cell_type": "code",
   "execution_count": 4,
   "id": "af16cf50",
   "metadata": {},
   "outputs": [],
   "source": [
    "def L31_parallel_vectors(basis,u):\n",
    "    # function that takes basis (which generates sublattice Z) and vector v\n",
    "    # outputs vector u as linear combination of basis elements, which is parallel to v\n",
    "    # also outputs or at least explicitely calculates the coefficients involved\n",
    "    # input is numpy arrays, output is sympy matrices\n",
    "    G = sp.Matrix(np.int32(basis))\n",
    "    Gi = G**(-1)\n",
    "    denom_list = []\n",
    "    p = 1\n",
    "    for entry in Gi:\n",
    "        if entry.q not in denom_list:\n",
    "            denom_list.append(entry.q)\n",
    "            p *= entry.q\n",
    "    \n",
    "    up = p*Gi*sp.Matrix(np.int32(u))\n",
    "    v = G*up\n",
    "    \n",
    "    return v, up"
   ]
  },
  {
   "cell_type": "code",
   "execution_count": 5,
   "id": "acab563a",
   "metadata": {},
   "outputs": [],
   "source": [
    "def primitive(v, coeff): \n",
    "    if len(v)==3:\n",
    "        divider = gcd3(coeff[0],coeff[1],coeff[2])\n",
    "    elif len(v)==2:\n",
    "        divider = math.gcd(coeff[0],coeff[1])\n",
    "    return v/divider, coeff/divider\n",
    "\n",
    "# Note that, if the primitive vector outputted here agrees with the original u, then we don't need to do anything else"
   ]
  },
  {
   "cell_type": "code",
   "execution_count": 6,
   "id": "cb4ac530",
   "metadata": {},
   "outputs": [
    {
     "ename": "NameError",
     "evalue": "name 'gcd3' is not defined",
     "output_type": "error",
     "traceback": [
      "\u001b[0;31m---------------------------------------------------------------------------\u001b[0m",
      "\u001b[0;31mNameError\u001b[0m                                 Traceback (most recent call last)",
      "\u001b[0;32m<ipython-input-6-335f46644051>\u001b[0m in \u001b[0;36m<module>\u001b[0;34m\u001b[0m\n\u001b[1;32m      2\u001b[0m \u001b[0mu\u001b[0m \u001b[0;34m=\u001b[0m \u001b[0mnp\u001b[0m\u001b[0;34m.\u001b[0m\u001b[0marray\u001b[0m\u001b[0;34m(\u001b[0m\u001b[0;34m[\u001b[0m\u001b[0;36m0\u001b[0m\u001b[0;34m,\u001b[0m\u001b[0;36m0\u001b[0m\u001b[0;34m,\u001b[0m\u001b[0;36m2\u001b[0m\u001b[0;34m]\u001b[0m\u001b[0;34m)\u001b[0m\u001b[0;34m\u001b[0m\u001b[0;34m\u001b[0m\u001b[0m\n\u001b[1;32m      3\u001b[0m \u001b[0mv\u001b[0m\u001b[0;34m,\u001b[0m\u001b[0mcoeff\u001b[0m \u001b[0;34m=\u001b[0m \u001b[0mL31_parallel_vectors\u001b[0m\u001b[0;34m(\u001b[0m\u001b[0mbasis\u001b[0m\u001b[0;34m,\u001b[0m\u001b[0mu\u001b[0m\u001b[0;34m)\u001b[0m\u001b[0;34m\u001b[0m\u001b[0;34m\u001b[0m\u001b[0m\n\u001b[0;32m----> 4\u001b[0;31m \u001b[0mprimitive\u001b[0m\u001b[0;34m(\u001b[0m\u001b[0mv\u001b[0m\u001b[0;34m,\u001b[0m\u001b[0mcoeff\u001b[0m\u001b[0;34m)\u001b[0m\u001b[0;34m\u001b[0m\u001b[0;34m\u001b[0m\u001b[0m\n\u001b[0m",
      "\u001b[0;32m<ipython-input-5-9e69f895de2a>\u001b[0m in \u001b[0;36mprimitive\u001b[0;34m(v, coeff)\u001b[0m\n\u001b[1;32m      1\u001b[0m \u001b[0;32mdef\u001b[0m \u001b[0mprimitive\u001b[0m\u001b[0;34m(\u001b[0m\u001b[0mv\u001b[0m\u001b[0;34m,\u001b[0m \u001b[0mcoeff\u001b[0m\u001b[0;34m)\u001b[0m\u001b[0;34m:\u001b[0m\u001b[0;34m\u001b[0m\u001b[0;34m\u001b[0m\u001b[0m\n\u001b[1;32m      2\u001b[0m     \u001b[0;32mif\u001b[0m \u001b[0mlen\u001b[0m\u001b[0;34m(\u001b[0m\u001b[0mv\u001b[0m\u001b[0;34m)\u001b[0m\u001b[0;34m==\u001b[0m\u001b[0;36m3\u001b[0m\u001b[0;34m:\u001b[0m\u001b[0;34m\u001b[0m\u001b[0;34m\u001b[0m\u001b[0m\n\u001b[0;32m----> 3\u001b[0;31m         \u001b[0mdivider\u001b[0m \u001b[0;34m=\u001b[0m \u001b[0mgcd3\u001b[0m\u001b[0;34m(\u001b[0m\u001b[0mcoeff\u001b[0m\u001b[0;34m[\u001b[0m\u001b[0;36m0\u001b[0m\u001b[0;34m]\u001b[0m\u001b[0;34m,\u001b[0m\u001b[0mcoeff\u001b[0m\u001b[0;34m[\u001b[0m\u001b[0;36m1\u001b[0m\u001b[0;34m]\u001b[0m\u001b[0;34m,\u001b[0m\u001b[0mcoeff\u001b[0m\u001b[0;34m[\u001b[0m\u001b[0;36m2\u001b[0m\u001b[0;34m]\u001b[0m\u001b[0;34m)\u001b[0m\u001b[0;34m\u001b[0m\u001b[0;34m\u001b[0m\u001b[0m\n\u001b[0m\u001b[1;32m      4\u001b[0m     \u001b[0;32melif\u001b[0m \u001b[0mlen\u001b[0m\u001b[0;34m(\u001b[0m\u001b[0mv\u001b[0m\u001b[0;34m)\u001b[0m\u001b[0;34m==\u001b[0m\u001b[0;36m2\u001b[0m\u001b[0;34m:\u001b[0m\u001b[0;34m\u001b[0m\u001b[0;34m\u001b[0m\u001b[0m\n\u001b[1;32m      5\u001b[0m         \u001b[0mdivider\u001b[0m \u001b[0;34m=\u001b[0m \u001b[0mmath\u001b[0m\u001b[0;34m.\u001b[0m\u001b[0mgcd\u001b[0m\u001b[0;34m(\u001b[0m\u001b[0mcoeff\u001b[0m\u001b[0;34m[\u001b[0m\u001b[0;36m0\u001b[0m\u001b[0;34m]\u001b[0m\u001b[0;34m,\u001b[0m\u001b[0mcoeff\u001b[0m\u001b[0;34m[\u001b[0m\u001b[0;36m1\u001b[0m\u001b[0;34m]\u001b[0m\u001b[0;34m)\u001b[0m\u001b[0;34m\u001b[0m\u001b[0;34m\u001b[0m\u001b[0m\n",
      "\u001b[0;31mNameError\u001b[0m: name 'gcd3' is not defined"
     ]
    }
   ],
   "source": [
    "basis = np.array([[1,2,3],[1,0,1],[3,2,0]])\n",
    "u = np.array([0,0,2])\n",
    "v,coeff = L31_parallel_vectors(basis,u)\n",
    "primitive(v,coeff)"
   ]
  },
  {
   "cell_type": "markdown",
   "id": "e6c64c0b",
   "metadata": {},
   "source": [
    "### Lemma 3.2 (Choice of Basis). \n",
    "For every primitive $u \\in \\mathbb Z^d$, there is a basis of $\\mathbb Z^d$ including $u$."
   ]
  },
  {
   "cell_type": "code",
   "execution_count": 7,
   "id": "e3772415",
   "metadata": {},
   "outputs": [],
   "source": [
    "# code from https://www.geeksforgeeks.org/python-program-for-basic-and-extended-euclidean-algorithms-2/\n",
    "\n",
    "def gcdExtended(a, b): \n",
    "    # Base Case \n",
    "    if a == 0 :  \n",
    "        return b,0,1\n",
    "\n",
    "    gcd,x1,y1 = gcdExtended(b%a, a) \n",
    "\n",
    "    # Update x and y using results of recursive \n",
    "    # call \n",
    "    x = y1 - (b//a) * x1 \n",
    "    y = x1 \n",
    "\n",
    "    return gcd,x,y\n",
    "\n",
    "def gcd3(a,b,c):\n",
    "    return math.gcd(math.gcd(a,b),c)\n",
    "\n",
    "\n",
    "\n",
    "def L32_choice_basis(basis, u, coeff):\n",
    "    \n",
    "    # We project orthogonally to vectors a', b' and c'.\n",
    "    # Next, determine which pair forms basis of orthogonal complement. \n",
    "    \n",
    "    test_mx = np.zeros((3,3))\n",
    "    for i in range(3):\n",
    "        test_mx[:,0] = basis[:,i%3]\n",
    "        test_mx[:,1] = basis[:,(i+1)%3]\n",
    "        test_mx[:,2] = u\n",
    "        if la.det(test_mx)!=0:\n",
    "            ind1 = i\n",
    "            ind2 = (i+1)%3\n",
    "            ind3 = (i+2)%3\n",
    "            names = (\"a\",\"b\",\"c\")\n",
    "            print(f\"{names[ind1]}' and {names[ind2]}' are linearly independant in the orthognal complement.\")\n",
    "            # maybe calculate this numerically to check if this is true. \n",
    "            break\n",
    "    # so we can take the projections of basis[:,ind1] and basis[:,ind2] as the new basis\n",
    "    # for the new projection-vector, we need to find the parallel copy of basis[:,ind3] that lies \n",
    "    # in the span of this basis\n",
    "    \n",
    "    # however, for the next projection we don't need the parallel copy, so we can continue with basis[:,ind3]\n",
    "    a = basis[:,ind1]\n",
    "    b = basis[:,ind2]\n",
    "    c = basis[:,ind3]\n",
    "    uxc = np.cross(u,c)\n",
    "    l1 = np.dot(a,uxc) #/ la.norm(uxc)\n",
    "    l2 = np.dot(b,uxc) #/ la.norm(uxc)\n",
    "    gcd,x,y = gcdExtended(l1,l2)\n",
    "    \n",
    "    # we now have everything for the new basis\n",
    "    vec1 = u\n",
    "    vec2 = (x*a + y*b) #/ la.norm(uxc) # do we actually need to divide by the norm??\n",
    "    vec3 = c # actually a rescaled version of c!!!\n",
    "    \n",
    "    # rescaling c?\n",
    "    #sigma = gcd3(coeff[0],coeff[1],coeff[2])\n",
    "    sigma = math.gcd(coeff[ind1],coeff[ind2])\n",
    "    #print(\"scaling by\",-coeff[ind3]/ sigma )\n",
    "    vec3 = vec3 * (-coeff[ind3]/ sigma )\n",
    "    #print(\"Warning: the second basis vector actually needs to be rescaled!\")\n",
    "    return np.transpose(np.array([vec1,vec2,vec3]))"
   ]
  },
  {
   "cell_type": "code",
   "execution_count": 8,
   "id": "451b1e3c",
   "metadata": {},
   "outputs": [
    {
     "ename": "IndentationError",
     "evalue": "expected an indented block (<ipython-input-8-be3031c33f1d>, line 14)",
     "output_type": "error",
     "traceback": [
      "\u001b[0;36m  File \u001b[0;32m\"<ipython-input-8-be3031c33f1d>\"\u001b[0;36m, line \u001b[0;32m14\u001b[0m\n\u001b[0;31m    def basis_1d(v,w):\u001b[0m\n\u001b[0m                      ^\u001b[0m\n\u001b[0;31mIndentationError\u001b[0m\u001b[0;31m:\u001b[0m expected an indented block\n"
     ]
    }
   ],
   "source": [
    "# new version\n",
    "\n",
    "\n",
    "def L32_choice_basis(basis, u, dim):\n",
    "    # we are always assuming a 3-dimensional vector as a numpy array\n",
    "    if dim == 1:\n",
    "        # basis is just one vector with 3 rational entries\n",
    "        # u is vector with 3 rational entries\n",
    "        # both are collienar\n",
    "        # multiply to make them whole numbers\n",
    "        # take gcd of all of their entries, pairwise\n",
    "        # take gcd of all of those gcds\n",
    "        \n",
    "def basis_1d(v,w):\n",
    "    for i in range(3):\n",
    "        if v[i] != 0:\n",
    "            gcd,x,y = gcdExtended(v[i],w[i])\n",
    "            new_vec = v * gcd/v[i]\n",
    "            break\n",
    "    return new_vec, x, y\n",
    "\n",
    "def basis_2d(Pa,Pb,Pc):\n",
    "    # Pa, Pb are linearly independent, Pc is primitive additional vector\n",
    "    # first calculate primitive vector nu parallel to Pv\n",
    "    # then we project Pa, Pb onto orthogonal complement of u\n",
    "    # then we do basis_1d, which gives us coefficients for the preimage of the basiselement\n",
    "    # this preimage together with nu is basis\n",
    "    # do the stuff from smallest common sublattice\n",
    "    \n",
    "    # projection\n",
    "    PPa = a - (a.dot(u)/u.dot(u)) * u\n",
    "    PPb = b - (b.dot(u)/u.dot(u)) * u\n",
    "    \n",
    "    # primitive"
   ]
  },
  {
   "cell_type": "code",
   "execution_count": 9,
   "id": "3ebeff43",
   "metadata": {},
   "outputs": [
    {
     "data": {
      "text/latex": [
       "$\\displaystyle 3$"
      ],
      "text/plain": [
       "3"
      ]
     },
     "execution_count": 9,
     "metadata": {},
     "output_type": "execute_result"
    }
   ],
   "source": [
    "sp.Matrix([2,3,2])[1]"
   ]
  },
  {
   "cell_type": "code",
   "execution_count": 10,
   "id": "5c6a9efb",
   "metadata": {},
   "outputs": [
    {
     "name": "stdout",
     "output_type": "stream",
     "text": [
      "\n",
      "\u001b[1mExample\u001b[0m\n",
      "The basis is given by vectors a=[ 3. -3.  5.], b=[5. 5. 3.] and c=[-4.  4. -2.].\n",
      "The additional vector is u=[-3.  1.  5.].\n",
      "The vector v, which is parallel to u and lies in the original sublattice is v = Matrix([[-7203000], [2401000], [12005000]]). \n",
      "It can be written as the linear combination\n",
      "\n",
      "                v = 4527600*a + -480200*b + 4596200*c .\n",
      "\n",
      "\n",
      "Next, we want to create a larger sublattice, which means finding a basis that contains v. \n",
      "For this we use L32_choice_basis(). \n",
      "After the first projection, we find that:\n",
      "\n"
     ]
    },
    {
     "ename": "ValueError",
     "evalue": "could not broadcast input array from shape (3,1) into shape (3,)",
     "output_type": "error",
     "traceback": [
      "\u001b[0;31m---------------------------------------------------------------------------\u001b[0m",
      "\u001b[0;31mValueError\u001b[0m                                Traceback (most recent call last)",
      "\u001b[0;32m<ipython-input-10-146e18e31310>\u001b[0m in \u001b[0;36m<module>\u001b[0;34m\u001b[0m\n\u001b[1;32m     20\u001b[0m \u001b[0mAfter\u001b[0m \u001b[0mthe\u001b[0m \u001b[0mfirst\u001b[0m \u001b[0mprojection\u001b[0m\u001b[0;34m,\u001b[0m \u001b[0mwe\u001b[0m \u001b[0mfind\u001b[0m \u001b[0mthat\u001b[0m\u001b[0;34m:\u001b[0m\u001b[0;34m\u001b[0m\u001b[0;34m\u001b[0m\u001b[0m\n\u001b[1;32m     21\u001b[0m \"\"\")\n\u001b[0;32m---> 22\u001b[0;31m \u001b[0mnew_basis\u001b[0m \u001b[0;34m=\u001b[0m \u001b[0mL32_choice_basis\u001b[0m\u001b[0;34m(\u001b[0m\u001b[0mbasis\u001b[0m\u001b[0;34m,\u001b[0m \u001b[0mv\u001b[0m\u001b[0;34m,\u001b[0m \u001b[0mc\u001b[0m\u001b[0;34m)\u001b[0m\u001b[0;34m\u001b[0m\u001b[0;34m\u001b[0m\u001b[0m\n\u001b[0m\u001b[1;32m     23\u001b[0m print(f\"\"\"The new basis vectors are:\n\u001b[1;32m     24\u001b[0m       \u001b[0ma_new\u001b[0m \u001b[0;34m=\u001b[0m \u001b[0;34m{\u001b[0m\u001b[0mnew_basis\u001b[0m\u001b[0;34m[\u001b[0m\u001b[0;34m:\u001b[0m\u001b[0;34m,\u001b[0m\u001b[0;36m0\u001b[0m\u001b[0;34m]\u001b[0m\u001b[0;34m}\u001b[0m\u001b[0;34m\u001b[0m\u001b[0;34m\u001b[0m\u001b[0m\n",
      "\u001b[0;32m<ipython-input-7-4318ad659358>\u001b[0m in \u001b[0;36mL32_choice_basis\u001b[0;34m(basis, u, coeff)\u001b[0m\n\u001b[1;32m     29\u001b[0m         \u001b[0mtest_mx\u001b[0m\u001b[0;34m[\u001b[0m\u001b[0;34m:\u001b[0m\u001b[0;34m,\u001b[0m\u001b[0;36m0\u001b[0m\u001b[0;34m]\u001b[0m \u001b[0;34m=\u001b[0m \u001b[0mbasis\u001b[0m\u001b[0;34m[\u001b[0m\u001b[0;34m:\u001b[0m\u001b[0;34m,\u001b[0m\u001b[0mi\u001b[0m\u001b[0;34m%\u001b[0m\u001b[0;36m3\u001b[0m\u001b[0;34m]\u001b[0m\u001b[0;34m\u001b[0m\u001b[0;34m\u001b[0m\u001b[0m\n\u001b[1;32m     30\u001b[0m         \u001b[0mtest_mx\u001b[0m\u001b[0;34m[\u001b[0m\u001b[0;34m:\u001b[0m\u001b[0;34m,\u001b[0m\u001b[0;36m1\u001b[0m\u001b[0;34m]\u001b[0m \u001b[0;34m=\u001b[0m \u001b[0mbasis\u001b[0m\u001b[0;34m[\u001b[0m\u001b[0;34m:\u001b[0m\u001b[0;34m,\u001b[0m\u001b[0;34m(\u001b[0m\u001b[0mi\u001b[0m\u001b[0;34m+\u001b[0m\u001b[0;36m1\u001b[0m\u001b[0;34m)\u001b[0m\u001b[0;34m%\u001b[0m\u001b[0;36m3\u001b[0m\u001b[0;34m]\u001b[0m\u001b[0;34m\u001b[0m\u001b[0;34m\u001b[0m\u001b[0m\n\u001b[0;32m---> 31\u001b[0;31m         \u001b[0mtest_mx\u001b[0m\u001b[0;34m[\u001b[0m\u001b[0;34m:\u001b[0m\u001b[0;34m,\u001b[0m\u001b[0;36m2\u001b[0m\u001b[0;34m]\u001b[0m \u001b[0;34m=\u001b[0m \u001b[0mu\u001b[0m\u001b[0;34m\u001b[0m\u001b[0;34m\u001b[0m\u001b[0m\n\u001b[0m\u001b[1;32m     32\u001b[0m         \u001b[0;32mif\u001b[0m \u001b[0mla\u001b[0m\u001b[0;34m.\u001b[0m\u001b[0mdet\u001b[0m\u001b[0;34m(\u001b[0m\u001b[0mtest_mx\u001b[0m\u001b[0;34m)\u001b[0m\u001b[0;34m!=\u001b[0m\u001b[0;36m0\u001b[0m\u001b[0;34m:\u001b[0m\u001b[0;34m\u001b[0m\u001b[0;34m\u001b[0m\u001b[0m\n\u001b[1;32m     33\u001b[0m             \u001b[0mind1\u001b[0m \u001b[0;34m=\u001b[0m \u001b[0mi\u001b[0m\u001b[0;34m\u001b[0m\u001b[0;34m\u001b[0m\u001b[0m\n",
      "\u001b[0;31mValueError\u001b[0m: could not broadcast input array from shape (3,1) into shape (3,)"
     ]
    }
   ],
   "source": [
    "basis = gen_int_basis()\n",
    "u = gen_int_vec()\n",
    "#basis= np.array([[ 4., -1.,  2.],[ 4.,  5., -1.],[ 0.,  4.,  3.]]) # convert to sympy\n",
    "#u=np.array([ 0.,  3., -4.]) # convert to sympa\n",
    "v,c = L31_parallel_vectors(basis,u)\n",
    "\n",
    "print(f\"\"\"\n",
    "\\033[1mExample\\033[0m\n",
    "The basis is given by vectors a={basis[:,0]}, b={basis[:,1]} and c={basis[:,2]}.\n",
    "The additional vector is u={u}.\n",
    "The vector v, which is parallel to u and lies in the original sublattice is v = {v}. \n",
    "It can be written as the linear combination\n",
    "\n",
    "                v = {c[0]}*a + {c[1]}*b + {c[2]}*c .\n",
    "\"\"\")\n",
    "\n",
    "print(f\"\"\"\n",
    "Next, we want to create a larger sublattice, which means finding a basis that contains v. \n",
    "For this we use L32_choice_basis(). \n",
    "After the first projection, we find that:\n",
    "\"\"\")\n",
    "new_basis = L32_choice_basis(basis, v, c)\n",
    "print(f\"\"\"The new basis vectors are:\n",
    "      a_new = {new_basis[:,0]}\n",
    "      b_new = {new_basis[:,1]}\n",
    "      c_new = {new_basis[:,2]}\"\"\")"
   ]
  },
  {
   "cell_type": "code",
   "execution_count": 11,
   "id": "e87e5d3a",
   "metadata": {},
   "outputs": [
    {
     "ename": "NameError",
     "evalue": "name 'new_basis' is not defined",
     "output_type": "error",
     "traceback": [
      "\u001b[0;31m---------------------------------------------------------------------------\u001b[0m",
      "\u001b[0;31mNameError\u001b[0m                                 Traceback (most recent call last)",
      "\u001b[0;32m<ipython-input-11-7770000b92d4>\u001b[0m in \u001b[0;36m<module>\u001b[0;34m\u001b[0m\n\u001b[0;32m----> 1\u001b[0;31m \u001b[0mla\u001b[0m\u001b[0;34m.\u001b[0m\u001b[0mdet\u001b[0m\u001b[0;34m(\u001b[0m\u001b[0mnew_basis\u001b[0m\u001b[0;34m)\u001b[0m\u001b[0;34m\u001b[0m\u001b[0;34m\u001b[0m\u001b[0m\n\u001b[0m",
      "\u001b[0;31mNameError\u001b[0m: name 'new_basis' is not defined"
     ]
    }
   ],
   "source": [
    "la.det(new_basis)"
   ]
  },
  {
   "cell_type": "markdown",
   "id": "64ae5a4c",
   "metadata": {},
   "source": [
    "### Idea \n",
    "I think I know what the problem is:\n",
    "The proof says: IF I have a primitive vector, I can get a basis. but we don't start with a primitive. to get a new basis containing our arbitrary vector, we need the next lemma. but during the proof of the basis with the primitive vectors, we already need to do this in the induction step. "
   ]
  },
  {
   "cell_type": "code",
   "execution_count": 12,
   "id": "ba996dca",
   "metadata": {},
   "outputs": [],
   "source": [
    "#okay, I'm gonna try to code this whole thing in one"
   ]
  },
  {
   "cell_type": "code",
   "execution_count": 13,
   "id": "92279a63",
   "metadata": {},
   "outputs": [
    {
     "ename": "NonInvertibleMatrixError",
     "evalue": "Matrix det == 0; not invertible.",
     "output_type": "error",
     "traceback": [
      "\u001b[0;31m---------------------------------------------------------------------------\u001b[0m",
      "\u001b[0;31mNonInvertibleMatrixError\u001b[0m                  Traceback (most recent call last)",
      "\u001b[0;32m<ipython-input-13-90040b8c6c4b>\u001b[0m in \u001b[0;36m<module>\u001b[0;34m\u001b[0m\n\u001b[1;32m     25\u001b[0m \u001b[0mreduced_basis\u001b[0m \u001b[0;34m=\u001b[0m \u001b[0mnp\u001b[0m\u001b[0;34m.\u001b[0m\u001b[0marray\u001b[0m\u001b[0;34m(\u001b[0m\u001b[0;34m[\u001b[0m\u001b[0;34m[\u001b[0m\u001b[0mPa\u001b[0m\u001b[0;34m[\u001b[0m\u001b[0;36m0\u001b[0m\u001b[0;34m]\u001b[0m\u001b[0;34m,\u001b[0m\u001b[0mPb\u001b[0m\u001b[0;34m[\u001b[0m\u001b[0;36m0\u001b[0m\u001b[0;34m]\u001b[0m\u001b[0;34m]\u001b[0m\u001b[0;34m,\u001b[0m\u001b[0;34m[\u001b[0m\u001b[0mPa\u001b[0m\u001b[0;34m[\u001b[0m\u001b[0;36m1\u001b[0m\u001b[0;34m]\u001b[0m\u001b[0;34m,\u001b[0m\u001b[0mPb\u001b[0m\u001b[0;34m[\u001b[0m\u001b[0;36m1\u001b[0m\u001b[0;34m]\u001b[0m\u001b[0;34m]\u001b[0m\u001b[0;34m]\u001b[0m\u001b[0;34m)\u001b[0m\u001b[0;34m\u001b[0m\u001b[0;34m\u001b[0m\u001b[0m\n\u001b[1;32m     26\u001b[0m \u001b[0mnew_u\u001b[0m \u001b[0;34m=\u001b[0m \u001b[0mnp\u001b[0m\u001b[0;34m.\u001b[0m\u001b[0marray\u001b[0m\u001b[0;34m(\u001b[0m\u001b[0;34m[\u001b[0m\u001b[0mPc\u001b[0m\u001b[0;34m[\u001b[0m\u001b[0;36m0\u001b[0m\u001b[0;34m]\u001b[0m\u001b[0;34m,\u001b[0m\u001b[0mPc\u001b[0m\u001b[0;34m[\u001b[0m\u001b[0;36m1\u001b[0m\u001b[0;34m]\u001b[0m\u001b[0;34m]\u001b[0m\u001b[0;34m)\u001b[0m\u001b[0;34m\u001b[0m\u001b[0;34m\u001b[0m\u001b[0m\n\u001b[0;32m---> 27\u001b[0;31m \u001b[0mv2d\u001b[0m\u001b[0;34m,\u001b[0m\u001b[0mcoeff2d\u001b[0m \u001b[0;34m=\u001b[0m \u001b[0mL31_parallel_vectors\u001b[0m\u001b[0;34m(\u001b[0m\u001b[0mreduced_basis\u001b[0m\u001b[0;34m,\u001b[0m\u001b[0mnew_u\u001b[0m\u001b[0;34m)\u001b[0m\u001b[0;34m\u001b[0m\u001b[0;34m\u001b[0m\u001b[0m\n\u001b[0m\u001b[1;32m     28\u001b[0m \u001b[0mv2d\u001b[0m\u001b[0;34m,\u001b[0m\u001b[0mcoeff2d\u001b[0m \u001b[0;34m=\u001b[0m \u001b[0mprimitive\u001b[0m\u001b[0;34m(\u001b[0m\u001b[0mv2d\u001b[0m\u001b[0;34m,\u001b[0m\u001b[0mcoeff2d\u001b[0m\u001b[0;34m)\u001b[0m\u001b[0;34m\u001b[0m\u001b[0;34m\u001b[0m\u001b[0m\n\u001b[1;32m     29\u001b[0m \u001b[0;34m\u001b[0m\u001b[0m\n",
      "\u001b[0;32m<ipython-input-4-50b20396391f>\u001b[0m in \u001b[0;36mL31_parallel_vectors\u001b[0;34m(basis, u)\u001b[0m\n\u001b[1;32m      5\u001b[0m     \u001b[0;31m# input is numpy arrays, output is sympy matrices\u001b[0m\u001b[0;34m\u001b[0m\u001b[0;34m\u001b[0m\u001b[0;34m\u001b[0m\u001b[0m\n\u001b[1;32m      6\u001b[0m     \u001b[0mG\u001b[0m \u001b[0;34m=\u001b[0m \u001b[0msp\u001b[0m\u001b[0;34m.\u001b[0m\u001b[0mMatrix\u001b[0m\u001b[0;34m(\u001b[0m\u001b[0mnp\u001b[0m\u001b[0;34m.\u001b[0m\u001b[0mint32\u001b[0m\u001b[0;34m(\u001b[0m\u001b[0mbasis\u001b[0m\u001b[0;34m)\u001b[0m\u001b[0;34m)\u001b[0m\u001b[0;34m\u001b[0m\u001b[0;34m\u001b[0m\u001b[0m\n\u001b[0;32m----> 7\u001b[0;31m     \u001b[0mGi\u001b[0m \u001b[0;34m=\u001b[0m \u001b[0mG\u001b[0m\u001b[0;34m**\u001b[0m\u001b[0;34m(\u001b[0m\u001b[0;34m-\u001b[0m\u001b[0;36m1\u001b[0m\u001b[0;34m)\u001b[0m\u001b[0;34m\u001b[0m\u001b[0;34m\u001b[0m\u001b[0m\n\u001b[0m\u001b[1;32m      8\u001b[0m     \u001b[0mdenom_list\u001b[0m \u001b[0;34m=\u001b[0m \u001b[0;34m[\u001b[0m\u001b[0;34m]\u001b[0m\u001b[0;34m\u001b[0m\u001b[0;34m\u001b[0m\u001b[0m\n\u001b[1;32m      9\u001b[0m     \u001b[0mp\u001b[0m \u001b[0;34m=\u001b[0m \u001b[0;36m1\u001b[0m\u001b[0;34m\u001b[0m\u001b[0;34m\u001b[0m\u001b[0m\n",
      "\u001b[0;32m/anaconda3/lib/python3.7/site-packages/sympy/core/decorators.py\u001b[0m in \u001b[0;36mbinary_op_wrapper\u001b[0;34m(self, other)\u001b[0m\n\u001b[1;32m    134\u001b[0m                     \u001b[0;32mif\u001b[0m \u001b[0mf\u001b[0m \u001b[0;32mis\u001b[0m \u001b[0;32mnot\u001b[0m \u001b[0;32mNone\u001b[0m\u001b[0;34m:\u001b[0m\u001b[0;34m\u001b[0m\u001b[0;34m\u001b[0m\u001b[0m\n\u001b[1;32m    135\u001b[0m                         \u001b[0;32mreturn\u001b[0m \u001b[0mf\u001b[0m\u001b[0;34m(\u001b[0m\u001b[0mself\u001b[0m\u001b[0;34m)\u001b[0m\u001b[0;34m\u001b[0m\u001b[0;34m\u001b[0m\u001b[0m\n\u001b[0;32m--> 136\u001b[0;31m             \u001b[0;32mreturn\u001b[0m \u001b[0mfunc\u001b[0m\u001b[0;34m(\u001b[0m\u001b[0mself\u001b[0m\u001b[0;34m,\u001b[0m \u001b[0mother\u001b[0m\u001b[0;34m)\u001b[0m\u001b[0;34m\u001b[0m\u001b[0;34m\u001b[0m\u001b[0m\n\u001b[0m\u001b[1;32m    137\u001b[0m         \u001b[0;32mreturn\u001b[0m \u001b[0mbinary_op_wrapper\u001b[0m\u001b[0;34m\u001b[0m\u001b[0;34m\u001b[0m\u001b[0m\n\u001b[1;32m    138\u001b[0m     \u001b[0;32mreturn\u001b[0m \u001b[0mpriority_decorator\u001b[0m\u001b[0;34m\u001b[0m\u001b[0;34m\u001b[0m\u001b[0m\n",
      "\u001b[0;32m/anaconda3/lib/python3.7/site-packages/sympy/matrices/common.py\u001b[0m in \u001b[0;36m__pow__\u001b[0;34m(self, exp)\u001b[0m\n\u001b[1;32m   2818\u001b[0m         \u001b[0;34m\"\"\"Return self**exp a scalar or symbol.\"\"\"\u001b[0m\u001b[0;34m\u001b[0m\u001b[0;34m\u001b[0m\u001b[0m\n\u001b[1;32m   2819\u001b[0m \u001b[0;34m\u001b[0m\u001b[0m\n\u001b[0;32m-> 2820\u001b[0;31m         \u001b[0;32mreturn\u001b[0m \u001b[0mself\u001b[0m\u001b[0;34m.\u001b[0m\u001b[0mpow\u001b[0m\u001b[0;34m(\u001b[0m\u001b[0mexp\u001b[0m\u001b[0;34m)\u001b[0m\u001b[0;34m\u001b[0m\u001b[0;34m\u001b[0m\u001b[0m\n\u001b[0m\u001b[1;32m   2821\u001b[0m \u001b[0;34m\u001b[0m\u001b[0m\n\u001b[1;32m   2822\u001b[0m \u001b[0;34m\u001b[0m\u001b[0m\n",
      "\u001b[0;32m/anaconda3/lib/python3.7/site-packages/sympy/matrices/common.py\u001b[0m in \u001b[0;36mpow\u001b[0;34m(self, exp, method)\u001b[0m\n\u001b[1;32m   2862\u001b[0m             \u001b[0;32mif\u001b[0m \u001b[0mexp\u001b[0m \u001b[0;34m<\u001b[0m \u001b[0;36m0\u001b[0m\u001b[0;34m:\u001b[0m\u001b[0;34m\u001b[0m\u001b[0;34m\u001b[0m\u001b[0m\n\u001b[1;32m   2863\u001b[0m                 \u001b[0mexp\u001b[0m \u001b[0;34m=\u001b[0m \u001b[0;34m-\u001b[0m\u001b[0mexp\u001b[0m\u001b[0;34m\u001b[0m\u001b[0;34m\u001b[0m\u001b[0m\n\u001b[0;32m-> 2864\u001b[0;31m                 \u001b[0ma\u001b[0m \u001b[0;34m=\u001b[0m \u001b[0ma\u001b[0m\u001b[0;34m.\u001b[0m\u001b[0minv\u001b[0m\u001b[0;34m(\u001b[0m\u001b[0;34m)\u001b[0m\u001b[0;34m\u001b[0m\u001b[0;34m\u001b[0m\u001b[0m\n\u001b[0m\u001b[1;32m   2865\u001b[0m         \u001b[0;31m# When certain conditions are met,\u001b[0m\u001b[0;34m\u001b[0m\u001b[0;34m\u001b[0m\u001b[0;34m\u001b[0m\u001b[0m\n\u001b[1;32m   2866\u001b[0m         \u001b[0;31m# Jordan block algorithm is faster than\u001b[0m\u001b[0;34m\u001b[0m\u001b[0;34m\u001b[0m\u001b[0;34m\u001b[0m\u001b[0m\n",
      "\u001b[0;32m/anaconda3/lib/python3.7/site-packages/sympy/matrices/matrices.py\u001b[0m in \u001b[0;36minv\u001b[0;34m(self, method, iszerofunc, try_block_diag)\u001b[0m\n\u001b[1;32m   2198\u001b[0m     \u001b[0;32mdef\u001b[0m \u001b[0minv\u001b[0m\u001b[0;34m(\u001b[0m\u001b[0mself\u001b[0m\u001b[0;34m,\u001b[0m \u001b[0mmethod\u001b[0m\u001b[0;34m=\u001b[0m\u001b[0;32mNone\u001b[0m\u001b[0;34m,\u001b[0m \u001b[0miszerofunc\u001b[0m\u001b[0;34m=\u001b[0m\u001b[0m_iszero\u001b[0m\u001b[0;34m,\u001b[0m \u001b[0mtry_block_diag\u001b[0m\u001b[0;34m=\u001b[0m\u001b[0;32mFalse\u001b[0m\u001b[0;34m)\u001b[0m\u001b[0;34m:\u001b[0m\u001b[0;34m\u001b[0m\u001b[0;34m\u001b[0m\u001b[0m\n\u001b[1;32m   2199\u001b[0m         return _inv(self, method=method, iszerofunc=iszerofunc,\n\u001b[0;32m-> 2200\u001b[0;31m                 try_block_diag=try_block_diag)\n\u001b[0m\u001b[1;32m   2201\u001b[0m \u001b[0;34m\u001b[0m\u001b[0m\n\u001b[1;32m   2202\u001b[0m     \u001b[0;32mdef\u001b[0m \u001b[0mconnected_components\u001b[0m\u001b[0;34m(\u001b[0m\u001b[0mself\u001b[0m\u001b[0;34m)\u001b[0m\u001b[0;34m:\u001b[0m\u001b[0;34m\u001b[0m\u001b[0;34m\u001b[0m\u001b[0m\n",
      "\u001b[0;32m/anaconda3/lib/python3.7/site-packages/sympy/matrices/inverse.py\u001b[0m in \u001b[0;36m_inv\u001b[0;34m(M, method, iszerofunc, try_block_diag)\u001b[0m\n\u001b[1;32m    457\u001b[0m \u001b[0;34m\u001b[0m\u001b[0m\n\u001b[1;32m    458\u001b[0m     \u001b[0;32mif\u001b[0m \u001b[0mmethod\u001b[0m \u001b[0;34m==\u001b[0m \u001b[0;34m\"GE\"\u001b[0m\u001b[0;34m:\u001b[0m\u001b[0;34m\u001b[0m\u001b[0;34m\u001b[0m\u001b[0m\n\u001b[0;32m--> 459\u001b[0;31m         \u001b[0mrv\u001b[0m \u001b[0;34m=\u001b[0m \u001b[0mM\u001b[0m\u001b[0;34m.\u001b[0m\u001b[0minverse_GE\u001b[0m\u001b[0;34m(\u001b[0m\u001b[0miszerofunc\u001b[0m\u001b[0;34m=\u001b[0m\u001b[0miszerofunc\u001b[0m\u001b[0;34m)\u001b[0m\u001b[0;34m\u001b[0m\u001b[0;34m\u001b[0m\u001b[0m\n\u001b[0m\u001b[1;32m    460\u001b[0m     \u001b[0;32melif\u001b[0m \u001b[0mmethod\u001b[0m \u001b[0;34m==\u001b[0m \u001b[0;34m\"LU\"\u001b[0m\u001b[0;34m:\u001b[0m\u001b[0;34m\u001b[0m\u001b[0;34m\u001b[0m\u001b[0m\n\u001b[1;32m    461\u001b[0m         \u001b[0mrv\u001b[0m \u001b[0;34m=\u001b[0m \u001b[0mM\u001b[0m\u001b[0;34m.\u001b[0m\u001b[0minverse_LU\u001b[0m\u001b[0;34m(\u001b[0m\u001b[0miszerofunc\u001b[0m\u001b[0;34m=\u001b[0m\u001b[0miszerofunc\u001b[0m\u001b[0;34m)\u001b[0m\u001b[0;34m\u001b[0m\u001b[0;34m\u001b[0m\u001b[0m\n",
      "\u001b[0;32m/anaconda3/lib/python3.7/site-packages/sympy/matrices/matrices.py\u001b[0m in \u001b[0;36minverse_GE\u001b[0;34m(self, iszerofunc)\u001b[0m\n\u001b[1;32m   2182\u001b[0m \u001b[0;34m\u001b[0m\u001b[0m\n\u001b[1;32m   2183\u001b[0m     \u001b[0;32mdef\u001b[0m \u001b[0minverse_GE\u001b[0m\u001b[0;34m(\u001b[0m\u001b[0mself\u001b[0m\u001b[0;34m,\u001b[0m \u001b[0miszerofunc\u001b[0m\u001b[0;34m=\u001b[0m\u001b[0m_iszero\u001b[0m\u001b[0;34m)\u001b[0m\u001b[0;34m:\u001b[0m\u001b[0;34m\u001b[0m\u001b[0;34m\u001b[0m\u001b[0m\n\u001b[0;32m-> 2184\u001b[0;31m         \u001b[0;32mreturn\u001b[0m \u001b[0m_inv_GE\u001b[0m\u001b[0;34m(\u001b[0m\u001b[0mself\u001b[0m\u001b[0;34m,\u001b[0m \u001b[0miszerofunc\u001b[0m\u001b[0;34m=\u001b[0m\u001b[0miszerofunc\u001b[0m\u001b[0;34m)\u001b[0m\u001b[0;34m\u001b[0m\u001b[0;34m\u001b[0m\u001b[0m\n\u001b[0m\u001b[1;32m   2185\u001b[0m \u001b[0;34m\u001b[0m\u001b[0m\n\u001b[1;32m   2186\u001b[0m     \u001b[0;32mdef\u001b[0m \u001b[0minverse_LU\u001b[0m\u001b[0;34m(\u001b[0m\u001b[0mself\u001b[0m\u001b[0;34m,\u001b[0m \u001b[0miszerofunc\u001b[0m\u001b[0;34m=\u001b[0m\u001b[0m_iszero\u001b[0m\u001b[0;34m)\u001b[0m\u001b[0;34m:\u001b[0m\u001b[0;34m\u001b[0m\u001b[0;34m\u001b[0m\u001b[0m\n",
      "\u001b[0;32m/anaconda3/lib/python3.7/site-packages/sympy/matrices/inverse.py\u001b[0m in \u001b[0;36m_inv_GE\u001b[0;34m(M, iszerofunc)\u001b[0m\n\u001b[1;32m    243\u001b[0m \u001b[0;34m\u001b[0m\u001b[0m\n\u001b[1;32m    244\u001b[0m     \u001b[0;32mif\u001b[0m \u001b[0many\u001b[0m\u001b[0;34m(\u001b[0m\u001b[0miszerofunc\u001b[0m\u001b[0;34m(\u001b[0m\u001b[0mred\u001b[0m\u001b[0;34m[\u001b[0m\u001b[0mj\u001b[0m\u001b[0;34m,\u001b[0m \u001b[0mj\u001b[0m\u001b[0;34m]\u001b[0m\u001b[0;34m)\u001b[0m \u001b[0;32mfor\u001b[0m \u001b[0mj\u001b[0m \u001b[0;32min\u001b[0m \u001b[0mrange\u001b[0m\u001b[0;34m(\u001b[0m\u001b[0mred\u001b[0m\u001b[0;34m.\u001b[0m\u001b[0mrows\u001b[0m\u001b[0;34m)\u001b[0m\u001b[0;34m)\u001b[0m\u001b[0;34m:\u001b[0m\u001b[0;34m\u001b[0m\u001b[0;34m\u001b[0m\u001b[0m\n\u001b[0;32m--> 245\u001b[0;31m         \u001b[0;32mraise\u001b[0m \u001b[0mNonInvertibleMatrixError\u001b[0m\u001b[0;34m(\u001b[0m\u001b[0;34m\"Matrix det == 0; not invertible.\"\u001b[0m\u001b[0;34m)\u001b[0m\u001b[0;34m\u001b[0m\u001b[0;34m\u001b[0m\u001b[0m\n\u001b[0m\u001b[1;32m    246\u001b[0m \u001b[0;34m\u001b[0m\u001b[0m\n\u001b[1;32m    247\u001b[0m     \u001b[0;32mreturn\u001b[0m \u001b[0mM\u001b[0m\u001b[0;34m.\u001b[0m\u001b[0m_new\u001b[0m\u001b[0;34m(\u001b[0m\u001b[0mred\u001b[0m\u001b[0;34m[\u001b[0m\u001b[0;34m:\u001b[0m\u001b[0;34m,\u001b[0m \u001b[0mbig\u001b[0m\u001b[0;34m.\u001b[0m\u001b[0mrows\u001b[0m\u001b[0;34m:\u001b[0m\u001b[0;34m]\u001b[0m\u001b[0;34m)\u001b[0m\u001b[0;34m\u001b[0m\u001b[0;34m\u001b[0m\u001b[0m\n",
      "\u001b[0;31mNonInvertibleMatrixError\u001b[0m: Matrix det == 0; not invertible."
     ]
    }
   ],
   "source": [
    "basis = gen_int_basis()\n",
    "u = gen_int_vec()\n",
    "v,coeff = L31_parallel_vectors(basis,u)\n",
    "v,coeff = primitive(v,coeff)\n",
    "\n",
    "a = basis[:,0]\n",
    "a = sp.Matrix(np.int32(a))\n",
    "\n",
    "b = basis[:,1]\n",
    "b = sp.Matrix(np.int32(b))\n",
    "\n",
    "c = basis[:,2]\n",
    "c = sp.Matrix(np.int32(c))\n",
    "\n",
    "# First project with v\n",
    "Pa = a - (a.dot(v)/v.dot(v)) * v\n",
    "Pb = b - (b.dot(v)/v.dot(v)) * v\n",
    "Pc = c - (c.dot(v)/v.dot(v)) * v\n",
    "\n",
    "# just assume for now that Pa und Pb are linearly independent\n",
    "# also just assume that discarding coordinate\n",
    "\n",
    "# BEFORE DOING PARALLEL_VECTORS, BRING EVERYTHING TO INTEGER VALUES\n",
    "# AFTER HAVING THE NEW PRIMITIVE (WHICH I HOPE IS CORRECT), THEN DIVIDE AGAIN TO HAVE EVERYTHING TO SCALE\n",
    "reduced_basis = np.array([[Pa[0],Pb[0]],[Pa[1],Pb[1]]])\n",
    "new_u = np.array([Pc[0],Pc[1]])\n",
    "v2d,coeff2d = L31_parallel_vectors(reduced_basis,new_u)\n",
    "v2d,coeff2d = primitive(v2d,coeff2d)\n",
    "\n",
    "# ONCE WE HAVE THE COEFFICIENTS, WE CAN BUILD THE ACTUAL NEW PRIMITIVE FROM OUR 3-DIM VECTORS\n",
    "# USING THIS ACTUAL PRIMITIVE, WE CAN PROJECT A SECOND TIME TO GET TWO 1-DIMENSIONAL 3D VECTORS\n",
    "# FOR THSOE I HAVE ALREADY WRITTEN SOME CODE ABOVE ON HOW TO GET THE GCD\n",
    "    "
   ]
  },
  {
   "cell_type": "code",
   "execution_count": 63,
   "id": "cce739f0",
   "metadata": {},
   "outputs": [
    {
     "data": {
      "text/latex": [
       "$\\displaystyle \\left[\\begin{matrix}-4\\\\5\\\\-2\\end{matrix}\\right]$"
      ],
      "text/plain": [
       "Matrix([\n",
       "[-4],\n",
       "[ 5],\n",
       "[-2]])"
      ]
     },
     "execution_count": 63,
     "metadata": {},
     "output_type": "execute_result"
    }
   ],
   "source": [
    "a"
   ]
  },
  {
   "cell_type": "code",
   "execution_count": 64,
   "id": "0009ee0a",
   "metadata": {},
   "outputs": [
    {
     "data": {
      "text/latex": [
       "$\\displaystyle \\left[\\begin{matrix}0\\\\-1\\\\5\\end{matrix}\\right]$"
      ],
      "text/plain": [
       "Matrix([\n",
       "[ 0],\n",
       "[-1],\n",
       "[ 5]])"
      ]
     },
     "execution_count": 64,
     "metadata": {},
     "output_type": "execute_result"
    }
   ],
   "source": [
    "b"
   ]
  },
  {
   "cell_type": "code",
   "execution_count": 65,
   "id": "b49af714",
   "metadata": {},
   "outputs": [
    {
     "data": {
      "text/latex": [
       "$\\displaystyle \\left[\\begin{matrix}-1\\\\5\\\\-2\\end{matrix}\\right]$"
      ],
      "text/plain": [
       "Matrix([\n",
       "[-1],\n",
       "[ 5],\n",
       "[-2]])"
      ]
     },
     "execution_count": 65,
     "metadata": {},
     "output_type": "execute_result"
    }
   ],
   "source": [
    "c"
   ]
  },
  {
   "cell_type": "code",
   "execution_count": 68,
   "id": "dea99f5f",
   "metadata": {},
   "outputs": [
    {
     "data": {
      "text/plain": [
       "array([1., 3., 3.])"
      ]
     },
     "execution_count": 68,
     "metadata": {},
     "output_type": "execute_result"
    }
   ],
   "source": [
    "u"
   ]
  },
  {
   "cell_type": "code",
   "execution_count": 69,
   "id": "5c542c39",
   "metadata": {},
   "outputs": [
    {
     "data": {
      "text/latex": [
       "$\\displaystyle \\left[\\begin{matrix}69\\\\207\\\\207\\end{matrix}\\right]$"
      ],
      "text/plain": [
       "Matrix([\n",
       "[ 69],\n",
       "[207],\n",
       "[207]])"
      ]
     },
     "execution_count": 69,
     "metadata": {},
     "output_type": "execute_result"
    }
   ],
   "source": [
    "v"
   ]
  },
  {
   "cell_type": "code",
   "execution_count": 70,
   "id": "5cd909e8",
   "metadata": {},
   "outputs": [
    {
     "data": {
      "text/latex": [
       "$\\displaystyle \\left[\\begin{matrix}- \\frac{81}{19}\\\\\\frac{80}{19}\\\\- \\frac{53}{19}\\end{matrix}\\right]$"
      ],
      "text/plain": [
       "Matrix([\n",
       "[-81/19],\n",
       "[ 80/19],\n",
       "[-53/19]])"
      ]
     },
     "execution_count": 70,
     "metadata": {},
     "output_type": "execute_result"
    }
   ],
   "source": [
    "Pa"
   ]
  },
  {
   "cell_type": "code",
   "execution_count": 71,
   "id": "615ad1ad",
   "metadata": {},
   "outputs": [
    {
     "data": {
      "text/latex": [
       "$\\displaystyle \\left[\\begin{matrix}- \\frac{12}{19}\\\\- \\frac{55}{19}\\\\\\frac{59}{19}\\end{matrix}\\right]$"
      ],
      "text/plain": [
       "Matrix([\n",
       "[-12/19],\n",
       "[-55/19],\n",
       "[ 59/19]])"
      ]
     },
     "execution_count": 71,
     "metadata": {},
     "output_type": "execute_result"
    }
   ],
   "source": [
    "Pb"
   ]
  },
  {
   "cell_type": "code",
   "execution_count": 72,
   "id": "adde0f94",
   "metadata": {},
   "outputs": [
    {
     "data": {
      "text/latex": [
       "$\\displaystyle \\left[\\begin{matrix}- \\frac{27}{19}\\\\\\frac{71}{19}\\\\- \\frac{62}{19}\\end{matrix}\\right]$"
      ],
      "text/plain": [
       "Matrix([\n",
       "[-27/19],\n",
       "[ 71/19],\n",
       "[-62/19]])"
      ]
     },
     "execution_count": 72,
     "metadata": {},
     "output_type": "execute_result"
    }
   ],
   "source": [
    "Pc"
   ]
  },
  {
   "cell_type": "code",
   "execution_count": null,
   "id": "78ba12f1",
   "metadata": {},
   "outputs": [],
   "source": []
  }
 ],
 "metadata": {
  "kernelspec": {
   "display_name": "Python 3",
   "language": "python",
   "name": "python3"
  },
  "language_info": {
   "codemirror_mode": {
    "name": "ipython",
    "version": 3
   },
   "file_extension": ".py",
   "mimetype": "text/x-python",
   "name": "python",
   "nbconvert_exporter": "python",
   "pygments_lexer": "ipython3",
   "version": "3.7.6"
  },
  "varInspector": {
   "cols": {
    "lenName": 16,
    "lenType": 16,
    "lenVar": 40
   },
   "kernels_config": {
    "python": {
     "delete_cmd_postfix": "",
     "delete_cmd_prefix": "del ",
     "library": "var_list.py",
     "varRefreshCmd": "print(var_dic_list())"
    },
    "r": {
     "delete_cmd_postfix": ") ",
     "delete_cmd_prefix": "rm(",
     "library": "var_list.r",
     "varRefreshCmd": "cat(var_dic_list()) "
    }
   },
   "types_to_exclude": [
    "module",
    "function",
    "builtin_function_or_method",
    "instance",
    "_Feature"
   ],
   "window_display": false
  }
 },
 "nbformat": 4,
 "nbformat_minor": 5
}
