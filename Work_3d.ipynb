{
 "cells": [
  {
   "cell_type": "code",
   "execution_count": 1,
   "metadata": {},
   "outputs": [],
   "source": [
    "# This is a new notebook because I don't seem to have pushed the latest version to GitHub\n",
    "# Copy this into my new file once home"
   ]
  },
  {
   "cell_type": "code",
   "execution_count": 2,
   "metadata": {},
   "outputs": [],
   "source": [
    "# Pick convention: \n",
    "# We work on a rectangular cell of side lengths a, b, c\n",
    "# This cuboid is in the positive coordinates and centered at 0\n",
    "# I.e. spanned by (a,0,0), (0,b,0) and (0,0,c)"
   ]
  },
  {
   "cell_type": "code",
   "execution_count": null,
   "metadata": {},
   "outputs": [],
   "source": [
    "def torus_copy(points, a=1,b=1,c=1):\n",
    "    \"\"\"\n",
    "    Takes numpy array points of N points on axbxc cube\n",
    "    and creates 8 copies surrounding it.\n",
    "    \n",
    "    Returns new_points, containing original points and 9+8+9=26 offset copies,\n",
    "    so Nx27 points in total.\n",
    "    \"\"\"\n",
    "    \n",
    "    N = np.shape(points)[0]\n",
    "    # first index  = which axbxc cuboid we are working on\n",
    "    # second index = index of corresponding original point\n",
    "    # third index  = x, y, z coordinates of point\n",
    "    new_points = np.zeros((27,N,3)) \n",
    "\n",
    "    i = 0 # to index the cuboid\n",
    "    for x in [-a,0,a]:\n",
    "        for y in [-b,0,b]:\n",
    "            for z in [-c,0,c]:\n",
    "            transl = np.array([[x,y,z] for dummy in range(N)])\n",
    "            new_points[i,:,:] = points + transl\n",
    "            i += 1\n",
    "            \n",
    "    return new_points.reshape(-1,3)\n"
   ]
  }
 ],
 "metadata": {
  "kernelspec": {
   "display_name": "Python 3",
   "language": "python",
   "name": "python3"
  },
  "language_info": {
   "codemirror_mode": {
    "name": "ipython",
    "version": 3
   },
   "file_extension": ".py",
   "mimetype": "text/x-python",
   "name": "python",
   "nbconvert_exporter": "python",
   "pygments_lexer": "ipython3",
   "version": "3.7.1"
  }
 },
 "nbformat": 4,
 "nbformat_minor": 2
}
