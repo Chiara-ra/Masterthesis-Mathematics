{
 "cells": [
  {
   "cell_type": "code",
   "execution_count": 1,
   "id": "70419cf9-70d1-4736-a5b6-d5cae2368b72",
   "metadata": {},
   "outputs": [
    {
     "ename": "ModuleNotFoundError",
     "evalue": "No module named 'torus_alpha_complex'",
     "output_type": "error",
     "traceback": [
      "\u001b[0;31m---------------------------------------------------------------------------\u001b[0m",
      "\u001b[0;31mModuleNotFoundError\u001b[0m                       Traceback (most recent call last)",
      "\u001b[0;32m<ipython-input-1-c79c002a2da6>\u001b[0m in \u001b[0;36m<module>\u001b[0;34m\u001b[0m\n\u001b[1;32m      1\u001b[0m \u001b[0;31m# Test modules\u001b[0m\u001b[0;34m\u001b[0m\u001b[0;34m\u001b[0m\u001b[0;34m\u001b[0m\u001b[0m\n\u001b[0;32m----> 2\u001b[0;31m \u001b[0;32mimport\u001b[0m \u001b[0mperiodic_ph\u001b[0m\u001b[0;34m.\u001b[0m\u001b[0mperiodic_ph\u001b[0m \u001b[0;32mas\u001b[0m \u001b[0mpph\u001b[0m\u001b[0;34m\u001b[0m\u001b[0;34m\u001b[0m\u001b[0m\n\u001b[0m\u001b[1;32m      3\u001b[0m \u001b[0;32mimport\u001b[0m \u001b[0mperiodic_ph\u001b[0m\u001b[0;34m.\u001b[0m\u001b[0mexamples\u001b[0m    \u001b[0;32mas\u001b[0m \u001b[0mex\u001b[0m\u001b[0;34m\u001b[0m\u001b[0;34m\u001b[0m\u001b[0m\n",
      "\u001b[0;32m~/Documents/Coding/Masterthesis_Mathematics/periodic_ph/periodic_ph.py\u001b[0m in \u001b[0;36m<module>\u001b[0;34m\u001b[0m\n\u001b[1;32m      1\u001b[0m \u001b[0;31m# libraries\u001b[0m\u001b[0;34m\u001b[0m\u001b[0;34m\u001b[0m\u001b[0;34m\u001b[0m\u001b[0m\n\u001b[1;32m      2\u001b[0m \u001b[0;32mimport\u001b[0m \u001b[0mnumpy\u001b[0m \u001b[0;32mas\u001b[0m \u001b[0mnp\u001b[0m\u001b[0;34m\u001b[0m\u001b[0;34m\u001b[0m\u001b[0m\n\u001b[0;32m----> 3\u001b[0;31m \u001b[0;32mimport\u001b[0m \u001b[0mtorus_alpha_complex\u001b[0m \u001b[0;32mas\u001b[0m \u001b[0mtac\u001b[0m\u001b[0;34m\u001b[0m\u001b[0;34m\u001b[0m\u001b[0m\n\u001b[0m\u001b[1;32m      4\u001b[0m \u001b[0;34m\u001b[0m\u001b[0m\n\u001b[1;32m      5\u001b[0m \u001b[0;34m\u001b[0m\u001b[0m\n",
      "\u001b[0;31mModuleNotFoundError\u001b[0m: No module named 'torus_alpha_complex'"
     ]
    }
   ],
   "source": [
    "# Test modules\n",
    "import periodic_ph.periodic_ph as pph\n",
    "import periodic_ph.examples    as ex"
   ]
  },
  {
   "cell_type": "code",
   "execution_count": null,
   "id": "fbb0cd83-3a90-405e-b35f-e343da60f846",
   "metadata": {},
   "outputs": [],
   "source": [
    "from importlib import reload  \n",
    "ex = reload(ex)\n",
    "pph = reload(pph)\n",
    "N = 5\n",
    "a, b, c = 1, 1, 1\n",
    "r_points = ex.random_points(N, a, b, c)\n",
    "random_example = pph.ExamplePrint(r_points, a=a, b=b, c=c)\n",
    "random_example.calculate_pph()\n",
    "random_example.describe_evolution()\n",
    "random_example.plot_evolution(cont_timesteps = True, width=9, height=9)\n",
    "random_example.plot_evolution(cont_timesteps = False, width=9, height=9)"
   ]
  },
  {
   "cell_type": "code",
   "execution_count": null,
   "id": "958ffb66-8cee-49ba-b58e-13f06891395f",
   "metadata": {},
   "outputs": [],
   "source": [
    "# random points example\n",
    "N = 5\n",
    "a,b,c = 1,1,1\n",
    "#r_points = gen_points(N, a, b, c)\n",
    "#random_example = ExamplePrint(r_points, a=a, b=b, c=c)\n",
    "#random_example.calculate_pph()\n",
    "##random_example.describe_evolution()\n",
    "random_example.plot_evolution(cont_timesteps = True, width=9, height=9)\n",
    "random_example.plot_evolution(cont_timesteps = False, width=9, height=9)"
   ]
  }
 ],
 "metadata": {
  "kernelspec": {
   "display_name": "Python 3",
   "language": "python",
   "name": "python3"
  },
  "language_info": {
   "codemirror_mode": {
    "name": "ipython",
    "version": 3
   },
   "file_extension": ".py",
   "mimetype": "text/x-python",
   "name": "python",
   "nbconvert_exporter": "python",
   "pygments_lexer": "ipython3",
   "version": "3.7.6"
  }
 },
 "nbformat": 4,
 "nbformat_minor": 5
}
