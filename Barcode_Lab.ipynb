{
 "cells": [
  {
   "cell_type": "markdown",
   "id": "6a4bce7d-66f2-4ee2-b754-8cf45f448380",
   "metadata": {},
   "source": [
    "# Barcode Lab\n",
    "### Trying to develop a barcode for PPH\n",
    "\n",
    "In this notebook I want to develop and program a barcode for PPH in 0-homology."
   ]
  },
  {
   "cell_type": "markdown",
   "id": "6c8c3854-a91c-4c5d-b0d5-0c199a7f9835",
   "metadata": {},
   "source": [
    "### First concept:\n",
    "- I want a tree made up of bars. \n",
    "- Each bar is numbered to denote the connected component. \n",
    "- On one side there is an axis / 1d grid showing the integer time steps.\n",
    "- (One can switch from integer timesteps to continuous timesteps, if desired.)\n",
    "- If there is a merger, the corresponding connected components merge into one branch. \n",
    "- If $\\Lambda_0$ changes, this is indicated visually (maybe a horizontal line cutting the bar at this step, or a different style formatting for the bar).\n",
    "- At such a change of $\\Lambda_0$ also the new dimension is indicated in the barcode."
   ]
  },
  {
   "cell_type": "code",
   "execution_count": 5,
   "id": "4dd13d98-4819-455c-91d9-8f6b027ee8a7",
   "metadata": {},
   "outputs": [],
   "source": [
    "# let's start by drawing a bunch of equally spaced bars"
   ]
  },
  {
   "cell_type": "code",
   "execution_count": 6,
   "id": "f897c113-cf60-4828-b134-2612dc2cb1a2",
   "metadata": {},
   "outputs": [
    {
     "data": {
      "image/png": "[encoded data removed]",
      "text/plain": [
       "<Figure size 432x288 with 1 Axes>"
      ]
     },
     "metadata": {
      "needs_background": "light"
     },
     "output_type": "display_data"
    }
   ],
   "source": [
    "import matplotlib.pyplot as plt\n",
    "\n",
    "coord = [[1,1], [2,1], [2,2], [1,2], [0.5,1.5]]\n",
    "coord.append(coord[0]) #repeat the first point to create a 'closed loop'\n",
    "\n",
    "xs, ys = zip(*coord) #create lists of x and y values\n",
    "\n",
    "plt.figure()\n",
    "plt.plot(xs,ys) \n",
    "plt.show() "
   ]
  },
  {
   "cell_type": "code",
   "execution_count": 7,
   "id": "8d8724e8-9514-428b-a36b-6b76424c8ad5",
   "metadata": {},
   "outputs": [
    {
     "data": {
      "text/plain": [
       "(1, 2, 2, 1, 0.5, 1)"
      ]
     },
     "execution_count": 7,
     "metadata": {},
     "output_type": "execute_result"
    }
   ],
   "source": [
    "xs"
   ]
  },
  {
   "cell_type": "code",
   "execution_count": 8,
   "id": "363803ca-0d3b-4b9b-9d01-66bb9836bc84",
   "metadata": {},
   "outputs": [
    {
     "data": {
      "image/png": "[encoded data removed]",
      "text/plain": [
       "<Figure size 576x576 with 1 Axes>"
      ]
     },
     "metadata": {
      "needs_background": "light"
     },
     "output_type": "display_data"
    }
   ],
   "source": [
    "import numpy as np\n",
    "import matplotlib.pyplot as plt\n",
    "\n",
    "\n",
    "plt.figure(figsize=(8, 8))\n",
    "plt.axis('equal')\n",
    "plt.fill(xs, ys)\n",
    "plt.show()"
   ]
  },
  {
   "cell_type": "code",
   "execution_count": 62,
   "id": "39650e90-c01b-4d49-a397-ce6294eb2886",
   "metadata": {},
   "outputs": [
    {
     "data": {
      "image/png": "[encoded data removed]",
      "text/plain": [
       "<Figure size 576x576 with 1 Axes>"
      ]
     },
     "metadata": {
      "needs_background": "light"
     },
     "output_type": "display_data"
    }
   ],
   "source": [
    "#def rect(num=0,step=0,width=1,length=1, spacing =  0.5, color='black'):\n",
    "#    \"\"\"\n",
    "#    Draws rectangle for PPH bar plot. \n",
    "#    num ...    number of branch, i.e. place in horizontal direction, \n",
    "#               starting at 0, left to right\n",
    "#    step ...   filtration step, i.e. place in vertical direction, \n",
    "#               starting at 0, top to bottom\n",
    "#    width ...  width of each bar (also space between bars)\n",
    "#    length ... duration of bar, same unit as step\n",
    "#    color ...  color of the bar  \n",
    "#    \"\"\"\n",
    "#    gap = width*spacing\n",
    "#    x = (width+gap)*num\n",
    "#    y = -step\n",
    "#    coord = [[x,y], [x+width,y], [x+width,y-length], [x,y-length]]\n",
    "#    coord.append(coord[0]) #repeat the first point to create a 'closed loop'\n",
    "#\n",
    "#    xs, ys = zip(*coord)\n",
    "#    plt.fill(xs, ys,color=color)\n",
    "    \n",
    "    \n",
    "def rect(grid = (1,1,0.1), x0 = 0, y0 = 0, width = 1, length = 1, color='black'):\n",
    "    \"\"\"\n",
    "    Draws rectangle for PPH bar plot. \n",
    "    grid ... underlying grid of plot. x,y and spacing between bars in x-direction\n",
    "    x0 ... left edge of bar\n",
    "    y0 ... upper edge of bar\n",
    "    width ...  width of each bar in grid-units (integer)\n",
    "    length ... duration of bar (integer)\n",
    "    color ...  color of the bar  \n",
    "    \"\"\"\n",
    "    \n",
    "    gap = grid[2]\n",
    "    x_len = grid[0]\n",
    "    y_len = grid[1]\n",
    "    x = (x_len+gap)*x0\n",
    "    y = -y0*y_len\n",
    "    mult_fact = width + (width-1)*gap\n",
    "    coord = [[x,y], [x+mult_fact*x_len,y], [x+mult_fact*x_len,y-length*y_len], [x,y-length*y_len]]\n",
    "    coord.append(coord[0]) #repeat the first point to create a 'closed loop'\n",
    "\n",
    "    xs, ys = zip(*coord)\n",
    "    plt.fill(xs, ys,color=color)\n",
    "    \n",
    "\n",
    "plt.figure(figsize=(8, 8)) \n",
    "plt.axis('equal')\n",
    "#rect(0,length=3)\n",
    "#rect(1)\n",
    "#rect(2)\n",
    "#rect(num=1,step=1,color='green')\n",
    "rect(grid=(1,1,0.2),x0=0,y0=0, length = 2)\n",
    "rect(grid=(1,1,0.2),x0=1,y0=0)\n",
    "rect(grid=(1,1,0.2),x0=1,y0=1,color=\"green\")\n",
    "rect(grid=(1,1,0.2),x0=2,y0=0,width=2)\n",
    "plt.show()"
   ]
  },
  {
   "cell_type": "code",
   "execution_count": 76,
   "id": "27774f61-4f42-452f-a09a-cb6dc1febabf",
   "metadata": {},
   "outputs": [
    {
     "data": {
      "image/png": "[encoded data removed]",
      "text/plain": [
       "<Figure size 576x576 with 1 Axes>"
      ]
     },
     "metadata": {
      "needs_background": "light"
     },
     "output_type": "display_data"
    }
   ],
   "source": [
    "comps = 5\n",
    "dur = 20 # duration of whole filtration\n",
    "# mergers is a list of pairs (i,(j,k))\n",
    "# where i is the timestep, \n",
    "# k is the component dying\n",
    "# j is the component j merges into\n",
    "\n",
    "#mergers should be ordered by timestep index i\n",
    "mergers = [(3,(3,4)),(11,(1,2)), (15,(0,1)), (17,(0,3))]\n",
    "colors = ['0','0.25','0.5','0.75']\n",
    "life = [dur for c in range(comps)]\n",
    "\n",
    "plt.figure(figsize=(8, 8)) \n",
    "plt.axis('equal')\n",
    "color='black'\n",
    "grid = (1,1,0.5)\n",
    "for i,(j,k) in mergers:\n",
    "    life[k] = i\n",
    "    rect(grid=grid, x0=j, y0=i, length = 0.5, width = k-j+1, color=color)\n",
    "\n",
    "\n",
    "# order of bars should be according to mergers\n",
    "for comp in range(comps):\n",
    "    #rect(comp, length = life[comp])\n",
    "    rect(grid=grid, x0=comp, length = life[comp])\n",
    "    \n",
    "\n",
    "# Let's assume we have a change of dimension at step 17 for component 0\n",
    "rect(grid=grid,x0=0,y0=17,length=life[0]-17,color=colors[1])\n",
    "    \n",
    "    \n",
    "\n",
    "    \n",
    "plt.show()"
   ]
  },
  {
   "cell_type": "code",
   "execution_count": null,
   "id": "8c07e742-c758-46c1-9739-df412eda0815",
   "metadata": {},
   "outputs": [],
   "source": [
    "# datenstruktur so, dass man nach potenz und zeitspanne filtern kann\n",
    "# je nach potenz unterschiedliche dicke der balken\n",
    "# je nach coeffizient label hinzufügen und ticks für den wechsel hinzufügen"
   ]
  }
 ],
 "metadata": {
  "kernelspec": {
   "display_name": "Python 3",
   "language": "python",
   "name": "python3"
  },
  "language_info": {
   "codemirror_mode": {
    "name": "ipython",
    "version": 3
   },
   "file_extension": ".py",
   "mimetype": "text/x-python",
   "name": "python",
   "nbconvert_exporter": "python",
   "pygments_lexer": "ipython3",
   "version": "3.7.6"
  }
 },
 "nbformat": 4,
 "nbformat_minor": 5
}
