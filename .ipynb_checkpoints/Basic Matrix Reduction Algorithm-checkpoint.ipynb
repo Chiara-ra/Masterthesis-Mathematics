{
 "cells": [
  {
   "cell_type": "markdown",
   "id": "cea48cc2",
   "metadata": {},
   "source": [
    "# Basic Matrix Reduction Algorithm"
   ]
  },
  {
   "cell_type": "markdown",
   "id": "de96e019",
   "metadata": {},
   "source": [
    "In this notebook I want to make a function that takes a matrix and reduces it as by the matrix reduction algorithm, i.e. brings it into Smith standard form or whatever it is called. \n",
    "It should\n",
    "- Take an arbitrary $Z_2$ matrix as input\n",
    "- Perform column reduction\n",
    "- Give the reduced $Z_2$ matrix as output"
   ]
  },
  {
   "cell_type": "code",
   "execution_count": 1,
   "id": "48a4512e",
   "metadata": {},
   "outputs": [],
   "source": [
    "import numpy as np\n",
    "import numpy.linalg as la\n",
    "import pandas as pd\n",
    "import random as rd\n",
    "import matplotlib.pyplot as plt\n",
    "import gudhi as gd"
   ]
  },
  {
   "cell_type": "markdown",
   "id": "6af5f463",
   "metadata": {},
   "source": [
    "### To Do\n",
    "I want to get representatives. For this, I need a function that not only reduces the matrix. Rather, we need to look at the whole filtration to talk about representatives. I'm not sure how filtrations are usually encoded in python packages..."
   ]
  },
  {
   "cell_type": "code",
   "execution_count": 2,
   "id": "18e630a0",
   "metadata": {},
   "outputs": [],
   "source": [
    "\n",
    "def check_pivot(column):\n",
    "    \"\"\" \n",
    "    This function returns the index of the pivot of the given column.\n",
    "    If the column is empty, it returns -1.\n",
    "    \"\"\"\n",
    "    pivot = -1\n",
    "    m = len(column)\n",
    "    for i in range(0,m):\n",
    "        if column[m-1-i]==1:\n",
    "            pivot = m-1-i\n",
    "            break\n",
    "    return pivot\n",
    "\n",
    "\n",
    "def rep_cycles(R):\n",
    "    \"\"\"\n",
    "    This function takes a reduced boundary matrix R \n",
    "    and outputs the representative cycles of the homology.\n",
    "    \"\"\"\n",
    "    \n",
    "    \n",
    "def column_red(M): \n",
    "    \"\"\" \n",
    "    This function takes a binary matrix and performs column reduction on it.\n",
    "    It returns the reduced matrix \"R\", as well as a list of its pivot elements \"pivots\". \n",
    "    Zero columns are encoded as -1. \n",
    "    \"\"\"\n",
    "    # M is numpy array of size mxn\n",
    "    dims =  M.shape\n",
    "    m = dims[0] # number of rows\n",
    "    n = dims[1] # number of columns\n",
    "    #print(\"The input matrix has \"+str(m)+\" rows and \"+str(n)+\" columns.\")\n",
    "    R = M.copy()\n",
    "    V = np.identity(n)\n",
    "    \n",
    "    pivots = []\n",
    "    \n",
    "    for i in range(0,n):\n",
    "        # look at current pivot \n",
    "        pivot = check_pivot(R[:,i]) #check_pivot(M[:,i])\n",
    "        \n",
    "        # check if this is already a pivot element\n",
    "        while (pivot in pivots) and (pivot != -1): \n",
    "            # while pivot is taken, perform matrix reduction on R\n",
    "            \n",
    "            j = pivots.index(pivot)\n",
    "            R[:,i]= (R[:,i] + R[:,j]) % 2\n",
    "            V[:,i]= (V[:,i] + V[:,j]) % 2\n",
    "            \n",
    "            # get new pivot\n",
    "            pivot = check_pivot(R[:,i]) #check_pivot(M[:,i])\n",
    "            \n",
    "            # maybe already perform this via a matrix U\n",
    "            # don't forget to reduce mod 2\n",
    "        \n",
    "        pivots.append(pivot)\n",
    "        \n",
    "    return pivots, R\n",
    "\n",
    "\n",
    "def column_red2(M):\n",
    "    \"\"\"\n",
    "    This function should be exactly the same as column_red, \n",
    "    however, it works by matrix multiplication instead of explicit column adding. \n",
    "    \"\"\"\n",
    "    \n",
    "    # M is numpy array of size mxn\n",
    "    dims =  M.shape\n",
    "    \n",
    "    m = dims[0] # number of rows – dimension of chain group one dimension lower\n",
    "    n = dims[1] # number of columns – dimension of current chain group\n",
    "    \n",
    "    R = M.copy()\n",
    "    V = np.identity(n)\n",
    "    \n",
    "    #final reduction is R = M x V\n",
    "    \n",
    "    pivots = []\n",
    "    \n",
    "    for i in range(0,n):\n",
    "        # look at current pivot \n",
    "        pivot = check_pivot(R[:,i])\n",
    "        \n",
    "        # check if this is already a pivot element\n",
    "        while (pivot in pivots) and (pivot != -1): \n",
    "            # while pivot is taken, perform matrix reduction on R\n",
    "            \n",
    "            j = pivots.index(pivot)\n",
    "            \"\"\"\n",
    "            Replace the next line with \n",
    "            \n",
    "            2) a multiplication \n",
    "            3) a multiplication V_new = V_old * V_k (= V_1 * ... * V_k)\n",
    "            \"\"\"\n",
    "            # 1) definition of V_k, the matrix we multiply with\n",
    "            V_k = np.identity(n)\n",
    "            V_k[j,i] = 1\n",
    "            \n",
    "            # 2) multiply: R_new = R_old * V_k (= M * V_1 * ... * V_k)\n",
    "            R = np.matmul(R, V_k) % 2\n",
    "            \n",
    "            # 3) multiply: V_new = V_old * V_k (= V_1 * ... * V_k)\n",
    "            V = np.matmul(V, V_k) % 2\n",
    "            \n",
    "            \n",
    "            # get new pivot\n",
    "            pivot = check_pivot(R[:,i])\n",
    "            \n",
    "            # maybe already perform this via a matrix U\n",
    "            # don't forget to reduce mod 2\n",
    "        \n",
    "        pivots.append(pivot)\n",
    "        # The j-th column of V encodes the columns in M that add up to give the j-th column in R.\n",
    "        \n",
    "    return pivots, R\n",
    "\n",
    "\n",
    "\n",
    "\n",
    "def PH(D1, D2=np.zeros((0,0)), D3=np.zeros((0,0))):\n",
    "    # Takes up to three boundary matrices and computes the Persistent Homology from them\n",
    "    # All higher boundary matrices are assumed to be trivial\n",
    "    \n",
    "    d = 3 # calculate up to dth boundary matrix\n",
    "    low = [[-1 for i in range(D1.shape[0])],[],[],[]] # we only need 3, but the indexing is nicer this way\n",
    "    dCn = np.zeros(d+1)\n",
    "    dZn = np.zeros(d+1)\n",
    "    dBn = np.zeros(d+1)\n",
    "    dHn = np.zeros(d+1)\n",
    "    \n",
    "    low[1], R1 = column_red(D1)\n",
    "    low[2], R2 = column_red(D2)\n",
    "    low[3], R3 = column_red(D3)\n",
    "    R = [0,R1,R2,R3]\n",
    "    pp = [] # list of persistence pairs\n",
    "    \n",
    "    inf = float('inf')\n",
    "    \n",
    "    # To compute persistence, we need the total numbering of simplices,\n",
    "    # but right now we only have them numbered inside their dimensions.\n",
    "    # To get ght right numbering, we need to add the number of simplices\n",
    "    # from the previous dimensions\n",
    "    N_simp = [D1.shape[0],D1.shape[1],D2.shape[1],D3.shape[1]]\n",
    "    \n",
    "    \n",
    "    \n",
    "    dCn[0] = R1.shape[0]\n",
    "    dZn[0] = dCn[0]\n",
    "    \n",
    "    \n",
    "    for i in range(1,d):\n",
    "        # extract dimensions of vector spaces\n",
    "        dCn[i]   = R[i].shape[1]\n",
    "        dZn[i]   = low[i].count(-1)\n",
    "        dBn[i-1] = dCn[i] - dZn[i]\n",
    "        \n",
    "\n",
    "    \"\"\"\n",
    "    I want to calculate pairs differently.\n",
    "    Start by dimension 0, going up to dimension 3. \n",
    "    1) If row a is zero, add a pair [a, inf].\n",
    "    2) If row b is non-zero, look at pivot element a.\n",
    "    There has to be a pair [a, inf] already.\n",
    "    Chance this pair to [a,b].\n",
    "    \"\"\"\n",
    "    # extract persistence pairs\n",
    "    for dim in range(0,d):\n",
    "        for j in range(N_simp[dim]): # looking at the jth column\n",
    "            if low[dim][j] == -1:    # if jth column is 0\n",
    "                a = j + sum(N_simp[:dim])\n",
    "                pp.append((dim, (a, inf)))\n",
    "            else:                    # if jth column is non-zero\n",
    "                a = low[dim][j] + sum(N_simp[:dim-1])\n",
    "                b = j + sum(N_simp[:dim])\n",
    "                pp.remove((dim-1, (a, inf)))\n",
    "                pp.append((dim-1, (a,b)))\n",
    "                \n",
    "    \n",
    "    \n",
    "    firstof = lambda l : l[0]\n",
    "    pp.sort(key=firstof)\n",
    "    \n",
    "    for i in range(0,d):\n",
    "        dHn[i] = dZn[i] - dBn[i]\n",
    "        \n",
    "    for i in range(0,d):\n",
    "        print(f\"dim C_{i} = {int(dCn[i])}\")\n",
    "        print(f\"dim Z_{i} = {int(dZn[i])}\")\n",
    "        print(f\"dim B_{i} = {int(dBn[i])}\")\n",
    "        print(f\"dim H_{i} = {int(dHn[i])}\")\n",
    "        print(\"\\n\")\n",
    "\n",
    "    print(pp)\n",
    "    gd.plot_persistence_diagram(pp)\n",
    "   "
   ]
  },
  {
   "cell_type": "markdown",
   "id": "e0d863d7",
   "metadata": {},
   "source": [
    "## Examples for Matrix Reduction"
   ]
  },
  {
   "cell_type": "code",
   "execution_count": 3,
   "id": "7e0a9a00",
   "metadata": {},
   "outputs": [],
   "source": [
    "\n",
    "# test matrices\n",
    "#testM = np.zeros((3,4))\n",
    "#print(column_red(testM))\n",
    "\n",
    "\n",
    "#testM = np.identity(4)\n",
    "#print(column_red(testM))\n",
    "\n",
    "\n",
    "#testM = np.array([[1,0,1],[1,0,1]])\n",
    "#print(testM)\n",
    "#print(column_red(testM))\n",
    "\n",
    "# these are the boundary matrices of the dunce hat that I computed as HW for Morse Theory\n",
    "dunce1 = np.array([\\\n",
    "                   [1,1,1,1,1,1,1,0,0,0,0,0,0,0,0,0,0,0,0,0,0,0,0,0],\\\n",
    "                   [1,0,0,0,0,0,0,1,1,1,1,1,0,0,0,0,0,0,0,0,0,0,0,0],\\\n",
    "                   [0,1,0,0,0,0,0,1,0,0,0,0,1,1,1,1,1,0,0,0,0,0,0,0],\\\n",
    "                   [0,0,1,0,0,0,0,0,1,0,0,0,1,0,0,0,0,1,1,1,1,0,0,0],\\\n",
    "                   [0,0,0,1,0,0,0,0,0,1,0,0,0,1,0,0,0,1,0,0,0,1,0,0],\\\n",
    "                   [0,0,0,0,1,0,0,0,0,0,0,0,0,0,1,0,0,0,1,0,0,1,1,0],\\\n",
    "                   [0,0,0,0,0,1,0,0,0,0,1,0,0,0,0,1,0,0,0,1,0,0,1,1],\\\n",
    "                   [0,0,0,0,0,0,1,0,0,0,0,1,0,0,0,0,1,0,0,0,1,0,0,1],\\\n",
    "                  ])\n",
    "\n",
    "dunce2 = np.array([\\\n",
    "                  # 1 2 3 4 5 6 7 8 9 0 1 2 3 4 5 6 7 \n",
    "                   [1,1,1,0,0,0,0,0,0,0,0,0,0,0,0,0,0],\\\n",
    "                   [0,0,0,1,1,1,0,0,0,0,0,0,0,0,0,0,0],\\\n",
    "                   [1,0,0,1,0,0,0,0,0,0,0,0,0,0,0,0,0],\\\n",
    "                   [0,0,0,0,1,0,1,0,0,0,0,0,0,0,0,0,0],\\\n",
    "                   [0,0,0,0,0,1,1,0,0,0,0,0,0,0,0,0,0],\\\n",
    "                   [0,1,0,0,0,0,0,1,0,0,0,0,0,0,0,0,0],\\\n",
    "                   [0,0,1,0,0,0,0,1,0,0,0,0,0,0,0,0,0],\\\n",
    "                   [0,0,0,0,0,0,0,0,1,1,1,0,0,0,0,0,0],\\\n",
    "                   [1,0,0,0,0,0,0,0,0,0,0,1,0,0,0,0,0],\\\n",
    "                   [0,0,0,0,0,0,0,0,1,0,0,1,0,0,0,0,0],\\\n",
    "                   [0,1,0,0,0,0,0,0,0,1,0,0,0,0,0,0,0],\\\n",
    "                   [0,0,1,0,0,0,0,0,0,0,1,0,0,0,0,0,0],\\\n",
    "                   [0,0,0,1,0,0,0,0,0,0,0,0,1,0,0,0,0],\\\n",
    "                   [0,0,0,0,1,0,0,0,1,0,0,0,0,0,0,0,0],\\\n",
    "                   [0,0,0,0,0,1,0,0,0,0,0,0,0,1,0,0,0],\\\n",
    "                   [0,0,0,0,0,0,0,0,0,1,0,0,0,1,0,0,0],\\\n",
    "                   [0,0,0,0,0,0,0,0,0,0,1,0,1,0,0,0,0],\\\n",
    "                   [0,0,0,0,0,0,0,0,0,0,0,1,0,0,1,0,0],\\\n",
    "                   [0,0,0,0,0,0,0,0,0,0,0,0,0,0,1,1,0],\\\n",
    "                   [0,0,0,0,0,0,0,0,0,0,0,0,1,0,0,1,1],\\\n",
    "                   [0,0,0,0,0,0,0,0,0,0,0,0,0,0,0,0,1],\\\n",
    "                   [0,0,0,0,0,0,1,0,0,0,0,0,0,0,1,0,0],\\\n",
    "                   [0,0,0,0,0,0,0,0,0,0,0,0,0,1,0,1,0],\\\n",
    "                   [0,0,0,0,0,0,0,1,0,0,0,0,0,0,0,0,1],\\\n",
    "                  ])\n",
    "\n",
    "\n",
    "oct1 = np.array([\\\n",
    "                  # 1 2 3 4 5 6 7 8 9 0 1 2 \n",
    "                   [1,0,0,1,1,0,0,0,1,0,0,0],\\\n",
    "                   [1,1,0,0,0,1,0,0,0,1,0,0],\\\n",
    "                   [0,1,1,0,0,0,1,0,0,0,1,0],\\\n",
    "                   [0,0,1,1,0,0,0,1,0,0,0,1],\\\n",
    "                   [0,0,0,0,1,1,1,1,0,0,0,0],\\\n",
    "                   [0,0,0,0,0,0,0,0,1,1,1,1],\\\n",
    "                  ])\n",
    "\n",
    "oct2 = np.array([\\\n",
    "                   [1,1,0,0,0,0,0,0],\\\n",
    "                   [0,0,1,1,0,0,0,0],\\\n",
    "                   [0,0,0,0,1,1,0,0],\\\n",
    "                   [0,0,0,0,0,0,1,1],\\\n",
    "                   [1,0,0,0,0,0,1,0],\\\n",
    "                   [1,0,1,0,0,0,0,0],\\\n",
    "                   [0,0,1,0,1,0,0,0],\\\n",
    "                   [0,0,0,0,1,0,1,0],\\\n",
    "                   [0,1,0,0,0,0,0,1],\\\n",
    "                   [0,1,0,1,0,0,0,0],\\\n",
    "                   [0,0,0,1,0,1,0,0],\\\n",
    "                   [0,0,0,0,0,1,0,1],\\\n",
    "                  ])\n",
    "\n",
    "#print(column_red(dunce1))\n"
   ]
  },
  {
   "cell_type": "code",
   "execution_count": 4,
   "id": "36715ec9",
   "metadata": {
    "scrolled": true
   },
   "outputs": [
    {
     "name": "stdout",
     "output_type": "stream",
     "text": [
      "\u001b[1mOctahedron\u001b[0m\n",
      "dim C_0 = 6\n",
      "dim Z_0 = 6\n",
      "dim B_0 = 5\n",
      "dim H_0 = 1\n",
      "\n",
      "\n",
      "dim C_1 = 12\n",
      "dim Z_1 = 7\n",
      "dim B_1 = 7\n",
      "dim H_1 = 0\n",
      "\n",
      "\n",
      "dim C_2 = 8\n",
      "dim Z_2 = 1\n",
      "dim B_2 = 0\n",
      "dim H_2 = 1\n",
      "\n",
      "\n",
      "[(0, (0, inf)), (0, (1, 6)), (0, (2, 7)), (0, (3, 8)), (0, (4, 10)), (0, (5, 14)), (1, (11, 18)), (1, (15, 19)), (1, (12, 20)), (1, (16, 21)), (1, (13, 22)), (1, (17, 23)), (1, (9, 24)), (2, (25, inf))]\n"
     ]
    },
    {
     "data": {
      "image/png": "[encoded data removed]",
      "text/plain": [
       "<Figure size 432x288 with 1 Axes>"
      ]
     },
     "metadata": {
      "needs_background": "light"
     },
     "output_type": "display_data"
    }
   ],
   "source": [
    "#test\n",
    "print(\"\\033[1mOctahedron\\033[0m\")\n",
    "PH(oct1,oct2)"
   ]
  },
  {
   "cell_type": "code",
   "execution_count": 5,
   "id": "9f22c59e",
   "metadata": {},
   "outputs": [
    {
     "name": "stdout",
     "output_type": "stream",
     "text": [
      "\u001b[1mDunce hat\u001b[0m\n",
      "dim C_0 = 8\n",
      "dim Z_0 = 8\n",
      "dim B_0 = 7\n",
      "dim H_0 = 1\n",
      "\n",
      "\n",
      "dim C_1 = 24\n",
      "dim Z_1 = 17\n",
      "dim B_1 = 17\n",
      "dim H_1 = 0\n",
      "\n",
      "\n",
      "dim C_2 = 17\n",
      "dim Z_2 = 0\n",
      "dim B_2 = 0\n",
      "dim H_2 = 0\n",
      "\n",
      "\n",
      "[(0, (0, inf)), (0, (1, 8)), (0, (2, 9)), (0, (3, 10)), (0, (4, 11)), (0, (5, 12)), (0, (6, 13)), (0, (7, 14)), (1, (16, 32)), (1, (18, 33)), (1, (19, 34)), (1, (20, 35)), (1, (21, 36)), (1, (22, 37)), (1, (29, 38)), (1, (31, 39)), (1, (17, 40)), (1, (23, 41)), (1, (24, 42)), (1, (25, 43)), (1, (27, 44)), (1, (30, 45)), (1, (26, 46)), (1, (15, 47)), (1, (28, 48))]\n",
      "\u001b[1mOctahedron\u001b[0m\n",
      "dim C_0 = 6\n",
      "dim Z_0 = 6\n",
      "dim B_0 = 5\n",
      "dim H_0 = 1\n",
      "\n",
      "\n",
      "dim C_1 = 12\n",
      "dim Z_1 = 7\n",
      "dim B_1 = 7\n",
      "dim H_1 = 0\n",
      "\n",
      "\n",
      "dim C_2 = 8\n",
      "dim Z_2 = 1\n",
      "dim B_2 = 0\n",
      "dim H_2 = 1\n",
      "\n",
      "\n",
      "[(0, (0, inf)), (0, (1, 6)), (0, (2, 7)), (0, (3, 8)), (0, (4, 10)), (0, (5, 14)), (1, (11, 18)), (1, (15, 19)), (1, (12, 20)), (1, (16, 21)), (1, (13, 22)), (1, (17, 23)), (1, (9, 24)), (2, (25, inf))]\n"
     ]
    },
    {
     "data": {
      "image/png": "[encoded data removed]",
      "text/plain": [
       "<Figure size 432x288 with 1 Axes>"
      ]
     },
     "metadata": {
      "needs_background": "light"
     },
     "output_type": "display_data"
    },
    {
     "data": {
      "image/png": "[encoded data removed]",
      "text/plain": [
       "<Figure size 432x288 with 1 Axes>"
      ]
     },
     "metadata": {
      "needs_background": "light"
     },
     "output_type": "display_data"
    }
   ],
   "source": [
    "print(\"\\033[1mDunce hat\\033[0m\")\n",
    "PH(dunce1, dunce2)\n",
    "print(\"\\033[1mOctahedron\\033[0m\")\n",
    "PH(oct1,oct2)"
   ]
  },
  {
   "cell_type": "markdown",
   "id": "44309db3",
   "metadata": {},
   "source": [
    "### Plan \n",
    "- ~Random pointcloud~\n",
    "- ~Convert pointcloud into alpha-filtration using library (to learn how alpha-filtration is enocded)~\n",
    "- ~Convert alpha-filtration into persistence information using library (to learn how library would output this)~\n",
    "- Modify and enhance my matrix reduction function so that I get at least the same amount of information"
   ]
  },
  {
   "cell_type": "code",
   "execution_count": 64,
   "id": "a796723f",
   "metadata": {},
   "outputs": [],
   "source": [
    "# define function that displays filtered complex\n",
    "# so I have an easier time seeing what's going on\n",
    "\n",
    "def plot_complex(vertices, simplex_tree):\n",
    "    # takes vertices as numpy array and non-empy simplex tree and plots it\n",
    "    filt = k_sub(simplex_tree.get_filtration())\n",
    "    filt.sort(key = len)\n",
    "    \n",
    "    # cut into different dimensions of simplex\n",
    "    # dimension is upper bounded by 2\n",
    "    simp_0 = []\n",
    "    simp_1 = []\n",
    "    simp_2 = []\n",
    "    cut = 0\n",
    "    dim = 0\n",
    "    for i in range(len(filt)):\n",
    "        \n",
    "        l = len(filt[i])\n",
    "        if l > 1 and dim == 0:\n",
    "            simp_0 = filt[cut:i]\n",
    "            cut = i\n",
    "            dim += 1\n",
    "        if l > 2 and dim == 1:\n",
    "            simp_1 = filt[cut:i]\n",
    "            cut = i\n",
    "            dim +=1\n",
    "            \n",
    "            simp_2 = filt[cut:]\n",
    "        \n",
    "        if l > 3 and dim == 2:\n",
    "            simp_2 = filt[cut:i]\n",
    "            #cut = i\n",
    "            #dim +=1\n",
    "            break\n",
    "    \n",
    "    plt.scatter(vertices[:,0],vertices[:,1])\n",
    "    for [i,j] in simp_1:\n",
    "        #print([i,j])\n",
    "        plt.plot((vertices[i,0],vertices[j,0]),(vertices[i,1],vertices[j,1]))\n",
    "    for [i,j,k] in simp_2:\n",
    "        plt.fill((vertices[i,0],vertices[j,0],vertices[k,0]),(vertices[i,1],vertices[j,1],vertices[k,1]))\n",
    "    \n",
    "\n",
    "    \n",
    "def k_sub(lst,k=0):\n",
    "    # takes list containing a sequence of sublists and \n",
    "    # returns list of the first elements of each sublist\n",
    "    return [item[k] for item in lst]"
   ]
  },
  {
   "cell_type": "code",
   "execution_count": 65,
   "id": "da1c1742",
   "metadata": {},
   "outputs": [
    {
     "name": "stdout",
     "output_type": "stream",
     "text": [
      "Alpha complex is of dimension 2: 31 simplices and 10 vertices.\n"
     ]
    },
    {
     "data": {
      "text/plain": [
       "<AxesSubplot:title={'center':'Persistence diagram'}, xlabel='Birth', ylabel='Death'>"
      ]
     },
     "execution_count": 65,
     "metadata": {},
     "output_type": "execute_result"
    },
    {
     "data": {
      "image/png": "[encoded data removed]",
      "text/plain": [
       "<Figure size 432x288 with 1 Axes>"
      ]
     },
     "metadata": {
      "needs_background": "light"
     },
     "output_type": "display_data"
    },
    {
     "data": {
      "image/png": "[encoded data removed]",
      "text/plain": [
       "<Figure size 432x288 with 1 Axes>"
      ]
     },
     "metadata": {
      "needs_background": "light"
     },
     "output_type": "display_data"
    }
   ],
   "source": [
    "# randomly generate some points in R2 (specifically square)\n",
    "N = 10\n",
    "alpha = 0.04\n",
    "\n",
    "\n",
    "rand_pts = np.array([[rd.random(),rd.random()] for i in range(N)])\n",
    "\n",
    "\n",
    "alpha_complex = gd.AlphaComplex(rand_pts)\n",
    "simplex_tree = alpha_complex.create_simplex_tree(max_alpha_square=alpha)\n",
    "result_str = 'Alpha complex is of dimension ' + repr(simplex_tree.dimension()) + ': ' + \\\n",
    "    repr(simplex_tree.num_simplices()) + ' simplices and ' + \\\n",
    "    repr(simplex_tree.num_vertices()) + ' vertices.'\n",
    "print(result_str)\n",
    "\n",
    "\"\"\"\n",
    "fmt = '%s -> %.2f'\n",
    "for filtered_value in simplex_tree.get_filtration():\n",
    "    print(fmt % tuple(filtered_value))\"\"\"\n",
    "\n",
    "plot_complex(rand_pts,simplex_tree)\n",
    "\n",
    "#simplex_tree.persistence()\n",
    "#simplex_tree.betti_numbers()\n",
    "\n",
    "barcode = simplex_tree.persistence()\n",
    "gd.plot_persistence_diagram(barcode)"
   ]
  },
  {
   "cell_type": "markdown",
   "id": "979ebbc5",
   "metadata": {},
   "source": [
    "# Periodicity and $\\alpha$-complex 2D"
   ]
  },
  {
   "cell_type": "code",
   "execution_count": 8,
   "id": "505f8524",
   "metadata": {},
   "outputs": [],
   "source": [
    "def toruscopy2d(points, a=1,b=1):\n",
    "    # takes pointset on unit square and creates 8 copies surrounding it\n",
    "    # Alternatively not unit cube, but cuboid, sides given by a, b\n",
    "    # returns original points and copies\n",
    "    N = np.shape(points)[0]\n",
    "    new_points = np.zeros((9,N,2)) # 3x3 square numbered from left top to bottom right, Z-pattern\n",
    "    #new_points[5,:,:] = points\n",
    "    \n",
    "    i = 0 \n",
    "    for x in [-a,0,a]:\n",
    "        for y in [-b,0,b]:\n",
    "            transl = np.array([[x,y] for counter in range(N)])\n",
    "            new_points[i,:,:] = points + transl\n",
    "            i += 1\n",
    "    #print(new_points)\n",
    "    return new_points"
   ]
  },
  {
   "cell_type": "code",
   "execution_count": 71,
   "id": "023c4ea1",
   "metadata": {},
   "outputs": [
    {
     "data": {
      "text/plain": [
       "<matplotlib.collections.PathCollection at 0x1246ebd10>"
      ]
     },
     "execution_count": 71,
     "metadata": {},
     "output_type": "execute_result"
    },
    {
     "data": {
      "image/png": "[encoded data removed]",
      "text/plain": [
       "<Figure size 432x288 with 1 Axes>"
      ]
     },
     "metadata": {
      "needs_background": "light"
     },
     "output_type": "display_data"
    }
   ],
   "source": [
    "# I want to try and calculate the alpha-filtration in the periodic setting\n",
    "\n",
    "\"\"\"\n",
    "As the alpha is a subset of the delauney, we only have to care about 1-layer of copies \n",
    "surrounding our actuall cell. (because delauney partitions the plane, no farther-reaching links.)\n",
    "For the moment I will assume a unit cell. Other shapes will have to be considered later on.\n",
    "\"\"\"\n",
    "\n",
    "# start with pointset in unit square\n",
    "N = 1\n",
    "\n",
    "rand_pts = np.array([[rd.random(),rd.random()] for i in range(N)])\n",
    "\n",
    "\n",
    "# create 8 copies of pointset, surrounding the initial square\n",
    "ext_pts = toruscopy2d(rand_pts)\n",
    "plt.scatter(ext_pts[:,:,0],ext_pts[:,:,1])\n",
    "plt.scatter(rand_pts[:,0],rand_pts[:,1])\n",
    "\n",
    "# keep track of which points are in main square, and which are in copies\n"
   ]
  },
  {
   "cell_type": "code",
   "execution_count": 72,
   "id": "3586762b",
   "metadata": {},
   "outputs": [
    {
     "name": "stdout",
     "output_type": "stream",
     "text": [
      "Alpha complex is of dimension 2: 31 simplices and 10 vertices.\n"
     ]
    },
    {
     "data": {
      "image/png": "[encoded data removed]",
      "text/plain": [
       "<Figure size 432x288 with 1 Axes>"
      ]
     },
     "metadata": {
      "needs_background": "light"
     },
     "output_type": "display_data"
    }
   ],
   "source": [
    "# compute alpha-filtration of extended square\n",
    "alpha = 0.6\n",
    "alpha_complex = gd.AlphaComplex(ext_pts.reshape(-1,2))\n",
    "\n",
    "simplex_tree = alpha_complex.create_simplex_tree(max_alpha_square=alpha)\n",
    "\n",
    "print(result_str)\n",
    "\n",
    "\"\"\"\n",
    "fmt = '%s -> %.2f'\n",
    "for filtered_value in simplex_tree.get_filtration():\n",
    "    print(fmt % tuple(filtered_value))\"\"\"\n",
    "\n",
    "plot_complex(ext_pts.reshape(-1,2),simplex_tree)\n",
    "\n",
    "\n",
    "\n",
    "# look at simplices in alpha-filtration\n",
    "# - replace all the \"copies\" of 0-simplices with the points in the main square\n",
    "# - if there are simplices of form (a,a), delete them\n",
    "# - order the tuples describing the single simplices if they are now disordered"
   ]
  },
  {
   "cell_type": "markdown",
   "id": "df9c611b",
   "metadata": {},
   "source": [
    "## New Goal\n",
    "I need to get into the AlphaComplex and/or SimplexTree data structure to find out how the simplices are encoded. \n",
    "Once I know this, I can modify it according to the periodicity in the torus. \n",
    "\n",
    "Question is: Can I then get the homology computation by a pre-existing library (coult maybe gudhi handle the edited simplices?), or do I have to do things from scratch from here on out?"
   ]
  },
  {
   "cell_type": "markdown",
   "id": "00c87c3f",
   "metadata": {},
   "source": [
    "### Calculate Boundary Matrix from Filtration"
   ]
  },
  {
   "cell_type": "code",
   "execution_count": 73,
   "id": "c55e4f1f",
   "metadata": {},
   "outputs": [],
   "source": [
    "def dim_split(filt):\n",
    "    # takes ordered (by filtration value) list of simplices\n",
    "    # outputs 3 ordered lists of simplices in respective dimensions\n",
    "    simp_0 = []\n",
    "    simp_1 = []\n",
    "    simp_2 = []\n",
    "    simp_3 = []\n",
    "    \n",
    "    for simp in filt:\n",
    "        if len(simp) == 1:\n",
    "            simp_0.append(simp)\n",
    "        if len(simp) == 2:\n",
    "            simp_1.append(simp)\n",
    "        if len(simp) == 3:\n",
    "            simp_2.append(simp)\n",
    "        if len(simp) == 4:\n",
    "            simp_3.append(simp)\n",
    "    return simp_0, simp_1, simp_2, simp_3"
   ]
  },
  {
   "cell_type": "code",
   "execution_count": 74,
   "id": "4a3fc192",
   "metadata": {},
   "outputs": [],
   "source": [
    "\n",
    "def boundary_matrix(filt):\n",
    "    # takes a list of simplices, already ordered by filtration value \n",
    "    # (without filtration value included!)\n",
    "    # and outputs boundary matrices D1, D2, D3\n",
    "\n",
    "    # split into differend dimensions of simplices\n",
    "    simp0, simp1, simp2, simp3 = dim_split(filt)\n",
    "\n",
    "    # create first boundary matrix\n",
    "    D1 = np.zeros((len(simp0), len(simp1)))\n",
    "    for s1 in simp1:\n",
    "        j = simp1.index(s1)\n",
    "        for s0 in s1:\n",
    "            i = simp0.index([s0])\n",
    "            D1[i,j] = 1\n",
    "\n",
    "\n",
    "    # create second boundary matrix\n",
    "    D2 = np.zeros((len(simp1), len(simp2)))\n",
    "    for s2 in simp2:\n",
    "        j = simp2.index(s2)\n",
    "        s01, s02, s03 = s2\n",
    "\n",
    "        i = simp1.index([s01, s02])\n",
    "        D2[i,j] = 1\n",
    "        i = simp1.index([s01, s03])\n",
    "        D2[i,j] = 1\n",
    "        i = simp1.index([s02, s03])\n",
    "        D2[i,j] = 1\n",
    "\n",
    "    # create third boundary matrix\n",
    "    D3 = np.zeros((len(simp2), len(simp3)))\n",
    "    for s3 in simp3:\n",
    "        j = simp2.index(s3)\n",
    "        s01, s02, s03, s04 = s3\n",
    "\n",
    "        i = simp1.index([s01, s02, s03])\n",
    "        D2[i,j] = 1\n",
    "        i = simp1.index([s01, s02, s04])\n",
    "        D2[i,j] = 1\n",
    "        i = simp1.index([s01, s03, s04])\n",
    "        D2[i,j] = 1\n",
    "        i = simp1.index([s02, s03, s04])\n",
    "        D2[i,j] = 1\n",
    "    \n",
    "    return D1, D2, D3"
   ]
  },
  {
   "cell_type": "code",
   "execution_count": 75,
   "id": "f21f1706",
   "metadata": {},
   "outputs": [
    {
     "name": "stdout",
     "output_type": "stream",
     "text": [
      "dim C_0 = 9\n",
      "dim Z_0 = 9\n",
      "dim B_0 = 8\n",
      "dim H_0 = 1\n",
      "\n",
      "\n",
      "dim C_1 = 16\n",
      "dim Z_1 = 8\n",
      "dim B_1 = 8\n",
      "dim H_1 = 0\n",
      "\n",
      "\n",
      "dim C_2 = 8\n",
      "dim Z_2 = 0\n",
      "dim B_2 = 0\n",
      "dim H_2 = 0\n",
      "\n",
      "\n",
      "[(0, (0, inf)), (0, (6, 9)), (0, (8, 10)), (0, (1, 11)), (0, (2, 12)), (0, (3, 13)), (0, (4, 14)), (0, (5, 16)), (0, (7, 17)), (1, (21, 25)), (1, (22, 26)), (1, (18, 27)), (1, (20, 28)), (1, (23, 29)), (1, (15, 30)), (1, (24, 31)), (1, (19, 32))]\n"
     ]
    },
    {
     "data": {
      "image/png": "[encoded data removed]",
      "text/plain": [
       "<Figure size 432x288 with 1 Axes>"
      ]
     },
     "metadata": {
      "needs_background": "light"
     },
     "output_type": "display_data"
    }
   ],
   "source": [
    "simplex_tree.get_filtration()\n",
    "filt = k_sub(simplex_tree.get_filtration())\n",
    "\n",
    "D1, D2, D3 = boundary_matrix(filt)\n",
    "PH(D1,D2,D3)\n"
   ]
  },
  {
   "cell_type": "markdown",
   "id": "ae480c5d",
   "metadata": {},
   "source": [
    "### Next To-Dos\n",
    "\n",
    "I think I need to calculate the complex myself, because when I take the computed filtration, I have a hard time knowing which point corresponds to which 0-simplex, and thus I can't do the torus identifications.\n",
    "My goal now will be to implement the algorithm as described on the page \n",
    "\n",
    "    https://gudhi.inria.fr/python/latest/alpha_complex_user.html\n",
    "\n",
    "for the $\\alpha$-complex. I should be able to adapt that without too much thinking, and in the end I know exactly what I am working with. \n",
    "\n",
    "Having a filtration, I can then go in and identify the simplices. There has to be some kind of \"arbitrary\" order when the complex values are generated for the 0-simplices, because the points are points from the very beginning. One way to work would be to have a deterministic order, which goes from tile to tile in my 9x9 grid, and in each tile also does something deterministic, but I don't care what exactly. Then I can identify simplex 7 with simplex 7+N, where N is the number of points in a cell, as well as with 7+2N, 7+3N, etc. \n",
    "\n",
    "Now, what to do with the filtration values. There are different scenarios:\n",
    "* If the new simplex is already in the filtration, keep the one with the lower filtration value, and delete the other one (by construction of the abstract complex, there can't be two \"connections\")\n",
    "* If the new simplex has not been part of the filtration, just keep it. \n",
    "\n",
    "I think this should do it. After having the filtration, my boundary matrix algorithm should be able to handle it without any new problems, because it does not care about the geometric embedding. "
   ]
  },
  {
   "cell_type": "code",
   "execution_count": 80,
   "id": "3942b11e",
   "metadata": {},
   "outputs": [],
   "source": [
    "\n",
    "# \"filtration\" stores the simplices with their integer labels \n",
    "# and their corresponding appearence time in the filtration\n",
    "filtration = simplex_tree.get_filtration()\n",
    "\n",
    "# \"geometric\" is a list of all (duplicated) points/vertices, \n",
    "# ordered in the way they appear in the filtration\n",
    "# i.e. the 0-simplex [i] corresponds to the point geometric(i).\n",
    "\n",
    "# N is the number of points in main cell\n",
    "\n",
    "# Since we get a rounding error when duplicating the points originally,\n",
    "# and the atoms are specified up to 4 decimal places\n",
    "# we will round the geometric position to 10 decimal places\n",
    "round_list = lambda l: [round(l[0],10),round(l[1],10)]\n",
    "\n",
    "geometric = [round_list(alpha_complex.get_point(i)) for i in range(N*9)] \n",
    "\n",
    "\n",
    "# 2D torus filtration on unit square\n",
    "\n",
    "# - Iterate through list of geometric values\n",
    "# - Those simplices with geometric values outside of [0,1]**2\n",
    "#   are entered into a list of \"fake\" simplices, as a pair with \n",
    "#   their corresponding \"real\" simplex, i.e. the one which has \n",
    "#   the same coordinates (+- 1, +-1)\n",
    "\n",
    "# - Once we have this list, iterate through the filtration\n",
    "# - Look at the vertices making up each simplex\n",
    "# - If a vertex is in the \"fake\" list, replace it by the noted\n",
    "#   \"real\" vertex\n",
    "\n",
    "# - Once we have done this for every simplex, look for duplicates\n",
    "# - For every duplicate that is found, delete the one with the larger filtration value\n",
    "# - Then look for simplices which are made up of several identical vertices\n",
    "# - delete all of those\n",
    "# - This new list is then the torus-filtration\n",
    "\n"
   ]
  },
  {
   "cell_type": "code",
   "execution_count": 81,
   "id": "c25d9ae2",
   "metadata": {},
   "outputs": [],
   "source": [
    "# - Iterate through list of geometric values\n",
    "# - Those simplices with geometric values outside of [0,1]**2\n",
    "#   are entered into a list of \"fake\" simplices, as a pair with \n",
    "#   their corresponding \"real\" simplex, i.e. the one which has \n",
    "#   the same coordinates (+- 1, +-1)\n",
    "\n",
    "real = []\n",
    "fake = []\n",
    "\n",
    "for i in range(len(geometric)):\n",
    "    x_offset = 0\n",
    "    y_offset = 0\n",
    "    [x,y] = geometric[i]\n",
    "    \n",
    "    if x >= 1:\n",
    "        x_offset = -1\n",
    "    elif x < 0:\n",
    "        x_offset = +1\n",
    "    \n",
    "    if y >= 1:\n",
    "        y_offset = -1\n",
    "    elif y < 0:\n",
    "        y_offset = +1\n",
    "    \n",
    "    if abs(x_offset) == 1 or abs(y_offset) == 1:\n",
    "        x_real = round(x+x_offset,10)\n",
    "        y_real = round(y+y_offset,10)\n",
    "        real_vert = geometric.index([x_real,y_real])\n",
    "        real.append(real_vert)\n",
    "        fake.append(i)\n"
   ]
  },
  {
   "cell_type": "code",
   "execution_count": 78,
   "id": "93cd71a9",
   "metadata": {},
   "outputs": [
    {
     "data": {
      "text/plain": [
       "[([4], 0.0),\n",
       " ([4], 0.0),\n",
       " ([4], 0.0),\n",
       " ([4], 0.0),\n",
       " ([4], 0.0),\n",
       " ([4], 0.0),\n",
       " ([4], 0.0),\n",
       " ([4], 0.0),\n",
       " ([4], 0.0),\n",
       " ([4, 6], 0.25),\n",
       " ([4, 8], 0.25),\n",
       " ([1, 4], 0.2500000000000001),\n",
       " ([2, 4], 0.2500000000000001),\n",
       " ([3, 4], 0.2500000000000001),\n",
       " ([4, 4], 0.2500000000000001),\n",
       " ([4, 4], 0.2500000000000001),\n",
       " ([4, 5], 0.2500000000000001),\n",
       " ([4, 4], 0.2500000000000001),\n",
       " ([4, 7], 0.2500000000000001),\n",
       " ([4, 4], 0.25000000000000017),\n",
       " ([4, 8], 0.25000000000000017),\n",
       " ([4, 4], 0.5000000000000001),\n",
       " ([4, 4, 4], 0.5000000000000001),\n",
       " ([4, 7], 0.5000000000000001),\n",
       " ([4, 4, 7], 0.5000000000000001),\n",
       " ([4, 4, 7], 0.5000000000000001),\n",
       " ([4, 4, 7], 0.5000000000000001),\n",
       " ([3, 4], 0.5000000000000002),\n",
       " ([1, 4, 4], 0.5000000000000002),\n",
       " ([3, 4, 4], 0.5000000000000002),\n",
       " ([4, 4], 0.5000000000000004),\n",
       " ([2, 4, 4], 0.5000000000000004),\n",
       " ([4, 4, 4], 0.5000000000000004)]"
      ]
     },
     "execution_count": 78,
     "metadata": {},
     "output_type": "execute_result"
    }
   ],
   "source": [
    "\"\"\"\n",
    "This doesn't work because everything gets modified in the loop :( \n",
    "Take the next box, there it seems to work ...\n",
    "\"\"\"# - Once we have this list, iterate through the filtration\n",
    "# - Look at the vertices making up each simplex\n",
    "# - If a vertex is in the \"fake\" list, replace it by the noted\n",
    "#   \"real\" vertex\n",
    "\n",
    "aux_filt = filtration.copy()\n",
    "# FOR SOME REASON THE .COPY DOES NOT HELP\n",
    "# MY ORIGINAL FILTRATION IS STILL MODIFIED >:(\n",
    "\n",
    "for i in range(len(filtration)):\n",
    "    simp = (aux_filt[i])[0]\n",
    "    for sigma in simp:\n",
    "        for j in range(len(fake)):\n",
    "            if sigma == fake[j]:\n",
    "                simp.remove(sigma)\n",
    "                simp.append(real[j])\n",
    "    simp.sort()\n",
    "    \n",
    "\n",
    "aux_filt\n"
   ]
  },
  {
   "cell_type": "code",
   "execution_count": 79,
   "id": "842fa8f1",
   "metadata": {},
   "outputs": [
    {
     "data": {
      "text/plain": [
       "[0, 1, 2, 3, 5, 6, 7, 8]"
      ]
     },
     "execution_count": 79,
     "metadata": {},
     "output_type": "execute_result"
    }
   ],
   "source": [
    "fake"
   ]
  },
  {
   "cell_type": "code",
   "execution_count": 83,
   "id": "a837c385",
   "metadata": {},
   "outputs": [
    {
     "data": {
      "text/plain": [
       "[([4], 0.0),\n",
       " ([4], 0.0),\n",
       " ([4], 0.0),\n",
       " ([4], 0.0),\n",
       " ([4], 0.0),\n",
       " ([4], 0.0),\n",
       " ([4], 0.0),\n",
       " ([4], 0.0),\n",
       " ([4], 0.0),\n",
       " ([4, 4], 0.25),\n",
       " ([4, 4], 0.25),\n",
       " ([4, 4], 0.2500000000000001),\n",
       " ([4, 4], 0.2500000000000001),\n",
       " ([4, 4], 0.2500000000000001),\n",
       " ([4, 4], 0.2500000000000001),\n",
       " ([4, 4], 0.2500000000000001),\n",
       " ([4, 4], 0.2500000000000001),\n",
       " ([4, 4], 0.2500000000000001),\n",
       " ([4, 4], 0.2500000000000001),\n",
       " ([4, 4], 0.25000000000000017),\n",
       " ([4, 4], 0.25000000000000017),\n",
       " ([4, 4], 0.5000000000000001),\n",
       " ([4, 4, 4], 0.5000000000000001),\n",
       " ([4, 4], 0.5000000000000001),\n",
       " ([4, 4, 4], 0.5000000000000001),\n",
       " ([4, 4, 4], 0.5000000000000001),\n",
       " ([4, 4, 4], 0.5000000000000001),\n",
       " ([4, 4], 0.5000000000000002),\n",
       " ([4, 4, 4], 0.5000000000000002),\n",
       " ([4, 4, 4], 0.5000000000000002),\n",
       " ([4, 4], 0.5000000000000004),\n",
       " ([4, 4, 4], 0.5000000000000004),\n",
       " ([4, 4, 4], 0.5000000000000004)]"
      ]
     },
     "execution_count": 83,
     "metadata": {},
     "output_type": "execute_result"
    }
   ],
   "source": [
    "# - Once we have this list, iterate through the filtration\n",
    "# - Look at the vertices making up each simplex\n",
    "# - If a vertex is in the \"fake\" list, replace it by the noted\n",
    "#   \"real\" vertex\n",
    "\n",
    "aux_filt = []\n",
    "\n",
    "for i in range(len(filtration)):\n",
    "    simp = (filtration[i])[0]\n",
    "    new_simp = []\n",
    "    for sigma in simp:\n",
    "        if sigma not in fake:\n",
    "            new_simp.append(sigma)\n",
    "        else:\n",
    "            new_simp.append(real[fake.index(sigma)])\n",
    "    new_simp.sort()\n",
    "    aux_filt.append((new_simp, (filtration[i])[1]))\n",
    "        \n",
    "\n",
    "aux_filt\n"
   ]
  },
  {
   "cell_type": "code",
   "execution_count": 84,
   "id": "40f16c69",
   "metadata": {},
   "outputs": [],
   "source": [
    "# - Once we have done this for every simplex, look for duplicates\n",
    "# - For every duplicate that is found, delete the one with the larger filtration value\n",
    "# - Then look for simplices which are made up of several identical vertices\n",
    "# - delete all of those\n",
    "# - This new list is then the torus-filtration\n",
    "\n",
    "periodic_filt = []\n",
    "L = len(periodic_filt)\n",
    "for (simp,val) in aux_filt:\n",
    "    L1 = len(simp)\n",
    "    L2 = len(set(simp)) # set removes duplicates\n",
    "    \n",
    "    if simp not in k_sub(periodic_filt) and L1 == L2:\n",
    "        periodic_filt.append((simp,val))\n",
    "        # As the filtration is already in order of filtration value, \n",
    "        # by adding the new simplices in this order\n",
    "        # we are always getting the one with the smallest value\n",
    "\n",
    "# Next we need to check if a simplex is made up of the same vertex twice or more\n",
    "# (this will happen at least if N=1)"
   ]
  },
  {
   "cell_type": "code",
   "execution_count": 85,
   "id": "b36666a9",
   "metadata": {},
   "outputs": [
    {
     "data": {
      "text/plain": [
       "[([4], 0.0)]"
      ]
     },
     "execution_count": 85,
     "metadata": {},
     "output_type": "execute_result"
    }
   ],
   "source": [
    "periodic_filt"
   ]
  },
  {
   "cell_type": "code",
   "execution_count": 58,
   "id": "63dfac4b",
   "metadata": {},
   "outputs": [],
   "source": [
    "test_list[1]=2"
   ]
  },
  {
   "cell_type": "code",
   "execution_count": 72,
   "id": "03c0f87d",
   "metadata": {},
   "outputs": [
    {
     "data": {
      "text/plain": [
       "[([], 0.0),\n",
       " ([21], 0.0),\n",
       " ([22], 0.0),\n",
       " ([23], 0.0),\n",
       " ([24], 0.0),\n",
       " ([20], 0.0),\n",
       " ([21], 0.0),\n",
       " ([22], 0.0),\n",
       " ([23], 0.0),\n",
       " ([24], 0.0),\n",
       " ([20], 0.0),\n",
       " ([21], 0.0),\n",
       " ([22], 0.0),\n",
       " ([23], 0.0),\n",
       " ([24], 0.0),\n",
       " ([20], 0.0),\n",
       " ([21], 0.0),\n",
       " ([22], 0.0),\n",
       " ([23], 0.0),\n",
       " ([24], 0.0),\n",
       " ([20], 0.0),\n",
       " ([21], 0.0),\n",
       " ([22], 0.0),\n",
       " ([23], 0.0),\n",
       " ([24], 0.0),\n",
       " ([20], 0.0),\n",
       " ([21], 0.0),\n",
       " ([22], 0.0),\n",
       " ([23], 0.0),\n",
       " ([24], 0.0),\n",
       " ([20], 0.0),\n",
       " ([21], 0.0),\n",
       " ([22], 0.0),\n",
       " ([23], 0.0),\n",
       " ([24], 0.0),\n",
       " ([20], 0.0),\n",
       " ([21], 0.0),\n",
       " ([22], 0.0),\n",
       " ([23], 0.0),\n",
       " ([24], 0.0),\n",
       " ([20], 0.0),\n",
       " ([21], 0.0),\n",
       " ([22], 0.0),\n",
       " ([23], 0.0),\n",
       " ([24], 0.0),\n",
       " ([20, 21], 0.005120285987446394),\n",
       " ([20, 21], 0.005120285987446399),\n",
       " ([20, 21], 0.005120285987446399),\n",
       " ([20, 21], 0.005120285987446401),\n",
       " ([20, 21], 0.005120285987446401),\n",
       " ([20, 21], 0.005120285987446405),\n",
       " ([20, 21], 0.0051202859874464055),\n",
       " ([20, 21], 0.0051202859874464055),\n",
       " ([20, 21], 0.0051202859874464055),\n",
       " ([22, 23], 0.007563109151756077),\n",
       " ([22, 23], 0.007563109151756077),\n",
       " ([22, 23], 0.00756310915175608),\n",
       " ([22, 23], 0.00756310915175608),\n",
       " ([22, 23], 0.007563109151756082),\n",
       " ([22, 23], 0.007563109151756082),\n",
       " ([22, 23], 0.007563109151756085),\n",
       " ([22, 23], 0.007563109151756085),\n",
       " ([22, 23], 0.007563109151756089),\n",
       " ([21, 22], 0.009357005665656278),\n",
       " ([21, 22], 0.009357005665656278),\n",
       " ([21, 22], 0.009357005665656278),\n",
       " ([21, 22], 0.009357005665656278),\n",
       " ([21, 22], 0.009357005665656278),\n",
       " ([21, 22], 0.009357005665656278),\n",
       " ([21, 22], 0.009357005665656282),\n",
       " ([21, 22], 0.009357005665656285),\n",
       " ([21, 22], 0.009357005665656285),\n",
       " ([20, 22], 0.020412140845862996),\n",
       " ([20, 22, 21], 0.020412140845862996),\n",
       " ([20, 22], 0.020412140845863014),\n",
       " ([20, 21, 22], 0.020412140845863014),\n",
       " ([20, 22], 0.020412140845863035),\n",
       " ([20, 22, 21], 0.020412140845863035),\n",
       " ([20, 22], 0.02041214084586304),\n",
       " ([20, 22, 21], 0.02041214084586304),\n",
       " ([20, 22], 0.02041214084586305),\n",
       " ([20, 22, 21], 0.02041214084586305),\n",
       " ([20, 22], 0.02041214084586306),\n",
       " ([20, 22, 21], 0.02041214084586306),\n",
       " ([20, 22], 0.0204121408458631),\n",
       " ([20, 22, 21], 0.0204121408458631),\n",
       " ([20, 22], 0.02041214084586312),\n",
       " ([20, 22, 21], 0.02041214084586312),\n",
       " ([20, 22], 0.02041214084586325),\n",
       " ([20, 22, 21], 0.02041214084586325),\n",
       " ([21, 23], 0.036631417577890305),\n",
       " ([21, 23, 22], 0.036631417577890305),\n",
       " ([21, 23], 0.03663141757789034),\n",
       " ([21, 23, 22], 0.03663141757789034),\n",
       " ([21, 23], 0.036631417577890416),\n",
       " ([21, 23, 22], 0.036631417577890416),\n",
       " ([21, 23], 0.03663141757789042),\n",
       " ([21, 23, 22], 0.03663141757789042),\n",
       " ([21, 23], 0.03663141757789052),\n",
       " ([21, 23, 22], 0.03663141757789052),\n",
       " ([21, 23], 0.03663141757789052),\n",
       " ([21, 23, 22], 0.03663141757789052),\n",
       " ([21, 23], 0.036631417577890554),\n",
       " ([21, 22, 23], 0.036631417577890554),\n",
       " ([21, 23], 0.03663141757789057),\n",
       " ([21, 23, 22], 0.03663141757789057),\n",
       " ([21, 23], 0.036631417577890624),\n",
       " ([21, 23, 22], 0.036631417577890624),\n",
       " ([24, 20], 0.05494966788819077),\n",
       " ([24, 20], 0.05494966788819082),\n",
       " ([24, 20], 0.05494966788819082),\n",
       " ([24, 20], 0.05494966788819084),\n",
       " ([20, 24], 0.05494966788819084),\n",
       " ([24, 20], 0.05494966788819084),\n",
       " ([24, 21], 0.056510756989303426),\n",
       " ([24, 21], 0.05651075698930343),\n",
       " ([21, 24], 0.05651075698930343),\n",
       " ([24, 21], 0.05651075698930343),\n",
       " ([24, 21], 0.056510756989303454),\n",
       " ([24, 21], 0.056510756989303454),\n",
       " ([20, 21, 24], 0.05715408433924107),\n",
       " ([24, 21, 20], 0.057154084339241074),\n",
       " ([24, 21, 20], 0.0571540843392411),\n",
       " ([24, 20, 21], 0.05715408433924113),\n",
       " ([24, 21, 20], 0.05715408433924117),\n",
       " ([24, 21, 20], 0.0571540843392412),\n",
       " ([23, 24], 0.06429689288562887),\n",
       " ([24, 23], 0.06429689288562887),\n",
       " ([24, 23], 0.06429689288562887),\n",
       " ([24, 23], 0.06429689288562887),\n",
       " ([20, 23], 0.08032175997265134),\n",
       " ([20, 23], 0.08032175997265134),\n",
       " ([20, 23], 0.08032175997265135),\n",
       " ([23, 20], 0.08032175997265135),\n",
       " ([20, 23], 0.08032175997265135),\n",
       " ([20, 23], 0.08032175997265141),\n",
       " ([24, 23, 20], 0.0899671976905713),\n",
       " ([24, 20, 23], 0.08996719769057138),\n",
       " ([23, 24, 20], 0.0899671976905714),\n",
       " ([20, 24, 23], 0.08996719769057143)]"
      ]
     },
     "execution_count": 72,
     "metadata": {},
     "output_type": "execute_result"
    }
   ],
   "source": [
    "filtration"
   ]
  },
  {
   "cell_type": "code",
   "execution_count": null,
   "id": "06731d6c",
   "metadata": {},
   "outputs": [],
   "source": []
  }
 ],
 "metadata": {
  "kernelspec": {
   "display_name": "Python 3",
   "language": "python",
   "name": "python3"
  },
  "language_info": {
   "codemirror_mode": {
    "name": "ipython",
    "version": 3
   },
   "file_extension": ".py",
   "mimetype": "text/x-python",
   "name": "python",
   "nbconvert_exporter": "python",
   "pygments_lexer": "ipython3",
   "version": "3.7.6"
  },
  "varInspector": {
   "cols": {
    "lenName": 16,
    "lenType": 16,
    "lenVar": 40
   },
   "kernels_config": {
    "python": {
     "delete_cmd_postfix": "",
     "delete_cmd_prefix": "del ",
     "library": "var_list.py",
     "varRefreshCmd": "print(var_dic_list())"
    },
    "r": {
     "delete_cmd_postfix": ") ",
     "delete_cmd_prefix": "rm(",
     "library": "var_list.r",
     "varRefreshCmd": "cat(var_dic_list()) "
    }
   },
   "types_to_exclude": [
    "module",
    "function",
    "builtin_function_or_method",
    "instance",
    "_Feature"
   ],
   "window_display": false
  }
 },
 "nbformat": 4,
 "nbformat_minor": 5
}
