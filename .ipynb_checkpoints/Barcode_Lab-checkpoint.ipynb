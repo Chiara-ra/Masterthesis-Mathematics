{
 "cells": [
  {
   "cell_type": "markdown",
   "id": "6a4bce7d-66f2-4ee2-b754-8cf45f448380",
   "metadata": {},
   "source": [
    "# Barcode Lab\n",
    "### Trying to develop a barcode for PPH\n",
    "\n",
    "In this notebook I want to develop and program a barcode for PPH in 0-homology."
   ]
  },
  {
   "cell_type": "markdown",
   "id": "6c8c3854-a91c-4c5d-b0d5-0c199a7f9835",
   "metadata": {},
   "source": [
    "### First concept:\n",
    "- I want a tree made up of bars. \n",
    "- Each bar is numbered to denote the connected component. \n",
    "- On one side there is an axis / 1d grid showing the integer time steps.\n",
    "- (One can switch from integer timesteps to continuous timesteps, if desired.)\n",
    "- If there is a merger, the corresponding connected components merge into one branch. \n",
    "- If $\\Lambda_0$ changes, this is indicated visually (maybe a horizontal line cutting the bar at this step, or a different style formatting for the bar).\n",
    "- At such a change of $\\Lambda_0$ also the new dimension is indicated in the barcode."
   ]
  },
  {
   "cell_type": "code",
   "execution_count": null,
   "id": "4dd13d98-4819-455c-91d9-8f6b027ee8a7",
   "metadata": {},
   "outputs": [],
   "source": []
  }
 ],
 "metadata": {
  "kernelspec": {
   "display_name": "Python 3",
   "language": "python",
   "name": "python3"
  },
  "language_info": {
   "codemirror_mode": {
    "name": "ipython",
    "version": 3
   },
   "file_extension": ".py",
   "mimetype": "text/x-python",
   "name": "python",
   "nbconvert_exporter": "python",
   "pygments_lexer": "ipython3",
   "version": "3.7.6"
  }
 },
 "nbformat": 4,
 "nbformat_minor": 5
}
