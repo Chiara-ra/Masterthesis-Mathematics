{
 "cells": [
  {
   "cell_type": "code",
   "execution_count": 1,
   "id": "70419cf9-70d1-4736-a5b6-d5cae2368b72",
   "metadata": {},
   "outputs": [
    {
     "data": {
      "text/plain": [
       "array([1., 3., 3., 1.])"
      ]
     },
     "execution_count": 1,
     "metadata": {},
     "output_type": "execute_result"
    },
    {
     "data": {
      "image/png": "[encoded data removed]",
      "text/plain": [
       "<Figure size 648x648 with 1 Axes>"
      ]
     },
     "metadata": {
      "needs_background": "light"
     },
     "output_type": "display_data"
    }
   ],
   "source": [
    "import sys\n",
    "import os\n",
    "\n",
    "SCRIPT_DIR = os.path.dirname(os.path.abspath(\"__file__\"))\n",
    "sys.path.append(os.path.dirname(SCRIPT_DIR))\n",
    "\n",
    "# Test modules\n",
    "from periodic_ph import periodic_ph as pph\n",
    "from periodic_ph import examples    as ex\n",
    "\n",
    "\n",
    "\n",
    "N = 3\n",
    "a, b, c = 1, 1, 1\n",
    "r_points = ex.random_points(N, a, b, c)\n",
    "random_example = pph.PeriodicPersistence(r_points, a=a, b=b, c=c)\n",
    "random_example.calculate_pph()\n",
    "#random_example.describe_evolution()\n",
    "#random_example.plot_evolution(cont_timesteps = True, width=9, height=9)\n",
    "random_example.plot_evolution(cont_timesteps = False, width=9, height=9)\n",
    "random_example.groups.H"
   ]
  },
  {
   "cell_type": "code",
   "execution_count": 2,
   "id": "fbb0cd83-3a90-405e-b35f-e343da60f846",
   "metadata": {},
   "outputs": [
    {
     "data": {
      "text/plain": [
       "[(0, 'a'), (1, 'b'), (2, 'c')]"
      ]
     },
     "execution_count": 2,
     "metadata": {},
     "output_type": "execute_result"
    }
   ],
   "source": [
    "random_example.evolution"
   ]
  },
  {
   "cell_type": "code",
   "execution_count": 3,
   "id": "2273a4d8-f0a2-4e49-9021-30508a0503c9",
   "metadata": {},
   "outputs": [],
   "source": [
    "test_tuple = (3,2,4)\n",
    "test_tuple = list(test_tuple)\n",
    "test_tuple[2] = 5"
   ]
  },
  {
   "cell_type": "code",
   "execution_count": 10,
   "id": "ab816459-ec83-49ce-96a6-89f5e2a395ba",
   "metadata": {},
   "outputs": [
    {
     "data": {
      "text/plain": [
       "[[-2, [6, 34, 71]], [2, [12, 2, 3]]]"
      ]
     },
     "execution_count": 10,
     "metadata": {},
     "output_type": "execute_result"
    }
   ],
   "source": [
    "from operator import itemgetter\n",
    "testlist = [[2,[12,2,3]],[-2,[6,34,71]]]\n",
    "f=itemgetter(1,2)\n",
    "f = lambda x: x[1]\n",
    "sorted(testlist, key=itemgetter(1))"
   ]
  },
  {
   "cell_type": "code",
   "execution_count": 8,
   "id": "1f631a02-fa71-494f-8b88-a1606693aee0",
   "metadata": {},
   "outputs": [
    {
     "name": "stdout",
     "output_type": "stream",
     "text": [
      "abc\n",
      "True\n",
      "False\n"
     ]
    }
   ],
   "source": [
    "from dataclasses import dataclass\n",
    "\n",
    "@dataclass\n",
    "class TestClass:\n",
    "    name: str\n",
    "    \n",
    "test_obj = TestClass(\"abc\")\n",
    "\n",
    "print(test_obj.name)\n",
    "print(isinstance(test_obj, TestClass))\n",
    "print(isinstance(test_obj, type))"
   ]
  },
  {
   "cell_type": "code",
   "execution_count": 6,
   "id": "10e18738-dd10-4c47-b880-3c405a64c019",
   "metadata": {},
   "outputs": [
    {
     "name": "stdout",
     "output_type": "stream",
     "text": [
      "[([0], 0.0), ([1], 0.0), ([0, 1], 3.892500000000001)]\n"
     ]
    },
    {
     "data": {
      "text/plain": [
       "3.8925"
      ]
     },
     "execution_count": 6,
     "metadata": {},
     "output_type": "execute_result"
    }
   ],
   "source": [
    "# example of how gudhi works for thesis \"The Software Package Gudhi\"\n",
    "\n",
    "import gudhi as gd\n",
    "points = [[0.3, 1.7],\n",
    "          [4.2, 1.1]\n",
    "         ]\n",
    "\n",
    "alpha_complex = gd.AlphaComplex(points)\n",
    "simplex_tree = alpha_complex.create_simplex_tree(max_alpha_square=float(\"inf\"))\n",
    "filtration = simplex_tree.get_filtration()   \n",
    "#coo = [alpha_complex.get_point(i) for i in range(len(points_3x3x3))]\n",
    "print(filtration)\n",
    "\n",
    "import numpy as np\n",
    "p0 = np.array(points[0])\n",
    "p1 = np.array(points[1])\n",
    "(np.linalg.norm(p0-p1)/2)**2"
   ]
  },
  {
   "cell_type": "code",
   "execution_count": null,
   "id": "c5c57ac0-c510-4adf-80f7-e3f9bc5180e7",
   "metadata": {},
   "outputs": [],
   "source": []
  }
 ],
 "metadata": {
  "kernelspec": {
   "display_name": "Python 3",
   "language": "python",
   "name": "python3"
  },
  "language_info": {
   "codemirror_mode": {
    "name": "ipython",
    "version": 3
   },
   "file_extension": ".py",
   "mimetype": "text/x-python",
   "name": "python",
   "nbconvert_exporter": "python",
   "pygments_lexer": "ipython3",
   "version": "3.7.6"
  }
 },
 "nbformat": 4,
 "nbformat_minor": 5
}
