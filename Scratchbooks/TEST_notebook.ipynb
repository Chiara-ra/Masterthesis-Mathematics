{
 "cells": [
  {
   "cell_type": "code",
   "execution_count": 1,
   "id": "70419cf9-70d1-4736-a5b6-d5cae2368b72",
   "metadata": {},
   "outputs": [
    {
     "data": {
      "image/png": "[encoded data removed]",
      "text/plain": [
       "<Figure size 648x648 with 1 Axes>"
      ]
     },
     "metadata": {
      "needs_background": "light"
     },
     "output_type": "display_data"
    }
   ],
   "source": [
    "import sys\n",
    "import os\n",
    "\n",
    "SCRIPT_DIR = os.path.dirname(os.path.abspath(\"__file__\"))\n",
    "sys.path.append(os.path.dirname(SCRIPT_DIR))\n",
    "\n",
    "# Test modules\n",
    "from periodic_ph import periodic_ph as pph\n",
    "from periodic_ph import examples    as ex\n",
    "\n",
    "\n",
    "\n",
    "N = 10\n",
    "a, b, c = 1, 1, 1\n",
    "r_points = ex.random_points(N, a, b, c)\n",
    "random_example = pph.PeriodicPersistence(r_points, a=a, b=b, c=c)\n",
    "random_example.calculate_pph()\n",
    "#random_example.describe_evolution()\n",
    "random_example.plot_evolution(cont_timesteps = True, width=9, height=9)\n",
    "#random_example.plot_evolution(cont_timesteps = False, width=9, height=9)\n",
    "#random_example.groups.H"
   ]
  },
  {
   "cell_type": "code",
   "execution_count": 2,
   "id": "fbb0cd83-3a90-405e-b35f-e343da60f846",
   "metadata": {},
   "outputs": [
    {
     "data": {
      "text/plain": [
       "0.05"
      ]
     },
     "execution_count": 2,
     "metadata": {},
     "output_type": "execute_result"
    }
   ],
   "source": [
    "0.2/4"
   ]
  },
  {
   "cell_type": "code",
   "execution_count": 3,
   "id": "2273a4d8-f0a2-4e49-9021-30508a0503c9",
   "metadata": {},
   "outputs": [],
   "source": [
    "test_tuple = (3,2,4)\n",
    "test_tuple = list(test_tuple)\n",
    "test_tuple[2] = 5"
   ]
  },
  {
   "cell_type": "code",
   "execution_count": 10,
   "id": "ab816459-ec83-49ce-96a6-89f5e2a395ba",
   "metadata": {},
   "outputs": [
    {
     "data": {
      "text/plain": [
       "[[-2, [6, 34, 71]], [2, [12, 2, 3]]]"
      ]
     },
     "execution_count": 10,
     "metadata": {},
     "output_type": "execute_result"
    }
   ],
   "source": [
    "from operator import itemgetter\n",
    "testlist = [[2,[12,2,3]],[-2,[6,34,71]]]\n",
    "f=itemgetter(1,2)\n",
    "f = lambda x: x[1]\n",
    "sorted(testlist, key=itemgetter(1))"
   ]
  },
  {
   "cell_type": "code",
   "execution_count": 8,
   "id": "1f631a02-fa71-494f-8b88-a1606693aee0",
   "metadata": {},
   "outputs": [
    {
     "name": "stdout",
     "output_type": "stream",
     "text": [
      "abc\n",
      "True\n",
      "False\n"
     ]
    }
   ],
   "source": [
    "from dataclasses import dataclass\n",
    "\n",
    "@dataclass\n",
    "class TestClass:\n",
    "    name: str\n",
    "    \n",
    "test_obj = TestClass(\"abc\")\n",
    "\n",
    "print(test_obj.name)\n",
    "print(isinstance(test_obj, TestClass))\n",
    "print(isinstance(test_obj, type))"
   ]
  },
  {
   "cell_type": "code",
   "execution_count": 6,
   "id": "10e18738-dd10-4c47-b880-3c405a64c019",
   "metadata": {},
   "outputs": [
    {
     "name": "stdout",
     "output_type": "stream",
     "text": [
      "[([0], 0.0), ([1], 0.0), ([0, 1], 3.892500000000001)]\n"
     ]
    },
    {
     "data": {
      "text/plain": [
       "3.8925"
      ]
     },
     "execution_count": 6,
     "metadata": {},
     "output_type": "execute_result"
    }
   ],
   "source": [
    "# example of how gudhi works for thesis \"The Software Package Gudhi\"\n",
    "\n",
    "import gudhi as gd\n",
    "points = [[0.3, 1.7],\n",
    "          [4.2, 1.1]\n",
    "         ]\n",
    "\n",
    "alpha_complex = gd.AlphaComplex(points)\n",
    "simplex_tree = alpha_complex.create_simplex_tree(max_alpha_square=float(\"inf\"))\n",
    "filtration = simplex_tree.get_filtration()   \n",
    "#coo = [alpha_complex.get_point(i) for i in range(len(points_3x3x3))]\n",
    "print(filtration)\n",
    "\n",
    "import numpy as np\n",
    "p0 = np.array(points[0])\n",
    "p1 = np.array(points[1])\n",
    "(np.linalg.norm(p0-p1)/2)**2"
   ]
  },
  {
   "cell_type": "code",
   "execution_count": 3,
   "id": "c5c57ac0-c510-4adf-80f7-e3f9bc5180e7",
   "metadata": {},
   "outputs": [
    {
     "data": {
      "text/plain": [
       "'3.1.1'"
      ]
     },
     "execution_count": 3,
     "metadata": {},
     "output_type": "execute_result"
    }
   ],
   "source": [
    "import gudhi as gd\n",
    "gd.__version__\n"
   ]
  },
  {
   "cell_type": "code",
   "execution_count": 2,
   "id": "fa5a3b6c-9cc1-486a-88ac-8d1502127638",
   "metadata": {},
   "outputs": [
    {
     "data": {
      "text/plain": [
       "array([[1, 1],\n",
       "       [2, 2],\n",
       "       [3, 3]], dtype=object)"
      ]
     },
     "execution_count": 2,
     "metadata": {},
     "output_type": "execute_result"
    }
   ],
   "source": [
    "import sympy as sp\n",
    "import numpy as np\n",
    "vec1 = np.array((1,2,3))\n",
    "\n",
    "matrix = sp.Matrix([vec1,vec1]).T\n",
    "matrix\n",
    "np.array(matrix)"
   ]
  },
  {
   "cell_type": "code",
   "execution_count": 3,
   "id": "911b7862-d5e0-4f8a-8701-e0430af83412",
   "metadata": {},
   "outputs": [
    {
     "data": {
      "text/plain": [
       "(3, 2)"
      ]
     },
     "execution_count": 3,
     "metadata": {},
     "output_type": "execute_result"
    }
   ],
   "source": [
    "matrix.shape"
   ]
  },
  {
   "cell_type": "code",
   "execution_count": 16,
   "id": "9664456a-13c3-42e0-bd0c-4f1f72d755c4",
   "metadata": {},
   "outputs": [
    {
     "name": "stdout",
     "output_type": "stream",
     "text": [
      "sympy 1.8\n",
      "numpy 1.20.3\n",
      "matplotlib 3.4.2\n",
      "gudhi 3.1.1\n"
     ]
    }
   ],
   "source": [
    "import sympy as sp\n",
    "import numpy as np\n",
    "import matplotlib \n",
    "import dataclasses\n",
    "import random\n",
    "import math\n",
    "import gudhi\n",
    "import copy\n",
    "import operator\n",
    "\n",
    "modules = [sp, np, matplotlib, gudhi]\n",
    "for mod in modules:\n",
    "    print(mod.__name__, mod.__version__)"
   ]
  },
  {
   "cell_type": "code",
   "execution_count": 11,
   "id": "c384be33-f06b-4e0e-8001-342a241f54c0",
   "metadata": {},
   "outputs": [
    {
     "name": "stdout",
     "output_type": "stream",
     "text": [
      "/anaconda3/bin/python\n",
      "3.7.6 (default, Jan  8 2020, 13:42:34) \n",
      "[Clang 4.0.1 (tags/RELEASE_401/final)]\n",
      "sys.version_info(major=3, minor=7, micro=6, releaselevel='final', serial=0)\n"
     ]
    }
   ],
   "source": [
    "import sys\n",
    "print(sys.executable)\n",
    "print(sys.version)\n",
    "print(sys.version_info)"
   ]
  },
  {
   "cell_type": "code",
   "execution_count": 20,
   "id": "036ad832-1ecc-4d87-9030-d6f3c3e25a6c",
   "metadata": {},
   "outputs": [],
   "source": [
    "import sympy as sp\n",
    "from sympy.abc import a, b, c\n",
    "from sympy.solvers.solvers import solve\n",
    "eq = a*sp.Matrix([234,3]) + b*sp.Matrix([23,-6]) - sp.Matrix([23,43])\n",
    "sol = solve(eq, a, b, c)"
   ]
  },
  {
   "cell_type": "code",
   "execution_count": 21,
   "id": "f9350a4b-8eae-4141-a733-37c0c85b8fdb",
   "metadata": {},
   "outputs": [
    {
     "name": "stdout",
     "output_type": "stream",
     "text": [
      "{a: 1127/1473, b: -3331/491}\n",
      "a\n",
      "b\n"
     ]
    }
   ],
   "source": [
    "print(sol)\n",
    "for key in sol:\n",
    "    print(key)"
   ]
  },
  {
   "cell_type": "code",
   "execution_count": 4,
   "id": "b9a620b0-f9a3-4b68-9507-d55ea0f82759",
   "metadata": {},
   "outputs": [],
   "source": [
    "import gudhi as gd\n",
    "points = [[0,0],\n",
    "          [3,1],\n",
    "          [1,3]\n",
    "         ]\n",
    "alpha_complex = gd.AlphaComplex(points)\n",
    "simplex_tree = alpha_complex.create_simplex_tree(max_alpha_square=float(\"inf\"))\n",
    "filtration = simplex_tree.get_filtration()   "
   ]
  },
  {
   "cell_type": "code",
   "execution_count": 5,
   "id": "75e4e652-c7b8-440d-9aa0-20920e41d136",
   "metadata": {},
   "outputs": [
    {
     "data": {
      "text/plain": [
       "[([0], 0.0),\n",
       " ([1], 0.0),\n",
       " ([2], 0.0),\n",
       " ([1, 2], 2.0),\n",
       " ([0, 1], 2.5),\n",
       " ([0, 2], 2.5),\n",
       " ([0, 1, 2], 3.125)]"
      ]
     },
     "execution_count": 5,
     "metadata": {},
     "output_type": "execute_result"
    }
   ],
   "source": [
    "filtration"
   ]
  },
  {
   "cell_type": "code",
   "execution_count": 8,
   "id": "cfd25772-6432-4870-a43b-b7706fffebb2",
   "metadata": {},
   "outputs": [
    {
     "data": {
      "text/plain": [
       "3.125"
      ]
     },
     "execution_count": 8,
     "metadata": {},
     "output_type": "execute_result"
    }
   ],
   "source": [
    "25/8"
   ]
  },
  {
   "cell_type": "markdown",
   "id": "e649c43b-6d04-4251-8557-04b9344febee",
   "metadata": {},
   "source": [
    "# Test new triple knot"
   ]
  },
  {
   "cell_type": "code",
   "execution_count": 3,
   "id": "ae5d37e4-0701-4197-b7a2-906ea4fb25a1",
   "metadata": {},
   "outputs": [
    {
     "ename": "NameError",
     "evalue": "name 'dim' is not defined",
     "output_type": "error",
     "traceback": [
      "\u001b[0;31m---------------------------------------------------------------------------\u001b[0m",
      "\u001b[0;31mNameError\u001b[0m                                 Traceback (most recent call last)",
      "\u001b[0;32m<ipython-input-3-fa5c3470c899>\u001b[0m in \u001b[0;36m<module>\u001b[0;34m\u001b[0m\n\u001b[1;32m     11\u001b[0m \u001b[0;34m\u001b[0m\u001b[0m\n\u001b[1;32m     12\u001b[0m \u001b[0;34m\u001b[0m\u001b[0m\n\u001b[0;32m---> 13\u001b[0;31m \u001b[0mknot_points\u001b[0m \u001b[0;34m=\u001b[0m \u001b[0mex\u001b[0m\u001b[0;34m.\u001b[0m\u001b[0mknot_3D\u001b[0m\u001b[0;34m(\u001b[0m\u001b[0;36m2\u001b[0m\u001b[0;34m,\u001b[0m\u001b[0;36m3\u001b[0m\u001b[0;34m,\u001b[0m\u001b[0;36m5\u001b[0m\u001b[0;34m)\u001b[0m\u001b[0;34m\u001b[0m\u001b[0;34m\u001b[0m\u001b[0m\n\u001b[0m\u001b[1;32m     14\u001b[0m \u001b[0mrandom_example\u001b[0m \u001b[0;34m=\u001b[0m \u001b[0mpph\u001b[0m\u001b[0;34m.\u001b[0m\u001b[0mPeriodicPersistence\u001b[0m\u001b[0;34m(\u001b[0m\u001b[0mknot_points\u001b[0m\u001b[0;34m,\u001b[0m \u001b[0ma\u001b[0m\u001b[0;34m=\u001b[0m\u001b[0;36m1\u001b[0m\u001b[0;34m,\u001b[0m \u001b[0mb\u001b[0m\u001b[0;34m=\u001b[0m\u001b[0;36m1\u001b[0m\u001b[0;34m,\u001b[0m \u001b[0mc\u001b[0m\u001b[0;34m=\u001b[0m\u001b[0;36m1\u001b[0m\u001b[0;34m)\u001b[0m\u001b[0;34m\u001b[0m\u001b[0;34m\u001b[0m\u001b[0m\n\u001b[1;32m     15\u001b[0m \u001b[0mrandom_example\u001b[0m\u001b[0;34m.\u001b[0m\u001b[0mcalculate_pph\u001b[0m\u001b[0;34m(\u001b[0m\u001b[0;34m)\u001b[0m\u001b[0;34m\u001b[0m\u001b[0;34m\u001b[0m\u001b[0m\n",
      "\u001b[0;32m~/Documents/Coding/Masterthesis_Mathematics/periodic_ph/examples.py\u001b[0m in \u001b[0;36mknot_3D\u001b[0;34m(p, q, l, res)\u001b[0m\n\u001b[1;32m     48\u001b[0m     \"\"\"\n\u001b[1;32m     49\u001b[0m \u001b[0;34m\u001b[0m\u001b[0m\n\u001b[0;32m---> 50\u001b[0;31m     \u001b[0;32mif\u001b[0m \u001b[0;34m(\u001b[0m\u001b[0;32mnot\u001b[0m \u001b[0misinstance\u001b[0m\u001b[0;34m(\u001b[0m\u001b[0mdim\u001b[0m\u001b[0;34m,\u001b[0m \u001b[0mint\u001b[0m\u001b[0;34m)\u001b[0m\u001b[0;34m)\u001b[0m \u001b[0;32mor\u001b[0m \u001b[0;34m(\u001b[0m\u001b[0mdim\u001b[0m \u001b[0;32mnot\u001b[0m \u001b[0;32min\u001b[0m \u001b[0;34m[\u001b[0m\u001b[0;36m2\u001b[0m\u001b[0;34m,\u001b[0m\u001b[0;36m3\u001b[0m\u001b[0;34m]\u001b[0m\u001b[0;34m)\u001b[0m\u001b[0;34m:\u001b[0m\u001b[0;34m\u001b[0m\u001b[0;34m\u001b[0m\u001b[0m\n\u001b[0m\u001b[1;32m     51\u001b[0m         \u001b[0;32mraise\u001b[0m \u001b[0mValueError\u001b[0m\u001b[0;34m(\u001b[0m\u001b[0;34mf\"dim needs to be integer 2 or 3, but is {dim}.\"\u001b[0m\u001b[0;34m)\u001b[0m\u001b[0;34m\u001b[0m\u001b[0;34m\u001b[0m\u001b[0m\n\u001b[1;32m     52\u001b[0m     \u001b[0;32melse\u001b[0m\u001b[0;34m:\u001b[0m\u001b[0;34m\u001b[0m\u001b[0;34m\u001b[0m\u001b[0m\n",
      "\u001b[0;31mNameError\u001b[0m: name 'dim' is not defined"
     ]
    }
   ],
   "source": [
    "import sys\n",
    "import os\n",
    "\n",
    "SCRIPT_DIR = os.path.dirname(os.path.abspath(\"__file__\"))\n",
    "sys.path.append(os.path.dirname(SCRIPT_DIR))\n",
    "\n",
    "# Test modules\n",
    "from periodic_ph import periodic_ph as pph\n",
    "from periodic_ph import examples    as ex\n",
    "\n",
    "\n",
    "\n",
    "knot_points = ex.knot_3D(2,3,5)\n",
    "random_example = pph.PeriodicPersistence(knot_points, a=1, b=1, c=1)\n",
    "random_example.calculate_pph()\n",
    "#random_example.describe_evolution()\n",
    "random_example.plot_evolution(cont_timesteps = True, width=9, height=9)\n",
    "#random_example.plot_evolution(cont_timesteps = False, width=9, height=9)\n",
    "#random_example.groups.H"
   ]
  },
  {
   "cell_type": "code",
   "execution_count": null,
   "id": "96c005a9-1735-415a-9fc3-ab46b43412af",
   "metadata": {},
   "outputs": [],
   "source": []
  }
 ],
 "metadata": {
  "kernelspec": {
   "display_name": "Python 3",
   "language": "python",
   "name": "python3"
  },
  "language_info": {
   "codemirror_mode": {
    "name": "ipython",
    "version": 3
   },
   "file_extension": ".py",
   "mimetype": "text/x-python",
   "name": "python",
   "nbconvert_exporter": "python",
   "pygments_lexer": "ipython3",
   "version": "3.7.6"
  }
 },
 "nbformat": 4,
 "nbformat_minor": 5
}
