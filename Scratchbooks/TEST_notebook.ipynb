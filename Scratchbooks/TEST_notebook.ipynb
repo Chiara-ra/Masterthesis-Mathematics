{
 "cells": [
  {
   "cell_type": "code",
   "execution_count": 6,
   "id": "70419cf9-70d1-4736-a5b6-d5cae2368b72",
   "metadata": {},
   "outputs": [
    {
     "data": {
      "text/plain": [
       "array([ 1.,  7., 12.,  6.])"
      ]
     },
     "execution_count": 6,
     "metadata": {},
     "output_type": "execute_result"
    }
   ],
   "source": [
    "import sys\n",
    "import os\n",
    "\n",
    "SCRIPT_DIR = os.path.dirname(os.path.abspath(\"__file__\"))\n",
    "sys.path.append(os.path.dirname(SCRIPT_DIR))\n",
    "\n",
    "# Test modules\n",
    "from periodic_ph import periodic_ph as pph\n",
    "from periodic_ph import examples    as ex\n",
    "\n",
    "\n",
    "\n",
    "N = 1\n",
    "a, b, c = 1, 1, 1\n",
    "r_points = ex.random_points(N, a, b, c)\n",
    "random_example = pph.ExamplePrint(r_points, a=a, b=b, c=c)\n",
    "random_example.calculate_pph()\n",
    "#random_example.describe_evolution()\n",
    "#random_example.plot_evolution(cont_timesteps = True, width=9, height=9)\n",
    "#random_example.plot_evolution(cont_timesteps = False, width=9, height=9)\n",
    "random_example.groups.C"
   ]
  },
  {
   "cell_type": "code",
   "execution_count": null,
   "id": "fbb0cd83-3a90-405e-b35f-e343da60f846",
   "metadata": {},
   "outputs": [],
   "source": [
    "list(enumerate([\"a\",\"b\",\"c\"]))\n"
   ]
  },
  {
   "cell_type": "code",
   "execution_count": null,
   "id": "2273a4d8-f0a2-4e49-9021-30508a0503c9",
   "metadata": {},
   "outputs": [],
   "source": [
    "test_tuple = (3,2,4)\n",
    "test_tuple = list(test_tuple)\n",
    "test_tuple[2] = 5"
   ]
  },
  {
   "cell_type": "code",
   "execution_count": null,
   "id": "ab816459-ec83-49ce-96a6-89f5e2a395ba",
   "metadata": {},
   "outputs": [],
   "source": [
    "from operator import itemgetter\n",
    "testlist = [[2,[12,2,3]],[-2,[6,34,71]]]\n",
    "f=itemgetter(1,2)\n",
    "f = lambda x: x[1]\n",
    "sorted(testlist, key=itemgetter(1))"
   ]
  },
  {
   "cell_type": "code",
   "execution_count": null,
   "id": "1f631a02-fa71-494f-8b88-a1606693aee0",
   "metadata": {},
   "outputs": [],
   "source": []
  }
 ],
 "metadata": {
  "kernelspec": {
   "display_name": "Python 3",
   "language": "python",
   "name": "python3"
  },
  "language_info": {
   "codemirror_mode": {
    "name": "ipython",
    "version": 3
   },
   "file_extension": ".py",
   "mimetype": "text/x-python",
   "name": "python",
   "nbconvert_exporter": "python",
   "pygments_lexer": "ipython3",
   "version": "3.7.6"
  }
 },
 "nbformat": 4,
 "nbformat_minor": 5
}
