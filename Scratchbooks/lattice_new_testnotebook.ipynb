{
 "cells": [
  {
   "cell_type": "code",
   "execution_count": 3,
   "id": "59837d49-7af6-4fca-836b-2b3384ab993d",
   "metadata": {},
   "outputs": [],
   "source": [
    "import numpy as np\n",
    "import sympy as sp\n",
    "import numpy.linalg as la"
   ]
  },
  {
   "cell_type": "code",
   "execution_count": 4,
   "id": "3c6108f3-2cd1-4cbf-b717-c328bc43a2de",
   "metadata": {},
   "outputs": [],
   "source": [
    "vector0 = np.array([2,4,5], dtype=np.int64)\n",
    "vector1 = np.array([4,2,8], dtype=np.int64)\n",
    "old_vectors = [vector0, vector1]\n",
    "new_vector = np.array([6,9,14], dtype=np.int64) # 2*vector1 + .5*vector2"
   ]
  },
  {
   "cell_type": "code",
   "execution_count": 5,
   "id": "d3269336-3d8f-4538-bdf3-cf6758a7d319",
   "metadata": {},
   "outputs": [
    {
     "data": {
      "text/latex": [
       "$\\displaystyle \\left[\\begin{matrix}4\\\\2\\\\8\\end{matrix}\\right]$"
      ],
      "text/plain": [
       "Matrix([\n",
       "[4],\n",
       "[2],\n",
       "[8]])"
      ]
     },
     "execution_count": 5,
     "metadata": {},
     "output_type": "execute_result"
    }
   ],
   "source": [
    "sp.Matrix(vector1)"
   ]
  },
  {
   "cell_type": "code",
   "execution_count": 6,
   "id": "df84854b-f703-4041-9d5c-3645d36eb93c",
   "metadata": {},
   "outputs": [
    {
     "data": {
      "text/plain": [
       "array([[2, 4, 5],\n",
       "       [4, 2, 8],\n",
       "       [4, 2, 8]])"
      ]
     },
     "execution_count": 6,
     "metadata": {},
     "output_type": "execute_result"
    }
   ],
   "source": [
    "np.array([vector0, vector1, vector1])"
   ]
  },
  {
   "cell_type": "code",
   "execution_count": 7,
   "id": "3fa2bf73-117a-4ec4-a30a-ff4e97e7dcc1",
   "metadata": {},
   "outputs": [
    {
     "name": "stdout",
     "output_type": "stream",
     "text": [
      "0 4\n",
      "1 2\n",
      "2 8\n"
     ]
    }
   ],
   "source": [
    "for count, value in enumerate(sp.Matrix(vector1)):\n",
    "    print(count, value)"
   ]
  },
  {
   "cell_type": "code",
   "execution_count": 8,
   "id": "e4e38c42-ca26-4f00-a904-5cc9795e4176",
   "metadata": {},
   "outputs": [
    {
     "ename": "NameError",
     "evalue": "name 'vector2' is not defined",
     "output_type": "error",
     "traceback": [
      "\u001b[0;31m---------------------------------------------------------------------------\u001b[0m",
      "\u001b[0;31mNameError\u001b[0m                                 Traceback (most recent call last)",
      "\u001b[0;32m<ipython-input-8-45e7266cfce3>\u001b[0m in \u001b[0;36m<module>\u001b[0;34m\u001b[0m\n\u001b[0;32m----> 1\u001b[0;31m \u001b[0msp\u001b[0m\u001b[0;34m.\u001b[0m\u001b[0mMatrix\u001b[0m\u001b[0;34m(\u001b[0m\u001b[0;34m[\u001b[0m\u001b[0mvector1\u001b[0m\u001b[0;34m[\u001b[0m\u001b[0;36m2\u001b[0m\u001b[0;34m]\u001b[0m\u001b[0;34m,\u001b[0m \u001b[0mvector2\u001b[0m\u001b[0;34m[\u001b[0m\u001b[0;36m2\u001b[0m\u001b[0;34m]\u001b[0m\u001b[0;34m]\u001b[0m\u001b[0;34m)\u001b[0m\u001b[0;34m\u001b[0m\u001b[0;34m\u001b[0m\u001b[0m\n\u001b[0m",
      "\u001b[0;31mNameError\u001b[0m: name 'vector2' is not defined"
     ]
    }
   ],
   "source": [
    "sp.Matrix([vector1[2], vector2[2]])"
   ]
  },
  {
   "cell_type": "code",
   "execution_count": 9,
   "id": "6b6e22c1-3df6-438a-818e-30696022b77d",
   "metadata": {},
   "outputs": [
    {
     "data": {
      "text/plain": [
       "3"
      ]
     },
     "execution_count": 9,
     "metadata": {},
     "output_type": "execute_result"
    }
   ],
   "source": [
    "len(sp.Matrix(vector1))"
   ]
  },
  {
   "cell_type": "code",
   "execution_count": 10,
   "id": "fc2c501f-7b4e-4b2d-9857-a6dcfc3cf202",
   "metadata": {},
   "outputs": [
    {
     "ename": "NameError",
     "evalue": "name 'vector2' is not defined",
     "output_type": "error",
     "traceback": [
      "\u001b[0;31m---------------------------------------------------------------------------\u001b[0m",
      "\u001b[0;31mNameError\u001b[0m                                 Traceback (most recent call last)",
      "\u001b[0;32m<ipython-input-10-b4ae63d84caa>\u001b[0m in \u001b[0;36m<module>\u001b[0;34m\u001b[0m\n\u001b[1;32m      1\u001b[0m \u001b[0mvector1\u001b[0m \u001b[0;34m=\u001b[0m \u001b[0msp\u001b[0m\u001b[0;34m.\u001b[0m\u001b[0mMatrix\u001b[0m\u001b[0;34m(\u001b[0m\u001b[0mvector1\u001b[0m\u001b[0;34m)\u001b[0m\u001b[0;34m\u001b[0m\u001b[0;34m\u001b[0m\u001b[0m\n\u001b[0;32m----> 2\u001b[0;31m \u001b[0mvector2\u001b[0m \u001b[0;34m=\u001b[0m \u001b[0msp\u001b[0m\u001b[0;34m.\u001b[0m\u001b[0mMatrix\u001b[0m\u001b[0;34m(\u001b[0m\u001b[0mvector2\u001b[0m\u001b[0;34m)\u001b[0m\u001b[0;34m\u001b[0m\u001b[0;34m\u001b[0m\u001b[0m\n\u001b[0m\u001b[1;32m      3\u001b[0m \u001b[0msp\u001b[0m\u001b[0;34m.\u001b[0m\u001b[0mMatrix\u001b[0m\u001b[0;34m(\u001b[0m\u001b[0;34m[\u001b[0m\u001b[0mvector1\u001b[0m\u001b[0;34m.\u001b[0m\u001b[0mT\u001b[0m\u001b[0;34m,\u001b[0m\u001b[0mvector2\u001b[0m\u001b[0;34m.\u001b[0m\u001b[0mT\u001b[0m\u001b[0;34m]\u001b[0m\u001b[0;34m)\u001b[0m\u001b[0;34m.\u001b[0m\u001b[0mT\u001b[0m\u001b[0;34m\u001b[0m\u001b[0;34m\u001b[0m\u001b[0m\n",
      "\u001b[0;31mNameError\u001b[0m: name 'vector2' is not defined"
     ]
    }
   ],
   "source": [
    "vector1 = sp.Matrix(vector1)\n",
    "vector2 = sp.Matrix(vector2)\n",
    "sp.Matrix([vector1.T,vector2.T]).T"
   ]
  },
  {
   "cell_type": "code",
   "execution_count": 11,
   "id": "4f2a5446-8f96-4f33-ad92-912950405c9d",
   "metadata": {},
   "outputs": [
    {
     "ename": "NameError",
     "evalue": "name 'vector2' is not defined",
     "output_type": "error",
     "traceback": [
      "\u001b[0;31m---------------------------------------------------------------------------\u001b[0m",
      "\u001b[0;31mNameError\u001b[0m                                 Traceback (most recent call last)",
      "\u001b[0;32m<ipython-input-11-1dc050dc5651>\u001b[0m in \u001b[0;36m<module>\u001b[0;34m\u001b[0m\n\u001b[0;32m----> 1\u001b[0;31m \u001b[0msp\u001b[0m\u001b[0;34m.\u001b[0m\u001b[0mMatrix\u001b[0m\u001b[0;34m(\u001b[0m\u001b[0;34m[\u001b[0m\u001b[0mvector1\u001b[0m\u001b[0;34m.\u001b[0m\u001b[0mT\u001b[0m\u001b[0;34m,\u001b[0m\u001b[0mvector2\u001b[0m\u001b[0;34m.\u001b[0m\u001b[0mT\u001b[0m\u001b[0;34m]\u001b[0m\u001b[0;34m)\u001b[0m\u001b[0;34m.\u001b[0m\u001b[0mT\u001b[0m\u001b[0;34m[\u001b[0m\u001b[0;34m:\u001b[0m\u001b[0;34m,\u001b[0m\u001b[0;36m0\u001b[0m\u001b[0;34m]\u001b[0m\u001b[0;34m\u001b[0m\u001b[0;34m\u001b[0m\u001b[0m\n\u001b[0m",
      "\u001b[0;31mNameError\u001b[0m: name 'vector2' is not defined"
     ]
    }
   ],
   "source": [
    "sp.Matrix([vector1.T,vector2.T]).T[:,0]"
   ]
  },
  {
   "cell_type": "code",
   "execution_count": 12,
   "id": "6b74b7dd-2240-4f4e-accf-f62f236be22e",
   "metadata": {},
   "outputs": [],
   "source": [
    "import lattice\n",
    "import lattice_new\n",
    "from importlib import reload  \n"
   ]
  },
  {
   "cell_type": "code",
   "execution_count": 13,
   "id": "b2c74309-88ef-4f5d-a018-598ae33dff23",
   "metadata": {},
   "outputs": [
    {
     "name": "stdout",
     "output_type": "stream",
     "text": [
      "[[2 4 5], [ 6  9 14]]\n",
      "[[2 4 5], [ 6  9 14]]\n"
     ]
    }
   ],
   "source": [
    "lattice_new = reload(lattice_new)\n",
    "lattice = reload(lattice)\n",
    "solution_new = lattice_new.reduce_spanning_set_3d(old_vectors, new_vector)\n",
    "solution_old = lattice.reduce_spanning_set_3d(old_vectors, new_vector)\n",
    "sp.pprint(solution_new)\n",
    "sp.pprint(solution_old)"
   ]
  },
  {
   "cell_type": "code",
   "execution_count": 14,
   "id": "c8ecbd18-2ae8-4d14-af8d-811cf5d6573f",
   "metadata": {},
   "outputs": [
    {
     "data": {
      "text/plain": [
       "numpy.ndarray"
      ]
     },
     "execution_count": 14,
     "metadata": {},
     "output_type": "execute_result"
    }
   ],
   "source": [
    "type(solution_new[1])"
   ]
  },
  {
   "cell_type": "code",
   "execution_count": 15,
   "id": "23aba378-22fd-465a-9eca-f23909c39091",
   "metadata": {},
   "outputs": [
    {
     "data": {
      "text/plain": [
       "numpy.int32"
      ]
     },
     "execution_count": 15,
     "metadata": {},
     "output_type": "execute_result"
    }
   ],
   "source": [
    "type(solution_new[0][1])"
   ]
  },
  {
   "cell_type": "code",
   "execution_count": 36,
   "id": "2c33c449-6c77-4e98-80a7-f03e74d6a25b",
   "metadata": {},
   "outputs": [],
   "source": [
    "a = -10\n",
    "b = 10\n",
    "def linearly_independent(vectors):\n",
    "    if len(vectors) == 0:\n",
    "        result = True\n",
    "    elif len(vectors) == 1:\n",
    "        result = (la.norm(vectors[0]) > .1)\n",
    "    elif len(vectors) == 2:\n",
    "        product = np.cross(vectors[0], vectors[1])\n",
    "        result = (la.norm(product) > .1)\n",
    "    elif len(vectors) == 3:\n",
    "        result = (la.det(np.array(vectors)) > .1)\n",
    "    else:\n",
    "        raise ValueError(\"Input basis too large\")\n",
    "    return result\n",
    "\n",
    "def generate_basis(size):\n",
    "    vectors = []\n",
    "    for i in range(size):\n",
    "        vector = np.array(np.random.randint(a,b,(3)),dtype=np.int32)\n",
    "        vectors.append(vector)\n",
    "    while not linearly_independent(vectors):\n",
    "        vectors = generate_basis(size)\n",
    "    return vectors\n",
    "\n",
    "def trivial_case():\n",
    "    base_size = np.random.randint(0,3)\n",
    "    old_vectors = generate_basis(base_size)\n",
    "    new_vector = np.zeros(3, dtype=np.int32)\n",
    "    return old_vectors, new_vector\n",
    "\n",
    "def case1a():\n",
    "    # in some cases could be trivial\n",
    "    base_size = 1\n",
    "    old_vectors = generate_basis(base_size)\n",
    "    new_vector = np.random.randint(-5,5)*old_vectors[0]\n",
    "    return old_vectors, new_vector\n",
    "\n",
    "def case1b():\n",
    "    # in some cases could be 1a\n",
    "    base_size = 1\n",
    "    old_vectors = generate_basis(base_size)\n",
    "    new_vector = np.random.randint(a,b,3).astype(np.int32)\n",
    "    return old_vectors, new_vector\n",
    "\n",
    "def case2a():\n",
    "    # in some cases could be trivial\n",
    "    base_size = 2\n",
    "    old_vectors = generate_basis(base_size)\n",
    "    new_vector = np.random.randint(-5,5)*old_vectors[0] + np.random.randint(-5,5)*old_vectors[1] \n",
    "    return old_vectors, new_vector\n",
    "\n",
    "def case2b():\n",
    "    # in some cases could be trivial\n",
    "    base_size = 2\n",
    "    old_vectors = generate_basis(base_size)\n",
    "    new_vector = np.random.randint(a,b,3).astype(np.int32)\n",
    "    return old_vectors, new_vector\n",
    "\n",
    "def case3():\n",
    "    base_size = 3\n",
    "    old_vectors = generate_basis(base_size)\n",
    "    new_vector = np.random.randint(a,b,3).astype(np.int32)\n",
    "    return old_vectors, new_vector\n",
    "    \n",
    "def test_case(case):\n",
    "    old_vectors, new_vector = case()\n",
    "    try:\n",
    "        solution_new = lattice_new.reduce_spanning_set_3d(old_vectors, new_vector)\n",
    "    except Exception as e:\n",
    "        print(old_vectors, new_vector)\n",
    "        print(e)\n",
    "        return\n",
    "    solution_old = lattice.reduce_spanning_set_3d(old_vectors, new_vector)\n",
    "    #sp.pprint(solution_new)\n",
    "    #sp.pprint(solution_old)\n",
    "    error = 0\n",
    "    for vector1, vector2 in zip(*[solution_new, solution_old]):\n",
    "        difference = (vector1-vector2).astype(float)\n",
    "        error += la.norm(difference)\n",
    "    if error > 1e-6:\n",
    "        print(f\"input vectors:\\n{old_vectors}\\n{new_vector}\\n\")\n",
    "        print(f\"resulting spanning set old:\\n{solution_old}\\n\")\n",
    "        print(f\"resulting spanning set new:\\n{solution_new}\\n\")\n",
    "        print(f\"vectors in question:\\n{vector1} vs {vector2}\")\n",
    "        print(f\"error = {error}\")\n",
    "        raise ValueError(\"Vectors don't match\")\n",
    "    \n",
    "    "
   ]
  },
  {
   "cell_type": "code",
   "execution_count": 37,
   "id": "318e0182-9a2c-4ebb-b5c7-4a5b980b7cbb",
   "metadata": {},
   "outputs": [
    {
     "data": {
      "text/plain": [
       "[array([-532, -444,  214], dtype=int32),\n",
       " array([1, 3, 6], dtype=int32),\n",
       " array([-10,  -7,   8], dtype=int32)]"
      ]
     },
     "execution_count": 37,
     "metadata": {},
     "output_type": "execute_result"
    }
   ],
   "source": [
    "lattice_new = reload(lattice_new)\n",
    "lattice = reload(lattice)\n",
    "old_vectors, new_vector = case3()\n",
    "lattice_new.reduce_spanning_set_3d(old_vectors, new_vector)"
   ]
  },
  {
   "cell_type": "code",
   "execution_count": 38,
   "id": "0da99b91-428c-460c-84d1-5d5018d4b27a",
   "metadata": {
    "tags": []
   },
   "outputs": [],
   "source": [
    "lattice_new = reload(lattice_new)\n",
    "lattice = reload(lattice)\n",
    "for i in range(10000):\n",
    "    test_case(trivial_case)\n",
    "    test_case(case1a)\n",
    "    test_case(case1b)\n",
    "    test_case(case2a)\n",
    "    test_case(case2b)\n",
    "    test_case(case3)"
   ]
  },
  {
   "cell_type": "code",
   "execution_count": 32,
   "id": "2fed5f66-a43b-4b9c-8f01-553f3d972228",
   "metadata": {},
   "outputs": [
    {
     "name": "stdout",
     "output_type": "stream",
     "text": [
      "abc\n",
      "[array([ 7, -6, -3], dtype=int32), array([-6, -4, -2], dtype=int32), array([-1, -1, -1], dtype=int32)]\n",
      "\n",
      "[array([ 7, -6, -3], dtype=int32), array([-6, -4, -2], dtype=int32), array([-1, -1, -1], dtype=int32)]\n"
     ]
    }
   ],
   "source": [
    "lattice_new = reload(lattice_new)\n",
    "lattice = reload(lattice)\n",
    "old_vectors = [np.array([-9, -9, -9], dtype=np.int32), np.array([ 7, -6, -3], dtype=np.int32), np.array([-6, -4, -2], dtype=np.int32)]\n",
    "new_vector = np.array([-10, -10, -10], dtype=np.int32)\n",
    "print(lattice.reduce_spanning_set_3d(old_vectors, new_vector))\n",
    "print()\n",
    "print(lattice_new.reduce_spanning_set_3d(old_vectors, new_vector))"
   ]
  },
  {
   "cell_type": "code",
   "execution_count": null,
   "id": "2d7520d1-5d0b-482e-962a-4d0de0194923",
   "metadata": {},
   "outputs": [],
   "source": []
  }
 ],
 "metadata": {
  "kernelspec": {
   "display_name": "Python 3",
   "language": "python",
   "name": "python3"
  },
  "language_info": {
   "codemirror_mode": {
    "name": "ipython",
    "version": 3
   },
   "file_extension": ".py",
   "mimetype": "text/x-python",
   "name": "python",
   "nbconvert_exporter": "python",
   "pygments_lexer": "ipython3",
   "version": "3.7.6"
  }
 },
 "nbformat": 4,
 "nbformat_minor": 5
}
