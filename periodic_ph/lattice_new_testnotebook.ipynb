{
 "cells": [
  {
   "cell_type": "code",
   "execution_count": 1,
   "id": "59837d49-7af6-4fca-836b-2b3384ab993d",
   "metadata": {},
   "outputs": [],
   "source": [
    "import numpy as np\n",
    "import sympy as sp"
   ]
  },
  {
   "cell_type": "code",
   "execution_count": 5,
   "id": "3c6108f3-2cd1-4cbf-b717-c328bc43a2de",
   "metadata": {},
   "outputs": [
    {
     "name": "stdout",
     "output_type": "stream",
     "text": [
      "[ 6  9 14]\n"
     ]
    }
   ],
   "source": [
    "vector1 = np.array([2,4,5], dtype=np.int64)\n",
    "vector2 = np.array([4,2,8], dtype=np.int64)\n",
    "old_vectors = [vector1, vector2]\n",
    "new_vector = np.array([6,9,14], dtype=np.int64) # 2*vector1 + .5*vector2"
   ]
  },
  {
   "cell_type": "code",
   "execution_count": 3,
   "id": "d3269336-3d8f-4538-bdf3-cf6758a7d319",
   "metadata": {},
   "outputs": [
    {
     "data": {
      "text/latex": [
       "$\\displaystyle \\left[\\begin{matrix}2\\\\4\\\\5\\end{matrix}\\right]$"
      ],
      "text/plain": [
       "Matrix([\n",
       "[2],\n",
       "[4],\n",
       "[5]])"
      ]
     },
     "execution_count": 3,
     "metadata": {},
     "output_type": "execute_result"
    }
   ],
   "source": [
    "sp.Matrix(vector1)"
   ]
  },
  {
   "cell_type": "code",
   "execution_count": 12,
   "id": "afd971e5-41b1-4a1b-ac72-b9bfa4256d73",
   "metadata": {},
   "outputs": [
    {
     "name": "stdout",
     "output_type": "stream",
     "text": [
      "{a: 2, b: 1/2}\n",
      "False\n"
     ]
    }
   ],
   "source": [
    "from sympy.abc import a, b\n",
    "from sympy.solvers.solvers import solve\n",
    "linear_equation = old_vectors[0]*a + old_vectors[1]*b - new_vector\n",
    "solution = solve(linear_equation, a, b)\n",
    "print(solution)\n",
    "try:\n",
    "    if solution[a].q == 1 and solution[b].q == 1:\n",
    "        combination_integer = True\n",
    "except:\n",
    "    pass\n",
    "    \n",
    "print(combination_integer)"
   ]
  },
  {
   "cell_type": "code",
   "execution_count": null,
   "id": "3fa2bf73-117a-4ec4-a30a-ff4e97e7dcc1",
   "metadata": {},
   "outputs": [],
   "source": []
  }
 ],
 "metadata": {
  "kernelspec": {
   "display_name": "Python 3",
   "language": "python",
   "name": "python3"
  },
  "language_info": {
   "codemirror_mode": {
    "name": "ipython",
    "version": 3
   },
   "file_extension": ".py",
   "mimetype": "text/x-python",
   "name": "python",
   "nbconvert_exporter": "python",
   "pygments_lexer": "ipython3",
   "version": "3.7.6"
  }
 },
 "nbformat": 4,
 "nbformat_minor": 5
}
