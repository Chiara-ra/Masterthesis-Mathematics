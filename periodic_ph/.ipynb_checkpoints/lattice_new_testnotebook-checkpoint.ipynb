{
 "cells": [
  {
   "cell_type": "code",
   "execution_count": 1,
   "id": "59837d49-7af6-4fca-836b-2b3384ab993d",
   "metadata": {},
   "outputs": [],
   "source": [
    "import numpy as np\n",
    "import sympy as sp"
   ]
  },
  {
   "cell_type": "code",
   "execution_count": 55,
   "id": "3c6108f3-2cd1-4cbf-b717-c328bc43a2de",
   "metadata": {},
   "outputs": [],
   "source": [
    "vector0 = np.array([2,4,5], dtype=np.int64)\n",
    "vector1 = np.array([4,2,8], dtype=np.int64)\n",
    "old_vectors = [vector0, vector1]\n",
    "new_vector = np.array([6,9,14], dtype=np.int64) # 2*vector1 + .5*vector2"
   ]
  },
  {
   "cell_type": "code",
   "execution_count": 5,
   "id": "d3269336-3d8f-4538-bdf3-cf6758a7d319",
   "metadata": {},
   "outputs": [
    {
     "data": {
      "text/latex": [
       "$\\displaystyle \\left[\\begin{matrix}4\\\\2\\\\8\\end{matrix}\\right]$"
      ],
      "text/plain": [
       "Matrix([\n",
       "[4],\n",
       "[2],\n",
       "[8]])"
      ]
     },
     "execution_count": 5,
     "metadata": {},
     "output_type": "execute_result"
    }
   ],
   "source": [
    "sp.Matrix(vector1)"
   ]
  },
  {
   "cell_type": "code",
   "execution_count": 14,
   "id": "3fa2bf73-117a-4ec4-a30a-ff4e97e7dcc1",
   "metadata": {},
   "outputs": [
    {
     "name": "stdout",
     "output_type": "stream",
     "text": [
      "0 2\n",
      "1 4\n",
      "2 5\n"
     ]
    }
   ],
   "source": [
    "for count, value in enumerate(sp.Matrix(vector1)):\n",
    "    print(count, value)"
   ]
  },
  {
   "cell_type": "code",
   "execution_count": 17,
   "id": "e4e38c42-ca26-4f00-a904-5cc9795e4176",
   "metadata": {},
   "outputs": [
    {
     "data": {
      "text/latex": [
       "$\\displaystyle \\left[\\begin{matrix}5\\\\8\\end{matrix}\\right]$"
      ],
      "text/plain": [
       "Matrix([\n",
       "[5],\n",
       "[8]])"
      ]
     },
     "execution_count": 17,
     "metadata": {},
     "output_type": "execute_result"
    }
   ],
   "source": [
    "sp.Matrix([vector1[2], vector2[2]])"
   ]
  },
  {
   "cell_type": "code",
   "execution_count": 18,
   "id": "6b6e22c1-3df6-438a-818e-30696022b77d",
   "metadata": {},
   "outputs": [
    {
     "data": {
      "text/plain": [
       "3"
      ]
     },
     "execution_count": 18,
     "metadata": {},
     "output_type": "execute_result"
    }
   ],
   "source": [
    "len(sp.Matrix(vector1))"
   ]
  },
  {
   "cell_type": "code",
   "execution_count": 19,
   "id": "fc2c501f-7b4e-4b2d-9857-a6dcfc3cf202",
   "metadata": {},
   "outputs": [
    {
     "data": {
      "text/latex": [
       "$\\displaystyle \\left[\\begin{matrix}2 & 4\\\\4 & 2\\\\5 & 8\\end{matrix}\\right]$"
      ],
      "text/plain": [
       "Matrix([\n",
       "[2, 4],\n",
       "[4, 2],\n",
       "[5, 8]])"
      ]
     },
     "execution_count": 19,
     "metadata": {},
     "output_type": "execute_result"
    }
   ],
   "source": [
    "vector1 = sp.Matrix(vector1)\n",
    "vector2 = sp.Matrix(vector2)\n",
    "sp.Matrix([vector1.T,vector2.T]).T"
   ]
  },
  {
   "cell_type": "code",
   "execution_count": 21,
   "id": "4f2a5446-8f96-4f33-ad92-912950405c9d",
   "metadata": {},
   "outputs": [
    {
     "data": {
      "text/latex": [
       "$\\displaystyle \\left[\\begin{matrix}2\\\\4\\\\5\\end{matrix}\\right]$"
      ],
      "text/plain": [
       "Matrix([\n",
       "[2],\n",
       "[4],\n",
       "[5]])"
      ]
     },
     "execution_count": 21,
     "metadata": {},
     "output_type": "execute_result"
    }
   ],
   "source": [
    "sp.Matrix([vector1.T,vector2.T]).T[:,0]"
   ]
  },
  {
   "cell_type": "code",
   "execution_count": 20,
   "id": "6b74b7dd-2240-4f4e-accf-f62f236be22e",
   "metadata": {},
   "outputs": [],
   "source": [
    "import lattice\n",
    "import lattice_new\n",
    "from importlib import reload  \n"
   ]
  },
  {
   "cell_type": "code",
   "execution_count": 62,
   "id": "b2c74309-88ef-4f5d-a018-598ae33dff23",
   "metadata": {},
   "outputs": [
    {
     "name": "stdout",
     "output_type": "stream",
     "text": [
      "[[2 4 5], [ 6  9 14]]\n",
      "[[2 4 5], [ 6  9 14]]\n"
     ]
    }
   ],
   "source": [
    "lattice_new = reload(lattice_new)\n",
    "lattice = reload(lattice)\n",
    "solution_new = lattice_new.reduce_spanning_set_3d(old_vectors, new_vector)\n",
    "solution_old = lattice.reduce_spanning_set_3d(old_vectors, new_vector)\n",
    "sp.pprint(solution_new)\n",
    "sp.pprint(solution_old)"
   ]
  },
  {
   "cell_type": "code",
   "execution_count": 63,
   "id": "c8ecbd18-2ae8-4d14-af8d-811cf5d6573f",
   "metadata": {},
   "outputs": [
    {
     "data": {
      "text/plain": [
       "numpy.ndarray"
      ]
     },
     "execution_count": 63,
     "metadata": {},
     "output_type": "execute_result"
    }
   ],
   "source": [
    "type(solution_new[1])"
   ]
  },
  {
   "cell_type": "code",
   "execution_count": 64,
   "id": "23aba378-22fd-465a-9eca-f23909c39091",
   "metadata": {},
   "outputs": [
    {
     "data": {
      "text/plain": [
       "numpy.int32"
      ]
     },
     "execution_count": 64,
     "metadata": {},
     "output_type": "execute_result"
    }
   ],
   "source": [
    "type(solution_new[0][1])"
   ]
  },
  {
   "cell_type": "code",
   "execution_count": null,
   "id": "2c33c449-6c77-4e98-80a7-f03e74d6a25b",
   "metadata": {},
   "outputs": [],
   "source": [
    "a = -100\n",
    "b = 100\n",
    "def generate_case1():\n",
    "    base_size = np.random.randint(0,3)\n",
    "    old_vectors = []\n",
    "    for i in range(base_size):\n",
    "        old_vectors.append(np.array(np.random.randint(a,b,(3)),dtype=np.int32))\n",
    "    new_vector = np.zeros(3, dtype=np.int32)"
   ]
  }
 ],
 "metadata": {
  "kernelspec": {
   "display_name": "Python 3",
   "language": "python",
   "name": "python3"
  },
  "language_info": {
   "codemirror_mode": {
    "name": "ipython",
    "version": 3
   },
   "file_extension": ".py",
   "mimetype": "text/x-python",
   "name": "python",
   "nbconvert_exporter": "python",
   "pygments_lexer": "ipython3",
   "version": "3.7.6"
  }
 },
 "nbformat": 4,
 "nbformat_minor": 5
}
