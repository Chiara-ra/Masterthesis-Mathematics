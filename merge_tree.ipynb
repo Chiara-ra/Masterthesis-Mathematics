{
 "cells": [
  {
   "cell_type": "markdown",
   "id": "894a7f73-eff2-4a9f-adb9-626d46f05bdd",
   "metadata": {},
   "source": [
    "# Merge Tree Dummy Plotting Notebook"
   ]
  },
  {
   "cell_type": "code",
   "execution_count": 131,
   "id": "a7462b1f-ec9b-48e3-8aec-d89e96d086d5",
   "metadata": {},
   "outputs": [],
   "source": [
    "import numpy as np\n",
    "from copy import deepcopy\n",
    "import matplotlib.pyplot as plt"
   ]
  },
  {
   "cell_type": "code",
   "execution_count": 108,
   "id": "9dc57c7f-73e8-4923-b211-4074ec6f21ca",
   "metadata": {},
   "outputs": [],
   "source": [
    "# classes from main notebook\n",
    "\n",
    "class Merger:\n",
    "    def __init__(self, merger_info):\n",
    "        self.time = merger_info[1]\n",
    "        self.old_component = merger_info[2]\n",
    "        self.new_component = merger_info[3]\n",
    "    \n",
    "    \n",
    "class StaticSublattice:\n",
    "    def __init__(self, sublattice, time):\n",
    "        self.time = time\n",
    "        self.component = sublattice.component\n",
    "        self.basis_list = sublattice.basis_list\n",
    "        self.basis_matrix = sublattice.basis_matrix # basis unscaled (crossing vectors)\n",
    "        self.dim = len(sublattice.basis_list)\n",
    "        self.det_abs = sublattice.det_abs\n",
    "        self.det_rel = sublattice.det_rel\n",
    "        \n",
    "        \n",
    "        "
   ]
  },
  {
   "cell_type": "code",
   "execution_count": 156,
   "id": "fd703842-ddf1-4109-a18b-753ffc223557",
   "metadata": {},
   "outputs": [],
   "source": [
    "comp0 = [Merger([True, 8, 2, 0]),\n",
    "         Merger([True, 9, 1, 0]),\n",
    "         Merger([True, 9+2, 0, 0])\n",
    "         ]\n",
    "# last merge needs to be added for algorithm to be simplified\n",
    "\n",
    "comp1 = [Merger([True, 6, 3, 1]),\n",
    "         Merger([True, 9, 1, 0])]\n",
    "\n",
    "comp2 = [Merger([True, 4, 5, 2]),\n",
    "         Merger([True, 8, 2, 0])]\n",
    "\n",
    "comp3 = [Merger([True, 3, 4, 3]),\n",
    "         Merger([True, 6, 3, 1])]\n",
    "\n",
    "comp4 = [Merger([True, 2, 6, 4]),\n",
    "         Merger([True, 3, 4, 3])]\n",
    "\n",
    "comp5 = [Merger([True, 1, 7, 5]),\n",
    "         Merger([True, 4, 5, 2])]\n",
    "\n",
    "comp6 = [Merger([True, 2, 6, 4])]\n",
    "\n",
    "comp7 = [Merger([True, 1, 7, 5])]\n",
    "\n",
    "dummy_data = [comp0, comp1, comp2, comp3, comp4, comp5, comp6, comp7]\n"
   ]
  },
  {
   "cell_type": "code",
   "execution_count": 157,
   "id": "7dd18e46-5e66-44e5-b21f-c25d97a24ce0",
   "metadata": {},
   "outputs": [],
   "source": [
    "class MergeOrder:\n",
    "    def __init__(self, data):\n",
    "        self.data_static = deepcopy(data)\n",
    "        self.data = deepcopy(data)\n",
    "        self.R = [] # list of ordered indices\n",
    "        self.current_branch_index = 0\n",
    "        self.current_branch = self.data[0]\n",
    "        \n",
    "    def set_branch(self, index):\n",
    "        self.current_branch_index = index\n",
    "        self.current_branch = self.data[self.current_branch_index]\n",
    "        \n",
    "    def generate_order(self):\n",
    "        self.data = deepcopy(self.data_static)\n",
    "        self.set_branch(0)\n",
    "        \n",
    "        self.iterator()\n",
    "        return self.R\n",
    "    \n",
    "    def iterator(self):\n",
    "        #print()\n",
    "        #print(\"current branch\", self.current_branch_index)\n",
    "        merger_list = self.current_branch[:-1]\n",
    "        if len(merger_list) == 0:\n",
    "            self.R.append(self.current_branch_index)\n",
    "            #print(\"R:\",self.R)\n",
    "            \n",
    "            if self.current_branch_index != 0:\n",
    "                mother_index = self.current_branch[-1].new_component\n",
    "                #print(f\"reached end of branch, switch to next branch on mother branch {mother_index}\")\n",
    "                self.data[mother_index].pop(-2)\n",
    "                self.set_branch(mother_index)\n",
    "                self.iterator()\n",
    "        else:\n",
    "            #print(\"go deeper\")\n",
    "            new_branch_index = merger_list[-1].old_component\n",
    "            #print(\"new branch index\",new_branch_index)\n",
    "            self.set_branch(new_branch_index)\n",
    "            self.iterator()"
   ]
  },
  {
   "cell_type": "code",
   "execution_count": 158,
   "id": "02188565-5bd0-43b2-ba15-65a313f12ef0",
   "metadata": {},
   "outputs": [
    {
     "data": {
      "text/plain": [
       "[6, 4, 3, 1, 7, 5, 2, 0]"
      ]
     },
     "execution_count": 158,
     "metadata": {},
     "output_type": "execute_result"
    }
   ],
   "source": [
    "test = MergeOrder(dummy_data)\n",
    "#print(test.data_static[4])\n",
    "#print(dummy_data[4])\n",
    "test.generate_order()"
   ]
  },
  {
   "cell_type": "code",
   "execution_count": 169,
   "id": "d22f2e82-cd65-4498-91e7-f7cdc2e4f999",
   "metadata": {},
   "outputs": [],
   "source": [
    "def plot_mergetree(data):\n",
    "    fig, ax = plt.subplots()\n",
    "    order = MergeOrder(data).generate_order()\n",
    "    N = len(order)\n",
    "    \n",
    "    # create plot with vertical lines of correct lengths\n",
    "    ax.set_ylabel(\"time steps (integer)\") # for now everything in integer time steps\n",
    "    ax.set_xlabel(\"component\") \n",
    "    ax.set_xticks([i for i in range(N)])\n",
    "    ax.set_xticklabels([str(comp) for comp in order])\n",
    "    \n",
    "    [ax.spines[edge].set_visible(False) for edge in ['top', 'bottom', 'right', 'left']]\n",
    "    for component in range(N):\n",
    "        x1 = order.index(component)\n",
    "        x2 = order.index(data[component][-1].new_component)\n",
    "        age = data[component][-1].time\n",
    "        ax.plot([x1, x1], [0, age], \"black\")\n",
    "        ax.plot([x1, x2], [age, age], \"black\")"
   ]
  },
  {
   "cell_type": "code",
   "execution_count": 170,
   "id": "6d4a14ea-2ae1-47c8-84dd-c23d61604693",
   "metadata": {},
   "outputs": [
    {
     "data": {
      "image/png": "[encoded data removed]",
      "text/plain": [
       "<Figure size 432x288 with 1 Axes>"
      ]
     },
     "metadata": {
      "needs_background": "light"
     },
     "output_type": "display_data"
    }
   ],
   "source": [
    "plot_mergetree(dummy_data)"
   ]
  },
  {
   "cell_type": "markdown",
   "id": "0d36efbd-278d-4aaa-b2dc-06fbc4bf21fc",
   "metadata": {},
   "source": [
    "## To do\n",
    "\n",
    "- **Data Cleaning Pipeline**  \n",
    "We get the data from our Lambda evolution blabla function which also contains sublattice objects, and does not contain the final \"infinite\" element on the 0 component which we need for the algorithm to work.\n",
    "\n",
    "- **Dimension and Coefficient**  \n",
    "Use the information from the sublattice objects to change the color (greyscale) of the graph, as well as the thickness of the lines. Btw, which one is which, again?\n",
    "\n",
    "- **Proportion**  \n",
    "Adjust the x- and y-scaling of the plot so that it is not as squished, or that a user input can be given to choose the squishyness."
   ]
  },
  {
   "cell_type": "code",
   "execution_count": null,
   "id": "d2eafa55-83d3-410c-800a-c43630981947",
   "metadata": {},
   "outputs": [],
   "source": []
  }
 ],
 "metadata": {
  "kernelspec": {
   "display_name": "Python 3",
   "language": "python",
   "name": "python3"
  },
  "language_info": {
   "codemirror_mode": {
    "name": "ipython",
    "version": 3
   },
   "file_extension": ".py",
   "mimetype": "text/x-python",
   "name": "python",
   "nbconvert_exporter": "python",
   "pygments_lexer": "ipython3",
   "version": "3.7.6"
  }
 },
 "nbformat": 4,
 "nbformat_minor": 5
}
